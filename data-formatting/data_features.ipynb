{
 "cells": [
  {
   "cell_type": "code",
   "metadata": {
    "tags": [],
    "cell_id": "00000-6de158c3-dc9d-4483-b6ba-09d1b12cdc72",
    "deepnote_cell_type": "code"
   },
   "source": "# Start writing code here...",
   "outputs": [],
   "execution_count": null
  },
  {
   "cell_type": "markdown",
   "source": "# HCS T4SG NIOSH Project - Week 2 (9/28) Deliverable",
   "metadata": {
    "tags": [],
    "is_collapsed": false,
    "cell_id": "00001-5653b23b-4cfc-4777-b7b5-d559a8ef2c28",
    "deepnote_cell_type": "text-cell-h1"
   }
  },
  {
   "cell_type": "markdown",
   "source": "Notebook to compile data into model-ready format",
   "metadata": {
    "tags": [],
    "is_collapsed": false,
    "cell_id": "00003-42ec6971-f25a-44ca-97a1-7f1a05cc34a0",
    "deepnote_cell_type": "text-cell-p"
   }
  },
  {
   "cell_type": "code",
   "metadata": {
    "tags": [],
    "cell_id": "00003-72662d35-f6bf-4274-b8cf-ab4cd15df6c7",
    "deepnote_to_be_reexecuted": false,
    "source_hash": "f230089a",
    "execution_start": 1633450458244,
    "execution_millis": 750,
    "deepnote_cell_type": "code"
   },
   "source": "import pandas as pd\nimport numpy as np\npath = \"./LabTempTrends.csv\"\ndf = pd.read_csv(path)\ndf.head(10)",
   "outputs": [
    {
     "output_type": "execute_result",
     "execution_count": 62,
     "data": {
      "application/vnd.deepnote.dataframe.v2+json": {
       "row_count": 10,
       "column_count": 40,
       "columns": [
        {
         "name": "TB15",
         "dtype": "object",
         "stats": {
          "unique_count": 10,
          "nan_count": 0,
          "categories": [
           {
            "name": "Time",
            "count": 1
           },
           {
            "name": "4/27/21 1:00:00 PM EDT",
            "count": 1
           },
           {
            "name": "8 others",
            "count": 8
           }
          ]
         }
        },
        {
         "name": "Unnamed: 1",
         "dtype": "object",
         "stats": {
          "unique_count": 9,
          "nan_count": 0,
          "categories": [
           {
            "name": "74.47571",
            "count": 2
           },
           {
            "name": "Trend (deg F)",
            "count": 1
           },
           {
            "name": "7 others",
            "count": 7
           }
          ]
         }
        },
        {
         "name": "T302",
         "dtype": "object",
         "stats": {
          "unique_count": 1,
          "nan_count": 9,
          "categories": [
           {
            "name": "Time",
            "count": 1
           },
           {
            "name": "Missing",
            "count": 9
           }
          ]
         }
        },
        {
         "name": "Unnamed: 3",
         "dtype": "object",
         "stats": {
          "unique_count": 1,
          "nan_count": 9,
          "categories": [
           {
            "name": "Trend (deg F)",
            "count": 1
           },
           {
            "name": "Missing",
            "count": 9
           }
          ]
         }
        },
        {
         "name": "T303",
         "dtype": "object",
         "stats": {
          "unique_count": 10,
          "nan_count": 0,
          "categories": [
           {
            "name": "Time",
            "count": 1
           },
           {
            "name": "4/27/21 12:00:00 PM EDT",
            "count": 1
           },
           {
            "name": "8 others",
            "count": 8
           }
          ]
         }
        },
        {
         "name": "Unnamed: 5",
         "dtype": "object",
         "stats": {
          "unique_count": 10,
          "nan_count": 0,
          "categories": [
           {
            "name": "Trend (deg F)",
            "count": 1
           },
           {
            "name": "71.69919",
            "count": 1
           },
           {
            "name": "8 others",
            "count": 8
           }
          ]
         }
        },
        {
         "name": "T446",
         "dtype": "object",
         "stats": {
          "unique_count": 10,
          "nan_count": 0,
          "categories": [
           {
            "name": "Time",
            "count": 1
           },
           {
            "name": "4/27/21 1:00:00 PM EDT",
            "count": 1
           },
           {
            "name": "8 others",
            "count": 8
           }
          ]
         }
        },
        {
         "name": "Unnamed: 7",
         "dtype": "object",
         "stats": {
          "unique_count": 8,
          "nan_count": 0,
          "categories": [
           {
            "name": "72.0625",
            "count": 2
           },
           {
            "name": "72.01059",
            "count": 2
           },
           {
            "name": "6 others",
            "count": 6
           }
          ]
         }
        },
        {
         "name": "T449",
         "dtype": "object",
         "stats": {
          "unique_count": 10,
          "nan_count": 0,
          "categories": [
           {
            "name": "Time",
            "count": 1
           },
           {
            "name": "4/27/21 1:00:00 PM EDT",
            "count": 1
           },
           {
            "name": "8 others",
            "count": 8
           }
          ]
         }
        },
        {
         "name": "Unnamed: 9",
         "dtype": "object",
         "stats": {
          "unique_count": 8,
          "nan_count": 0,
          "categories": [
           {
            "name": "72.86691",
            "count": 2
           },
           {
            "name": "73.12637",
            "count": 2
           },
           {
            "name": "6 others",
            "count": 6
           }
          ]
         }
        },
        {
         "name": "T454",
         "dtype": "object",
         "stats": {
          "unique_count": 10,
          "nan_count": 0,
          "categories": [
           {
            "name": "Time",
            "count": 1
           },
           {
            "name": "4/27/21 1:00:00 PM EDT",
            "count": 1
           },
           {
            "name": "8 others",
            "count": 8
           }
          ]
         }
        },
        {
         "name": "Unnamed: 11",
         "dtype": "object",
         "stats": {
          "unique_count": 10,
          "nan_count": 0,
          "categories": [
           {
            "name": "Trend (deg F)",
            "count": 1
           },
           {
            "name": "71.9068",
            "count": 1
           },
           {
            "name": "8 others",
            "count": 8
           }
          ]
         }
        },
        {
         "name": "T Building",
         "dtype": "object",
         "stats": {
          "unique_count": 1,
          "nan_count": 9,
          "categories": [
           {
            "name": "Time",
            "count": 1
           },
           {
            "name": "Missing",
            "count": 9
           }
          ]
         }
        },
        {
         "name": "Unnamed: 13",
         "dtype": "object",
         "stats": {
          "unique_count": 1,
          "nan_count": 9,
          "categories": [
           {
            "name": "OUTSIDE HUMIDTY.Trend (RH%)",
            "count": 1
           },
           {
            "name": "Missing",
            "count": 9
           }
          ]
         }
        },
        {
         "name": "T Building.1",
         "dtype": "object",
         "stats": {
          "unique_count": 1,
          "nan_count": 9,
          "categories": [
           {
            "name": "Time",
            "count": 1
           },
           {
            "name": "Missing",
            "count": 9
           }
          ]
         }
        },
        {
         "name": "Unnamed: 15",
         "dtype": "object",
         "stats": {
          "unique_count": 1,
          "nan_count": 9,
          "categories": [
           {
            "name": "OA-T.Trend (deg F)",
            "count": 1
           },
           {
            "name": "Missing",
            "count": 9
           }
          ]
         }
        },
        {
         "name": "T Building.2",
         "dtype": "object",
         "stats": {
          "unique_count": 1,
          "nan_count": 9,
          "categories": [
           {
            "name": "Time",
            "count": 1
           },
           {
            "name": "Missing",
            "count": 9
           }
          ]
         }
        },
        {
         "name": "Unnamed: 17",
         "dtype": "object",
         "stats": {
          "unique_count": 1,
          "nan_count": 9,
          "categories": [
           {
            "name": "OUTSIDE ENTHALPY.Trend (Btu/lb)",
            "count": 1
           },
           {
            "name": "Missing",
            "count": 9
           }
          ]
         }
        },
        {
         "name": "TB01",
         "dtype": "object",
         "stats": {
          "unique_count": 1,
          "nan_count": 9,
          "categories": [
           {
            "name": "Time",
            "count": 1
           },
           {
            "name": "Missing",
            "count": 9
           }
          ]
         }
        },
        {
         "name": "Unnamed: 19",
         "dtype": "object",
         "stats": {
          "unique_count": 1,
          "nan_count": 9,
          "categories": [
           {
            "name": "HUMIDITY %. Trend (%RH)",
            "count": 1
           },
           {
            "name": "Missing",
            "count": 9
           }
          ]
         }
        },
        {
         "name": "T454.1",
         "dtype": "object",
         "stats": {
          "unique_count": 1,
          "nan_count": 9,
          "categories": [
           {
            "name": "Time",
            "count": 1
           },
           {
            "name": "Missing",
            "count": 9
           }
          ]
         }
        },
        {
         "name": "Unnamed: 21",
         "dtype": "object",
         "stats": {
          "unique_count": 1,
          "nan_count": 9,
          "categories": [
           {
            "name": "HUMIDITY %. Trend (%RH)",
            "count": 1
           },
           {
            "name": "Missing",
            "count": 9
           }
          ]
         }
        },
        {
         "name": "H309",
         "dtype": "object",
         "stats": {
          "unique_count": 1,
          "nan_count": 9,
          "categories": [
           {
            "name": "Time",
            "count": 1
           },
           {
            "name": "Missing",
            "count": 9
           }
          ]
         }
        },
        {
         "name": "Unnamed: 23",
         "dtype": "object",
         "stats": {
          "unique_count": 1,
          "nan_count": 9,
          "categories": [
           {
            "name": "Trend (deg F)",
            "count": 1
           },
           {
            "name": "Missing",
            "count": 9
           }
          ]
         }
        },
        {
         "name": "H351",
         "dtype": "object",
         "stats": {
          "unique_count": 1,
          "nan_count": 9,
          "categories": [
           {
            "name": "Time",
            "count": 1
           },
           {
            "name": "Missing",
            "count": 9
           }
          ]
         }
        },
        {
         "name": "Unnamed: 25",
         "dtype": "object",
         "stats": {
          "unique_count": 1,
          "nan_count": 9,
          "categories": [
           {
            "name": "Trend (deg F)",
            "count": 1
           },
           {
            "name": "Missing",
            "count": 9
           }
          ]
         }
        },
        {
         "name": "H355",
         "dtype": "object",
         "stats": {
          "unique_count": 1,
          "nan_count": 9,
          "categories": [
           {
            "name": "Time",
            "count": 1
           },
           {
            "name": "Missing",
            "count": 9
           }
          ]
         }
        },
        {
         "name": "Unnamed: 27",
         "dtype": "object",
         "stats": {
          "unique_count": 1,
          "nan_count": 9,
          "categories": [
           {
            "name": "Trend (deg F)",
            "count": 1
           },
           {
            "name": "Missing",
            "count": 9
           }
          ]
         }
        },
        {
         "name": "H424",
         "dtype": "object",
         "stats": {
          "unique_count": 1,
          "nan_count": 9,
          "categories": [
           {
            "name": "Time",
            "count": 1
           },
           {
            "name": "Missing",
            "count": 9
           }
          ]
         }
        },
        {
         "name": "Unnamed: 29",
         "dtype": "object",
         "stats": {
          "unique_count": 1,
          "nan_count": 9,
          "categories": [
           {
            "name": "Trend (deg F)",
            "count": 1
           },
           {
            "name": "Missing",
            "count": 9
           }
          ]
         }
        },
        {
         "name": "H460",
         "dtype": "object",
         "stats": {
          "unique_count": 1,
          "nan_count": 9,
          "categories": [
           {
            "name": "Time",
            "count": 1
           },
           {
            "name": "Missing",
            "count": 9
           }
          ]
         }
        },
        {
         "name": "Unnamed: 31",
         "dtype": "object",
         "stats": {
          "unique_count": 1,
          "nan_count": 9,
          "categories": [
           {
            "name": "Trend (deg F)",
            "count": 1
           },
           {
            "name": "Missing",
            "count": 9
           }
          ]
         }
        },
        {
         "name": "H309.1",
         "dtype": "object",
         "stats": {
          "unique_count": 1,
          "nan_count": 9,
          "categories": [
           {
            "name": "Time",
            "count": 1
           },
           {
            "name": "Missing",
            "count": 9
           }
          ]
         }
        },
        {
         "name": "Unnamed: 33",
         "dtype": "object",
         "stats": {
          "unique_count": 1,
          "nan_count": 9,
          "categories": [
           {
            "name": "HUMIDITY %. Trend (%RH)",
            "count": 1
           },
           {
            "name": "Missing",
            "count": 9
           }
          ]
         }
        },
        {
         "name": "H353",
         "dtype": "object",
         "stats": {
          "unique_count": 1,
          "nan_count": 9,
          "categories": [
           {
            "name": "Time",
            "count": 1
           },
           {
            "name": "Missing",
            "count": 9
           }
          ]
         }
        },
        {
         "name": "Unnamed: 35",
         "dtype": "object",
         "stats": {
          "unique_count": 1,
          "nan_count": 9,
          "categories": [
           {
            "name": "HUMIDITY %. Trend (%RH)",
            "count": 1
           },
           {
            "name": "Missing",
            "count": 9
           }
          ]
         }
        },
        {
         "name": "H353.1",
         "dtype": "object",
         "stats": {
          "unique_count": 1,
          "nan_count": 9,
          "categories": [
           {
            "name": "Time",
            "count": 1
           },
           {
            "name": "Missing",
            "count": 9
           }
          ]
         }
        },
        {
         "name": "Unnamed: 37",
         "dtype": "object",
         "stats": {
          "unique_count": 1,
          "nan_count": 9,
          "categories": [
           {
            "name": "Trend (deg F)",
            "count": 1
           },
           {
            "name": "Missing",
            "count": 9
           }
          ]
         }
        },
        {
         "name": "TB01.1",
         "dtype": "object",
         "stats": {
          "unique_count": 1,
          "nan_count": 9,
          "categories": [
           {
            "name": "Time",
            "count": 1
           },
           {
            "name": "Missing",
            "count": 9
           }
          ]
         }
        },
        {
         "name": "Unnamed: 39",
         "dtype": "object",
         "stats": {
          "unique_count": 1,
          "nan_count": 9,
          "categories": [
           {
            "name": "Trend (deg F)",
            "count": 1
           },
           {
            "name": "Missing",
            "count": 9
           }
          ]
         }
        },
        {
         "name": "_deepnote_index_column",
         "dtype": "int64"
        }
       ],
       "rows_top": [
        {
         "TB15": "Time",
         "Unnamed: 1": "Trend (deg F)",
         "T302": "Time",
         "Unnamed: 3": "Trend (deg F)",
         "T303": "Time",
         "Unnamed: 5": "Trend (deg F)",
         "T446": "Time",
         "Unnamed: 7": "Trend (deg F)",
         "T449": "Time",
         "Unnamed: 9": "Trend (deg F)",
         "T454": "Time",
         "Unnamed: 11": "Trend (deg F)",
         "T Building": "Time",
         "Unnamed: 13": "OUTSIDE HUMIDTY.Trend (RH%)",
         "T Building.1": "Time",
         "Unnamed: 15": "OA-T.Trend (deg F)",
         "T Building.2": "Time",
         "Unnamed: 17": "OUTSIDE ENTHALPY.Trend (Btu/lb)",
         "TB01": "Time",
         "Unnamed: 19": "HUMIDITY %. Trend (%RH)",
         "T454.1": "Time",
         "Unnamed: 21": "HUMIDITY %. Trend (%RH)",
         "H309": "Time",
         "Unnamed: 23": "Trend (deg F)",
         "H351": "Time",
         "Unnamed: 25": "Trend (deg F)",
         "H355": "Time",
         "Unnamed: 27": "Trend (deg F)",
         "H424": "Time",
         "Unnamed: 29": "Trend (deg F)",
         "H460": "Time",
         "Unnamed: 31": "Trend (deg F)",
         "H309.1": "Time",
         "Unnamed: 33": "HUMIDITY %. Trend (%RH)",
         "H353": "Time",
         "Unnamed: 35": "HUMIDITY %. Trend (%RH)",
         "H353.1": "Time",
         "Unnamed: 37": "Trend (deg F)",
         "TB01.1": "Time",
         "Unnamed: 39": "Trend (deg F)",
         "_deepnote_index_column": 0
        },
        {
         "TB15": "4/27/21 1:00:00 PM EDT",
         "Unnamed: 1": "74.99469",
         "T302": "nan",
         "Unnamed: 3": "nan",
         "T303": "4/27/21 12:00:00 PM EDT",
         "Unnamed: 5": "71.69919",
         "T446": "4/27/21 1:00:00 PM EDT",
         "Unnamed: 7": "72.0625",
         "T449": "4/27/21 1:00:00 PM EDT",
         "Unnamed: 9": "72.86691",
         "T454": "4/27/21 1:00:00 PM EDT",
         "Unnamed: 11": "71.9068",
         "T Building": "nan",
         "Unnamed: 13": "nan",
         "T Building.1": "nan",
         "Unnamed: 15": "nan",
         "T Building.2": "nan",
         "Unnamed: 17": "nan",
         "TB01": "nan",
         "Unnamed: 19": "nan",
         "T454.1": "nan",
         "Unnamed: 21": "nan",
         "H309": "nan",
         "Unnamed: 23": "nan",
         "H351": "nan",
         "Unnamed: 25": "nan",
         "H355": "nan",
         "Unnamed: 27": "nan",
         "H424": "nan",
         "Unnamed: 29": "nan",
         "H460": "nan",
         "Unnamed: 31": "nan",
         "H309.1": "nan",
         "Unnamed: 33": "nan",
         "H353": "nan",
         "Unnamed: 35": "nan",
         "H353.1": "nan",
         "Unnamed: 37": "nan",
         "TB01.1": "nan",
         "Unnamed: 39": "nan",
         "_deepnote_index_column": 1
        },
        {
         "TB15": "4/27/21 2:00:00 PM EDT",
         "Unnamed: 1": "74.29407",
         "T302": "nan",
         "Unnamed: 3": "nan",
         "T303": "4/27/21 1:00:00 PM EDT",
         "Unnamed: 5": "71.7511",
         "T446": "4/27/21 2:00:00 PM EDT",
         "Unnamed: 7": "72.91879",
         "T449": "4/27/21 2:00:00 PM EDT",
         "Unnamed: 9": "72.45172",
         "T454": "4/27/21 2:00:00 PM EDT",
         "Unnamed: 11": "72.45172",
         "T Building": "nan",
         "Unnamed: 13": "nan",
         "T Building.1": "nan",
         "Unnamed: 15": "nan",
         "T Building.2": "nan",
         "Unnamed: 17": "nan",
         "TB01": "nan",
         "Unnamed: 19": "nan",
         "T454.1": "nan",
         "Unnamed: 21": "nan",
         "H309": "nan",
         "Unnamed: 23": "nan",
         "H351": "nan",
         "Unnamed: 25": "nan",
         "H355": "nan",
         "Unnamed: 27": "nan",
         "H424": "nan",
         "Unnamed: 29": "nan",
         "H460": "nan",
         "Unnamed: 31": "nan",
         "H309.1": "nan",
         "Unnamed: 33": "nan",
         "H353": "nan",
         "Unnamed: 35": "nan",
         "H353.1": "nan",
         "Unnamed: 37": "nan",
         "TB01.1": "nan",
         "Unnamed: 39": "nan",
         "_deepnote_index_column": 2
        },
        {
         "TB15": "4/27/21 3:00:00 PM EDT",
         "Unnamed: 1": "74.78711",
         "T302": "nan",
         "Unnamed: 3": "nan",
         "T303": "4/27/21 2:00:00 PM EDT",
         "Unnamed: 5": "71.64728",
         "T446": "4/27/21 3:00:00 PM EDT",
         "Unnamed: 7": "72.0625",
         "T449": "4/27/21 3:00:00 PM EDT",
         "Unnamed: 9": "72.55551",
         "T454": "4/27/21 3:00:00 PM EDT",
         "Unnamed: 11": "72.0625",
         "T Building": "nan",
         "Unnamed: 13": "nan",
         "T Building.1": "nan",
         "Unnamed: 15": "nan",
         "T Building.2": "nan",
         "Unnamed: 17": "nan",
         "TB01": "nan",
         "Unnamed: 19": "nan",
         "T454.1": "nan",
         "Unnamed: 21": "nan",
         "H309": "nan",
         "Unnamed: 23": "nan",
         "H351": "nan",
         "Unnamed: 25": "nan",
         "H355": "nan",
         "Unnamed: 27": "nan",
         "H424": "nan",
         "Unnamed: 29": "nan",
         "H460": "nan",
         "Unnamed: 31": "nan",
         "H309.1": "nan",
         "Unnamed: 33": "nan",
         "H353": "nan",
         "Unnamed: 35": "nan",
         "H353.1": "nan",
         "Unnamed: 37": "nan",
         "TB01.1": "nan",
         "Unnamed: 39": "nan",
         "_deepnote_index_column": 3
        },
        {
         "TB15": "4/27/21 4:00:00 PM EDT",
         "Unnamed: 1": "74.47571",
         "T302": "nan",
         "Unnamed: 3": "nan",
         "T303": "4/27/21 3:00:00 PM EDT",
         "Unnamed: 5": "70.06445",
         "T446": "4/27/21 4:00:00 PM EDT",
         "Unnamed: 7": "72.01059",
         "T449": "4/27/21 4:00:00 PM EDT",
         "Unnamed: 9": "72.71118",
         "T454": "4/27/21 4:00:00 PM EDT",
         "Unnamed: 11": "72.01059",
         "T Building": "nan",
         "Unnamed: 13": "nan",
         "T Building.1": "nan",
         "Unnamed: 15": "nan",
         "T Building.2": "nan",
         "Unnamed: 17": "nan",
         "TB01": "nan",
         "Unnamed: 19": "nan",
         "T454.1": "nan",
         "Unnamed: 21": "nan",
         "H309": "nan",
         "Unnamed: 23": "nan",
         "H351": "nan",
         "Unnamed: 25": "nan",
         "H355": "nan",
         "Unnamed: 27": "nan",
         "H424": "nan",
         "Unnamed: 29": "nan",
         "H460": "nan",
         "Unnamed: 31": "nan",
         "H309.1": "nan",
         "Unnamed: 33": "nan",
         "H353": "nan",
         "Unnamed: 35": "nan",
         "H353.1": "nan",
         "Unnamed: 37": "nan",
         "TB01.1": "nan",
         "Unnamed: 39": "nan",
         "_deepnote_index_column": 4
        },
        {
         "TB15": "4/27/21 5:00:00 PM EDT",
         "Unnamed: 1": "74.47571",
         "T302": "nan",
         "Unnamed: 3": "nan",
         "T303": "4/27/21 4:00:00 PM EDT",
         "Unnamed: 5": "70.583405",
         "T446": "4/27/21 5:00:00 PM EDT",
         "Unnamed: 7": "72.01059",
         "T449": "4/27/21 5:00:00 PM EDT",
         "Unnamed: 9": "72.86691",
         "T454": "4/27/21 5:00:00 PM EDT",
         "Unnamed: 11": "72.14032",
         "T Building": "nan",
         "Unnamed: 13": "nan",
         "T Building.1": "nan",
         "Unnamed: 15": "nan",
         "T Building.2": "nan",
         "Unnamed: 17": "nan",
         "TB01": "nan",
         "Unnamed: 19": "nan",
         "T454.1": "nan",
         "Unnamed: 21": "nan",
         "H309": "nan",
         "Unnamed: 23": "nan",
         "H351": "nan",
         "Unnamed: 25": "nan",
         "H355": "nan",
         "Unnamed: 27": "nan",
         "H424": "nan",
         "Unnamed: 29": "nan",
         "H460": "nan",
         "Unnamed: 31": "nan",
         "H309.1": "nan",
         "Unnamed: 33": "nan",
         "H353": "nan",
         "Unnamed: 35": "nan",
         "H353.1": "nan",
         "Unnamed: 37": "nan",
         "TB01.1": "nan",
         "Unnamed: 39": "nan",
         "_deepnote_index_column": 5
        },
        {
         "TB15": "4/27/21 6:00:00 PM EDT",
         "Unnamed: 1": "74.8909",
         "T302": "nan",
         "Unnamed: 3": "nan",
         "T303": "4/27/21 5:00:00 PM EDT",
         "Unnamed: 5": "70.920746",
         "T446": "4/27/21 6:00:00 PM EDT",
         "Unnamed: 7": "73.12637",
         "T449": "4/27/21 6:00:00 PM EDT",
         "Unnamed: 9": "73.12637",
         "T454": "4/27/21 6:00:00 PM EDT",
         "Unnamed: 11": "72.815",
         "T Building": "nan",
         "Unnamed: 13": "nan",
         "T Building.1": "nan",
         "Unnamed: 15": "nan",
         "T Building.2": "nan",
         "Unnamed: 17": "nan",
         "TB01": "nan",
         "Unnamed: 19": "nan",
         "T454.1": "nan",
         "Unnamed: 21": "nan",
         "H309": "nan",
         "Unnamed: 23": "nan",
         "H351": "nan",
         "Unnamed: 25": "nan",
         "H355": "nan",
         "Unnamed: 27": "nan",
         "H424": "nan",
         "Unnamed: 29": "nan",
         "H460": "nan",
         "Unnamed: 31": "nan",
         "H309.1": "nan",
         "Unnamed: 33": "nan",
         "H353": "nan",
         "Unnamed: 35": "nan",
         "H353.1": "nan",
         "Unnamed: 37": "nan",
         "TB01.1": "nan",
         "Unnamed: 39": "nan",
         "_deepnote_index_column": 6
        },
        {
         "TB15": "4/27/21 7:00:00 PM EDT",
         "Unnamed: 1": "75.20227",
         "T302": "nan",
         "Unnamed: 3": "nan",
         "T303": "4/27/21 6:00:00 PM EDT",
         "Unnamed: 5": "71.28403",
         "T446": "4/27/21 7:00:00 PM EDT",
         "Unnamed: 7": "73.411804",
         "T449": "4/27/21 7:00:00 PM EDT",
         "Unnamed: 9": "72.815",
         "T454": "4/27/21 7:00:00 PM EDT",
         "Unnamed: 11": "73.256134",
         "T Building": "nan",
         "Unnamed: 13": "nan",
         "T Building.1": "nan",
         "Unnamed: 15": "nan",
         "T Building.2": "nan",
         "Unnamed: 17": "nan",
         "TB01": "nan",
         "Unnamed: 19": "nan",
         "T454.1": "nan",
         "Unnamed: 21": "nan",
         "H309": "nan",
         "Unnamed: 23": "nan",
         "H351": "nan",
         "Unnamed: 25": "nan",
         "H355": "nan",
         "Unnamed: 27": "nan",
         "H424": "nan",
         "Unnamed: 29": "nan",
         "H460": "nan",
         "Unnamed: 31": "nan",
         "H309.1": "nan",
         "Unnamed: 33": "nan",
         "H353": "nan",
         "Unnamed: 35": "nan",
         "H353.1": "nan",
         "Unnamed: 37": "nan",
         "TB01.1": "nan",
         "Unnamed: 39": "nan",
         "_deepnote_index_column": 7
        },
        {
         "TB15": "4/27/21 8:00:00 PM EDT",
         "Unnamed: 1": "75.46176",
         "T302": "nan",
         "Unnamed: 3": "nan",
         "T303": "4/27/21 7:00:00 PM EDT",
         "Unnamed: 5": "71.38782",
         "T446": "4/27/21 8:00:00 PM EDT",
         "Unnamed: 7": "73.515594",
         "T449": "4/27/21 8:00:00 PM EDT",
         "Unnamed: 9": "72.24414",
         "T454": "4/27/21 8:00:00 PM EDT",
         "Unnamed: 11": "73.411804",
         "T Building": "nan",
         "Unnamed: 13": "nan",
         "T Building.1": "nan",
         "Unnamed: 15": "nan",
         "T Building.2": "nan",
         "Unnamed: 17": "nan",
         "TB01": "nan",
         "Unnamed: 19": "nan",
         "T454.1": "nan",
         "Unnamed: 21": "nan",
         "H309": "nan",
         "Unnamed: 23": "nan",
         "H351": "nan",
         "Unnamed: 25": "nan",
         "H355": "nan",
         "Unnamed: 27": "nan",
         "H424": "nan",
         "Unnamed: 29": "nan",
         "H460": "nan",
         "Unnamed: 31": "nan",
         "H309.1": "nan",
         "Unnamed: 33": "nan",
         "H353": "nan",
         "Unnamed: 35": "nan",
         "H353.1": "nan",
         "Unnamed: 37": "nan",
         "TB01.1": "nan",
         "Unnamed: 39": "nan",
         "_deepnote_index_column": 8
        },
        {
         "TB15": "4/27/21 9:00:00 PM EDT",
         "Unnamed: 1": "75.53958",
         "T302": "nan",
         "Unnamed: 3": "nan",
         "T303": "4/27/21 8:00:00 PM EDT",
         "Unnamed: 5": "71.07645",
         "T446": "4/27/21 9:00:00 PM EDT",
         "Unnamed: 7": "73.671295",
         "T449": "4/27/21 9:00:00 PM EDT",
         "Unnamed: 9": "73.12637",
         "T454": "4/27/21 9:00:00 PM EDT",
         "Unnamed: 11": "73.567505",
         "T Building": "nan",
         "Unnamed: 13": "nan",
         "T Building.1": "nan",
         "Unnamed: 15": "nan",
         "T Building.2": "nan",
         "Unnamed: 17": "nan",
         "TB01": "nan",
         "Unnamed: 19": "nan",
         "T454.1": "nan",
         "Unnamed: 21": "nan",
         "H309": "nan",
         "Unnamed: 23": "nan",
         "H351": "nan",
         "Unnamed: 25": "nan",
         "H355": "nan",
         "Unnamed: 27": "nan",
         "H424": "nan",
         "Unnamed: 29": "nan",
         "H460": "nan",
         "Unnamed: 31": "nan",
         "H309.1": "nan",
         "Unnamed: 33": "nan",
         "H353": "nan",
         "Unnamed: 35": "nan",
         "H353.1": "nan",
         "Unnamed: 37": "nan",
         "TB01.1": "nan",
         "Unnamed: 39": "nan",
         "_deepnote_index_column": 9
        }
       ],
       "rows_bottom": null
      },
      "text/plain": "                     TB15     Unnamed: 1  T302     Unnamed: 3  \\\n0                    Time  Trend (deg F)  Time  Trend (deg F)   \n1  4/27/21 1:00:00 PM EDT       74.99469   NaN            NaN   \n2  4/27/21 2:00:00 PM EDT       74.29407   NaN            NaN   \n3  4/27/21 3:00:00 PM EDT       74.78711   NaN            NaN   \n4  4/27/21 4:00:00 PM EDT       74.47571   NaN            NaN   \n5  4/27/21 5:00:00 PM EDT       74.47571   NaN            NaN   \n6  4/27/21 6:00:00 PM EDT        74.8909   NaN            NaN   \n7  4/27/21 7:00:00 PM EDT       75.20227   NaN            NaN   \n8  4/27/21 8:00:00 PM EDT       75.46176   NaN            NaN   \n9  4/27/21 9:00:00 PM EDT       75.53958   NaN            NaN   \n\n                      T303     Unnamed: 5                    T446  \\\n0                     Time  Trend (deg F)                    Time   \n1  4/27/21 12:00:00 PM EDT       71.69919  4/27/21 1:00:00 PM EDT   \n2   4/27/21 1:00:00 PM EDT        71.7511  4/27/21 2:00:00 PM EDT   \n3   4/27/21 2:00:00 PM EDT       71.64728  4/27/21 3:00:00 PM EDT   \n4   4/27/21 3:00:00 PM EDT       70.06445  4/27/21 4:00:00 PM EDT   \n5   4/27/21 4:00:00 PM EDT      70.583405  4/27/21 5:00:00 PM EDT   \n6   4/27/21 5:00:00 PM EDT      70.920746  4/27/21 6:00:00 PM EDT   \n7   4/27/21 6:00:00 PM EDT       71.28403  4/27/21 7:00:00 PM EDT   \n8   4/27/21 7:00:00 PM EDT       71.38782  4/27/21 8:00:00 PM EDT   \n9   4/27/21 8:00:00 PM EDT       71.07645  4/27/21 9:00:00 PM EDT   \n\n      Unnamed: 7                    T449     Unnamed: 9  ...  H460  \\\n0  Trend (deg F)                    Time  Trend (deg F)  ...  Time   \n1        72.0625  4/27/21 1:00:00 PM EDT       72.86691  ...   NaN   \n2       72.91879  4/27/21 2:00:00 PM EDT       72.45172  ...   NaN   \n3        72.0625  4/27/21 3:00:00 PM EDT       72.55551  ...   NaN   \n4       72.01059  4/27/21 4:00:00 PM EDT       72.71118  ...   NaN   \n5       72.01059  4/27/21 5:00:00 PM EDT       72.86691  ...   NaN   \n6       73.12637  4/27/21 6:00:00 PM EDT       73.12637  ...   NaN   \n7      73.411804  4/27/21 7:00:00 PM EDT         72.815  ...   NaN   \n8      73.515594  4/27/21 8:00:00 PM EDT       72.24414  ...   NaN   \n9      73.671295  4/27/21 9:00:00 PM EDT       73.12637  ...   NaN   \n\n     Unnamed: 31 H309.1              Unnamed: 33  H353  \\\n0  Trend (deg F)   Time  HUMIDITY %. Trend (%RH)  Time   \n1            NaN    NaN                      NaN   NaN   \n2            NaN    NaN                      NaN   NaN   \n3            NaN    NaN                      NaN   NaN   \n4            NaN    NaN                      NaN   NaN   \n5            NaN    NaN                      NaN   NaN   \n6            NaN    NaN                      NaN   NaN   \n7            NaN    NaN                      NaN   NaN   \n8            NaN    NaN                      NaN   NaN   \n9            NaN    NaN                      NaN   NaN   \n\n               Unnamed: 35 H353.1    Unnamed: 37 TB01.1    Unnamed: 39  \n0  HUMIDITY %. Trend (%RH)   Time  Trend (deg F)   Time  Trend (deg F)  \n1                      NaN    NaN            NaN    NaN            NaN  \n2                      NaN    NaN            NaN    NaN            NaN  \n3                      NaN    NaN            NaN    NaN            NaN  \n4                      NaN    NaN            NaN    NaN            NaN  \n5                      NaN    NaN            NaN    NaN            NaN  \n6                      NaN    NaN            NaN    NaN            NaN  \n7                      NaN    NaN            NaN    NaN            NaN  \n8                      NaN    NaN            NaN    NaN            NaN  \n9                      NaN    NaN            NaN    NaN            NaN  \n\n[10 rows x 40 columns]",
      "text/html": "<div>\n<style scoped>\n    .dataframe tbody tr th:only-of-type {\n        vertical-align: middle;\n    }\n\n    .dataframe tbody tr th {\n        vertical-align: top;\n    }\n\n    .dataframe thead th {\n        text-align: right;\n    }\n</style>\n<table border=\"1\" class=\"dataframe\">\n  <thead>\n    <tr style=\"text-align: right;\">\n      <th></th>\n      <th>TB15</th>\n      <th>Unnamed: 1</th>\n      <th>T302</th>\n      <th>Unnamed: 3</th>\n      <th>T303</th>\n      <th>Unnamed: 5</th>\n      <th>T446</th>\n      <th>Unnamed: 7</th>\n      <th>T449</th>\n      <th>Unnamed: 9</th>\n      <th>...</th>\n      <th>H460</th>\n      <th>Unnamed: 31</th>\n      <th>H309.1</th>\n      <th>Unnamed: 33</th>\n      <th>H353</th>\n      <th>Unnamed: 35</th>\n      <th>H353.1</th>\n      <th>Unnamed: 37</th>\n      <th>TB01.1</th>\n      <th>Unnamed: 39</th>\n    </tr>\n  </thead>\n  <tbody>\n    <tr>\n      <th>0</th>\n      <td>Time</td>\n      <td>Trend (deg F)</td>\n      <td>Time</td>\n      <td>Trend (deg F)</td>\n      <td>Time</td>\n      <td>Trend (deg F)</td>\n      <td>Time</td>\n      <td>Trend (deg F)</td>\n      <td>Time</td>\n      <td>Trend (deg F)</td>\n      <td>...</td>\n      <td>Time</td>\n      <td>Trend (deg F)</td>\n      <td>Time</td>\n      <td>HUMIDITY %. Trend (%RH)</td>\n      <td>Time</td>\n      <td>HUMIDITY %. Trend (%RH)</td>\n      <td>Time</td>\n      <td>Trend (deg F)</td>\n      <td>Time</td>\n      <td>Trend (deg F)</td>\n    </tr>\n    <tr>\n      <th>1</th>\n      <td>4/27/21 1:00:00 PM EDT</td>\n      <td>74.99469</td>\n      <td>NaN</td>\n      <td>NaN</td>\n      <td>4/27/21 12:00:00 PM EDT</td>\n      <td>71.69919</td>\n      <td>4/27/21 1:00:00 PM EDT</td>\n      <td>72.0625</td>\n      <td>4/27/21 1:00:00 PM EDT</td>\n      <td>72.86691</td>\n      <td>...</td>\n      <td>NaN</td>\n      <td>NaN</td>\n      <td>NaN</td>\n      <td>NaN</td>\n      <td>NaN</td>\n      <td>NaN</td>\n      <td>NaN</td>\n      <td>NaN</td>\n      <td>NaN</td>\n      <td>NaN</td>\n    </tr>\n    <tr>\n      <th>2</th>\n      <td>4/27/21 2:00:00 PM EDT</td>\n      <td>74.29407</td>\n      <td>NaN</td>\n      <td>NaN</td>\n      <td>4/27/21 1:00:00 PM EDT</td>\n      <td>71.7511</td>\n      <td>4/27/21 2:00:00 PM EDT</td>\n      <td>72.91879</td>\n      <td>4/27/21 2:00:00 PM EDT</td>\n      <td>72.45172</td>\n      <td>...</td>\n      <td>NaN</td>\n      <td>NaN</td>\n      <td>NaN</td>\n      <td>NaN</td>\n      <td>NaN</td>\n      <td>NaN</td>\n      <td>NaN</td>\n      <td>NaN</td>\n      <td>NaN</td>\n      <td>NaN</td>\n    </tr>\n    <tr>\n      <th>3</th>\n      <td>4/27/21 3:00:00 PM EDT</td>\n      <td>74.78711</td>\n      <td>NaN</td>\n      <td>NaN</td>\n      <td>4/27/21 2:00:00 PM EDT</td>\n      <td>71.64728</td>\n      <td>4/27/21 3:00:00 PM EDT</td>\n      <td>72.0625</td>\n      <td>4/27/21 3:00:00 PM EDT</td>\n      <td>72.55551</td>\n      <td>...</td>\n      <td>NaN</td>\n      <td>NaN</td>\n      <td>NaN</td>\n      <td>NaN</td>\n      <td>NaN</td>\n      <td>NaN</td>\n      <td>NaN</td>\n      <td>NaN</td>\n      <td>NaN</td>\n      <td>NaN</td>\n    </tr>\n    <tr>\n      <th>4</th>\n      <td>4/27/21 4:00:00 PM EDT</td>\n      <td>74.47571</td>\n      <td>NaN</td>\n      <td>NaN</td>\n      <td>4/27/21 3:00:00 PM EDT</td>\n      <td>70.06445</td>\n      <td>4/27/21 4:00:00 PM EDT</td>\n      <td>72.01059</td>\n      <td>4/27/21 4:00:00 PM EDT</td>\n      <td>72.71118</td>\n      <td>...</td>\n      <td>NaN</td>\n      <td>NaN</td>\n      <td>NaN</td>\n      <td>NaN</td>\n      <td>NaN</td>\n      <td>NaN</td>\n      <td>NaN</td>\n      <td>NaN</td>\n      <td>NaN</td>\n      <td>NaN</td>\n    </tr>\n    <tr>\n      <th>5</th>\n      <td>4/27/21 5:00:00 PM EDT</td>\n      <td>74.47571</td>\n      <td>NaN</td>\n      <td>NaN</td>\n      <td>4/27/21 4:00:00 PM EDT</td>\n      <td>70.583405</td>\n      <td>4/27/21 5:00:00 PM EDT</td>\n      <td>72.01059</td>\n      <td>4/27/21 5:00:00 PM EDT</td>\n      <td>72.86691</td>\n      <td>...</td>\n      <td>NaN</td>\n      <td>NaN</td>\n      <td>NaN</td>\n      <td>NaN</td>\n      <td>NaN</td>\n      <td>NaN</td>\n      <td>NaN</td>\n      <td>NaN</td>\n      <td>NaN</td>\n      <td>NaN</td>\n    </tr>\n    <tr>\n      <th>6</th>\n      <td>4/27/21 6:00:00 PM EDT</td>\n      <td>74.8909</td>\n      <td>NaN</td>\n      <td>NaN</td>\n      <td>4/27/21 5:00:00 PM EDT</td>\n      <td>70.920746</td>\n      <td>4/27/21 6:00:00 PM EDT</td>\n      <td>73.12637</td>\n      <td>4/27/21 6:00:00 PM EDT</td>\n      <td>73.12637</td>\n      <td>...</td>\n      <td>NaN</td>\n      <td>NaN</td>\n      <td>NaN</td>\n      <td>NaN</td>\n      <td>NaN</td>\n      <td>NaN</td>\n      <td>NaN</td>\n      <td>NaN</td>\n      <td>NaN</td>\n      <td>NaN</td>\n    </tr>\n    <tr>\n      <th>7</th>\n      <td>4/27/21 7:00:00 PM EDT</td>\n      <td>75.20227</td>\n      <td>NaN</td>\n      <td>NaN</td>\n      <td>4/27/21 6:00:00 PM EDT</td>\n      <td>71.28403</td>\n      <td>4/27/21 7:00:00 PM EDT</td>\n      <td>73.411804</td>\n      <td>4/27/21 7:00:00 PM EDT</td>\n      <td>72.815</td>\n      <td>...</td>\n      <td>NaN</td>\n      <td>NaN</td>\n      <td>NaN</td>\n      <td>NaN</td>\n      <td>NaN</td>\n      <td>NaN</td>\n      <td>NaN</td>\n      <td>NaN</td>\n      <td>NaN</td>\n      <td>NaN</td>\n    </tr>\n    <tr>\n      <th>8</th>\n      <td>4/27/21 8:00:00 PM EDT</td>\n      <td>75.46176</td>\n      <td>NaN</td>\n      <td>NaN</td>\n      <td>4/27/21 7:00:00 PM EDT</td>\n      <td>71.38782</td>\n      <td>4/27/21 8:00:00 PM EDT</td>\n      <td>73.515594</td>\n      <td>4/27/21 8:00:00 PM EDT</td>\n      <td>72.24414</td>\n      <td>...</td>\n      <td>NaN</td>\n      <td>NaN</td>\n      <td>NaN</td>\n      <td>NaN</td>\n      <td>NaN</td>\n      <td>NaN</td>\n      <td>NaN</td>\n      <td>NaN</td>\n      <td>NaN</td>\n      <td>NaN</td>\n    </tr>\n    <tr>\n      <th>9</th>\n      <td>4/27/21 9:00:00 PM EDT</td>\n      <td>75.53958</td>\n      <td>NaN</td>\n      <td>NaN</td>\n      <td>4/27/21 8:00:00 PM EDT</td>\n      <td>71.07645</td>\n      <td>4/27/21 9:00:00 PM EDT</td>\n      <td>73.671295</td>\n      <td>4/27/21 9:00:00 PM EDT</td>\n      <td>73.12637</td>\n      <td>...</td>\n      <td>NaN</td>\n      <td>NaN</td>\n      <td>NaN</td>\n      <td>NaN</td>\n      <td>NaN</td>\n      <td>NaN</td>\n      <td>NaN</td>\n      <td>NaN</td>\n      <td>NaN</td>\n      <td>NaN</td>\n    </tr>\n  </tbody>\n</table>\n<p>10 rows × 40 columns</p>\n</div>"
     },
     "metadata": {}
    }
   ],
   "execution_count": 62
  },
  {
   "cell_type": "code",
   "metadata": {
    "tags": [],
    "cell_id": "00004-a8d2cb49-d7c9-40dd-85df-e34be6dc1626",
    "deepnote_to_be_reexecuted": false,
    "source_hash": "d285ee11",
    "execution_start": 1633450459565,
    "execution_millis": 73,
    "deepnote_cell_type": "code"
   },
   "source": "labs = {}\nTlabGeneral = pd.DataFrame(columns=[])\n\nfor col in df:\n    \n    if 'Unnamed' not in col:\n        temp_col = df.iloc[:,df.columns.get_indexer([col])+1]\n        for a in temp_col:\n            next_col = temp_col[a]\n        col1 = df[col][1:]\n        col2 = next_col[1:]\n\n        if col[:4] in labs:\n            labs[col[:4]][next_col[0]] = col2\n        else:\n\n            df2 = pd.DataFrame(columns=[df[col][0],next_col[0]])\n            df2[df[col][0]] = col1\n            df2[next_col[0]] = col2\n\n            if 'Building' in col:\n                if df[col][0] not in TlabGeneral.columns:\n                    TlabGeneral[df[col][0]] = col1\n                TlabGeneral[next_col[0]] = col2\n\n            else:\n                # commented out building and floor additions because adding from summary table later\n                # df2['Building'] = col[0]\n                # if col[0] == \"T\":\n                #     df2['Floor'] = col[1:3]\n                # if col[0] == \"H\":\n                #     df2['Floor'] = \"1\"\n\n                labs[col[:4]] = df2\nprint(labs)",
   "outputs": [
    {
     "name": "stdout",
     "text": "{'TB15':                         Time Trend (deg F)\n1     4/27/21 1:00:00 PM EDT      74.99469\n2     4/27/21 2:00:00 PM EDT      74.29407\n3     4/27/21 3:00:00 PM EDT      74.78711\n4     4/27/21 4:00:00 PM EDT      74.47571\n5     4/27/21 5:00:00 PM EDT      74.47571\n...                      ...           ...\n3231             9/9/21 3:00          73.5\n3232             9/9/21 4:00          73.5\n3233             9/9/21 5:00          73.5\n3234             9/9/21 6:00          72.7\n3235             9/9/21 7:00          72.7\n\n[3235 rows x 2 columns], 'T302':              Time Trend (deg F)\n1             NaN           NaN\n2             NaN           NaN\n3             NaN           NaN\n4             NaN           NaN\n5             NaN           NaN\n...           ...           ...\n3231  9/9/21 3:00          72.3\n3232  9/9/21 4:00          72.3\n3233  9/9/21 5:00          72.3\n3234  9/9/21 6:00          72.2\n3235  9/9/21 7:00          72.2\n\n[3235 rows x 2 columns], 'T303':                          Time Trend (deg F)\n1     4/27/21 12:00:00 PM EDT      71.69919\n2      4/27/21 1:00:00 PM EDT       71.7511\n3      4/27/21 2:00:00 PM EDT      71.64728\n4      4/27/21 3:00:00 PM EDT      70.06445\n5      4/27/21 4:00:00 PM EDT     70.583405\n...                       ...           ...\n3231              9/9/21 3:00          69.4\n3232              9/9/21 4:00          69.6\n3233              9/9/21 5:00          70.2\n3234              9/9/21 6:00          70.2\n3235              9/9/21 7:00          70.4\n\n[3235 rows x 2 columns], 'T446':                         Time Trend (deg F)\n1     4/27/21 1:00:00 PM EDT       72.0625\n2     4/27/21 2:00:00 PM EDT      72.91879\n3     4/27/21 3:00:00 PM EDT       72.0625\n4     4/27/21 4:00:00 PM EDT      72.01059\n5     4/27/21 5:00:00 PM EDT      72.01059\n...                      ...           ...\n3231             9/9/21 3:00          69.2\n3232             9/9/21 4:00          69.1\n3233             9/9/21 5:00          68.9\n3234             9/9/21 6:00          68.8\n3235             9/9/21 7:00          68.9\n\n[3235 rows x 2 columns], 'T449':                         Time Trend (deg F)\n1     4/27/21 1:00:00 PM EDT      72.86691\n2     4/27/21 2:00:00 PM EDT      72.45172\n3     4/27/21 3:00:00 PM EDT      72.55551\n4     4/27/21 4:00:00 PM EDT      72.71118\n5     4/27/21 5:00:00 PM EDT      72.86691\n...                      ...           ...\n3231             9/9/21 3:00            72\n3232             9/9/21 4:00          71.9\n3233             9/9/21 5:00          71.9\n3234             9/9/21 6:00          71.9\n3235             9/9/21 7:00          71.8\n\n[3235 rows x 2 columns], 'T454':                         Time Trend (deg F) HUMIDITY %. Trend (%RH)\n1     4/27/21 1:00:00 PM EDT       71.9068                     NaN\n2     4/27/21 2:00:00 PM EDT      72.45172                     NaN\n3     4/27/21 3:00:00 PM EDT       72.0625                     NaN\n4     4/27/21 4:00:00 PM EDT      72.01059                     NaN\n5     4/27/21 5:00:00 PM EDT      72.14032                     NaN\n...                      ...           ...                     ...\n3231             9/9/21 3:00          73.8                    60.9\n3232             9/9/21 4:00          73.7                    60.6\n3233             9/9/21 5:00            74                      60\n3234             9/9/21 6:00          74.1                    58.6\n3235             9/9/21 7:00            74                    55.4\n\n[3235 rows x 3 columns], 'TB01':              Time HUMIDITY %. Trend (%RH) Trend (deg F)\n1             NaN                     NaN           NaN\n2             NaN                     NaN           NaN\n3             NaN                     NaN           NaN\n4             NaN                     NaN           NaN\n5             NaN                     NaN           NaN\n...           ...                     ...           ...\n3231  9/9/21 3:00                    57.7          72.7\n3232  9/9/21 4:00                    57.8          72.6\n3233  9/9/21 5:00                    56.7          72.6\n3234  9/9/21 6:00                    56.2          72.6\n3235  9/9/21 7:00                    55.5          72.6\n\n[3235 rows x 3 columns], 'H309':              Time Trend (deg F) HUMIDITY %. Trend (%RH)\n1             NaN           NaN                     NaN\n2             NaN           NaN                     NaN\n3             NaN           NaN                     NaN\n4             NaN           NaN                     NaN\n5             NaN           NaN                     NaN\n...           ...           ...                     ...\n3231  9/9/21 3:00            70                      48\n3232  9/9/21 4:00            70                      47\n3233  9/9/21 5:00            70                      48\n3234  9/9/21 6:00          70.1                      49\n3235  9/9/21 7:00          69.5                      51\n\n[3235 rows x 3 columns], 'H351':              Time Trend (deg F)\n1             NaN           NaN\n2             NaN           NaN\n3             NaN           NaN\n4             NaN           NaN\n5             NaN           NaN\n...           ...           ...\n3231  9/9/21 3:00          69.9\n3232  9/9/21 4:00          69.9\n3233  9/9/21 5:00          69.9\n3234  9/9/21 6:00          69.8\n3235  9/9/21 7:00          69.9\n\n[3235 rows x 2 columns], 'H355':              Time Trend (deg F)\n1             NaN           NaN\n2             NaN           NaN\n3             NaN           NaN\n4             NaN           NaN\n5             NaN           NaN\n...           ...           ...\n3231  9/9/21 3:00          68.7\n3232  9/9/21 4:00          68.7\n3233  9/9/21 5:00          68.7\n3234  9/9/21 6:00          68.6\n3235  9/9/21 7:00          68.6\n\n[3235 rows x 2 columns], 'H424':              Time Trend (deg F)\n1             NaN           NaN\n2             NaN           NaN\n3             NaN           NaN\n4             NaN           NaN\n5             NaN           NaN\n...           ...           ...\n3231  9/9/21 3:00          70.6\n3232  9/9/21 4:00          70.6\n3233  9/9/21 5:00          70.6\n3234  9/9/21 6:00          70.6\n3235  9/9/21 7:00          70.4\n\n[3235 rows x 2 columns], 'H460':              Time Trend (deg F)\n1             NaN           NaN\n2             NaN           NaN\n3             NaN           NaN\n4             NaN           NaN\n5             NaN           NaN\n...           ...           ...\n3231  9/9/21 3:00          71.3\n3232  9/9/21 4:00          71.1\n3233  9/9/21 5:00          70.9\n3234  9/9/21 6:00          70.6\n3235  9/9/21 7:00          69.8\n\n[3235 rows x 2 columns], 'H353':              Time HUMIDITY %. Trend (%RH) Trend (deg F)\n1             NaN                     NaN           NaN\n2             NaN                     NaN           NaN\n3             NaN                     NaN           NaN\n4             NaN                     NaN           NaN\n5             NaN                     NaN           NaN\n...           ...                     ...           ...\n3231  9/9/21 3:00                      60          70.6\n3232  9/9/21 4:00                      59          70.6\n3233  9/9/21 5:00                      59          70.5\n3234  9/9/21 6:00                      60          70.5\n3235  9/9/21 7:00                      58          70.4\n\n[3235 rows x 3 columns]}\n",
     "output_type": "stream"
    }
   ],
   "execution_count": 63
  },
  {
   "cell_type": "code",
   "metadata": {
    "tags": [],
    "cell_id": "00003-8b5220b7-4a13-4131-b061-f5f2b48a17d7",
    "deepnote_to_be_reexecuted": false,
    "source_hash": "386d56f4",
    "execution_start": 1633450460638,
    "execution_millis": 17,
    "deepnote_cell_type": "code"
   },
   "source": "# testing out editing columns\nx = []\nx.extend(range(1, len(df['Unnamed: 5'])))\n\n# labs['TB15']['New Column'] = x\n\nprint(labs['TB01'])",
   "outputs": [
    {
     "name": "stdout",
     "text": "             Time HUMIDITY %. Trend (%RH) Trend (deg F)\n1             NaN                     NaN           NaN\n2             NaN                     NaN           NaN\n3             NaN                     NaN           NaN\n4             NaN                     NaN           NaN\n5             NaN                     NaN           NaN\n...           ...                     ...           ...\n3231  9/9/21 3:00                    57.7          72.7\n3232  9/9/21 4:00                    57.8          72.6\n3233  9/9/21 5:00                    56.7          72.6\n3234  9/9/21 6:00                    56.2          72.6\n3235  9/9/21 7:00                    55.5          72.6\n\n[3235 rows x 3 columns]\n",
     "output_type": "stream"
    }
   ],
   "execution_count": 64
  },
  {
   "cell_type": "code",
   "metadata": {
    "tags": [],
    "cell_id": "00006-7c419ce3-079c-4b1c-8407-0a9fd7de727e",
    "deepnote_to_be_reexecuted": false,
    "source_hash": "377247de",
    "execution_start": 1633450461500,
    "execution_millis": 70,
    "deepnote_cell_type": "code"
   },
   "source": "path = \"./HVACSummary.csv\"\ndf_s = pd.read_csv(path)\ndf_s.head()",
   "outputs": [
    {
     "output_type": "execute_result",
     "execution_count": 65,
     "data": {
      "application/vnd.deepnote.dataframe.v2+json": {
       "row_count": 5,
       "column_count": 14,
       "columns": [
        {
         "name": "LabTitle",
         "dtype": "object",
         "stats": {
          "unique_count": 5,
          "nan_count": 0,
          "categories": [
           {
            "name": "TB15",
            "count": 1
           },
           {
            "name": "T302",
            "count": 1
           },
           {
            "name": "3 others",
            "count": 3
           }
          ]
         }
        },
        {
         "name": "Building",
         "dtype": "object",
         "stats": {
          "unique_count": 1,
          "nan_count": 0,
          "categories": [
           {
            "name": "T",
            "count": 5
           }
          ]
         }
        },
        {
         "name": "Room #",
         "dtype": "object",
         "stats": {
          "unique_count": 5,
          "nan_count": 0,
          "categories": [
           {
            "name": "B-15",
            "count": 1
           },
           {
            "name": "302",
            "count": 1
           },
           {
            "name": "3 others",
            "count": 3
           }
          ]
         }
        },
        {
         "name": "Floor",
         "dtype": "object",
         "stats": {
          "unique_count": 3,
          "nan_count": 0,
          "categories": [
           {
            "name": "3",
            "count": 2
           },
           {
            "name": "4",
            "count": 2
           },
           {
            "name": "B-1",
            "count": 1
           }
          ]
         }
        },
        {
         "name": "Qty of Hoods",
         "dtype": "float64",
         "stats": {
          "unique_count": 1,
          "nan_count": 0,
          "min": "1.0",
          "max": "1.0",
          "histogram": [
           {
            "bin_start": 0.5,
            "bin_end": 0.6,
            "count": 0
           },
           {
            "bin_start": 0.6,
            "bin_end": 0.7,
            "count": 0
           },
           {
            "bin_start": 0.7,
            "bin_end": 0.8,
            "count": 0
           },
           {
            "bin_start": 0.8,
            "bin_end": 0.9,
            "count": 0
           },
           {
            "bin_start": 0.9,
            "bin_end": 1,
            "count": 0
           },
           {
            "bin_start": 1,
            "bin_end": 1.1,
            "count": 5
           },
           {
            "bin_start": 1.1,
            "bin_end": 1.2000000000000002,
            "count": 0
           },
           {
            "bin_start": 1.2000000000000002,
            "bin_end": 1.3,
            "count": 0
           },
           {
            "bin_start": 1.3,
            "bin_end": 1.4,
            "count": 0
           },
           {
            "bin_start": 1.4,
            "bin_end": 1.5,
            "count": 0
           }
          ]
         }
        },
        {
         "name": "Windows (North)",
         "dtype": "float64",
         "stats": {
          "unique_count": 0,
          "nan_count": 5,
          "min": null,
          "max": null,
          "histogram": [
           {
            "bin_start": 0,
            "bin_end": 0.1,
            "count": 0
           },
           {
            "bin_start": 0.1,
            "bin_end": 0.2,
            "count": 0
           },
           {
            "bin_start": 0.2,
            "bin_end": 0.30000000000000004,
            "count": 0
           },
           {
            "bin_start": 0.30000000000000004,
            "bin_end": 0.4,
            "count": 0
           },
           {
            "bin_start": 0.4,
            "bin_end": 0.5,
            "count": 0
           },
           {
            "bin_start": 0.5,
            "bin_end": 0.6000000000000001,
            "count": 0
           },
           {
            "bin_start": 0.6000000000000001,
            "bin_end": 0.7000000000000001,
            "count": 0
           },
           {
            "bin_start": 0.7000000000000001,
            "bin_end": 0.8,
            "count": 0
           },
           {
            "bin_start": 0.8,
            "bin_end": 0.9,
            "count": 0
           },
           {
            "bin_start": 0.9,
            "bin_end": 1,
            "count": 0
           }
          ]
         }
        },
        {
         "name": "Windows (West)",
         "dtype": "float64",
         "stats": {
          "unique_count": 1,
          "nan_count": 3,
          "min": "2.0",
          "max": "2.0",
          "histogram": [
           {
            "bin_start": 1.5,
            "bin_end": 1.6,
            "count": 0
           },
           {
            "bin_start": 1.6,
            "bin_end": 1.7,
            "count": 0
           },
           {
            "bin_start": 1.7,
            "bin_end": 1.8,
            "count": 0
           },
           {
            "bin_start": 1.8,
            "bin_end": 1.9,
            "count": 0
           },
           {
            "bin_start": 1.9,
            "bin_end": 2,
            "count": 0
           },
           {
            "bin_start": 2,
            "bin_end": 2.1,
            "count": 2
           },
           {
            "bin_start": 2.1,
            "bin_end": 2.2,
            "count": 0
           },
           {
            "bin_start": 2.2,
            "bin_end": 2.3,
            "count": 0
           },
           {
            "bin_start": 2.3,
            "bin_end": 2.4,
            "count": 0
           },
           {
            "bin_start": 2.4,
            "bin_end": 2.5,
            "count": 0
           }
          ]
         }
        },
        {
         "name": "Windows (South)",
         "dtype": "float64",
         "stats": {
          "unique_count": 0,
          "nan_count": 5,
          "min": null,
          "max": null,
          "histogram": [
           {
            "bin_start": 0,
            "bin_end": 0.1,
            "count": 0
           },
           {
            "bin_start": 0.1,
            "bin_end": 0.2,
            "count": 0
           },
           {
            "bin_start": 0.2,
            "bin_end": 0.30000000000000004,
            "count": 0
           },
           {
            "bin_start": 0.30000000000000004,
            "bin_end": 0.4,
            "count": 0
           },
           {
            "bin_start": 0.4,
            "bin_end": 0.5,
            "count": 0
           },
           {
            "bin_start": 0.5,
            "bin_end": 0.6000000000000001,
            "count": 0
           },
           {
            "bin_start": 0.6000000000000001,
            "bin_end": 0.7000000000000001,
            "count": 0
           },
           {
            "bin_start": 0.7000000000000001,
            "bin_end": 0.8,
            "count": 0
           },
           {
            "bin_start": 0.8,
            "bin_end": 0.9,
            "count": 0
           },
           {
            "bin_start": 0.9,
            "bin_end": 1,
            "count": 0
           }
          ]
         }
        },
        {
         "name": "Windows (East)",
         "dtype": "float64",
         "stats": {
          "unique_count": 1,
          "nan_count": 2,
          "min": "2.0",
          "max": "2.0",
          "histogram": [
           {
            "bin_start": 1.5,
            "bin_end": 1.6,
            "count": 0
           },
           {
            "bin_start": 1.6,
            "bin_end": 1.7,
            "count": 0
           },
           {
            "bin_start": 1.7,
            "bin_end": 1.8,
            "count": 0
           },
           {
            "bin_start": 1.8,
            "bin_end": 1.9,
            "count": 0
           },
           {
            "bin_start": 1.9,
            "bin_end": 2,
            "count": 0
           },
           {
            "bin_start": 2,
            "bin_end": 2.1,
            "count": 3
           },
           {
            "bin_start": 2.1,
            "bin_end": 2.2,
            "count": 0
           },
           {
            "bin_start": 2.2,
            "bin_end": 2.3,
            "count": 0
           },
           {
            "bin_start": 2.3,
            "bin_end": 2.4,
            "count": 0
           },
           {
            "bin_start": 2.4,
            "bin_end": 2.5,
            "count": 0
           }
          ]
         }
        },
        {
         "name": "Augmented Controls",
         "dtype": "object",
         "stats": {
          "unique_count": 5,
          "nan_count": 0,
          "categories": [
           {
            "name": "A/C-43",
            "count": 1
           },
           {
            "name": "A/C-23",
            "count": 1
           },
           {
            "name": "3 others",
            "count": 3
           }
          ]
         }
        },
        {
         "name": "Sensors Description",
         "dtype": "object",
         "stats": {
          "unique_count": 2,
          "nan_count": 0,
          "categories": [
           {
            "name": "JCI  TE-6314P-1",
            "count": 4
           },
           {
            "name": "JCI  TE-6314P-1 Temperature",
            "count": 1
           }
          ]
         }
        },
        {
         "name": "HVAC Systems Supplying Room",
         "dtype": "object",
         "stats": {
          "unique_count": 4,
          "nan_count": 0,
          "categories": [
           {
            "name": "AHU-8",
            "count": 2
           },
           {
            "name": "AHU-6",
            "count": 1
           },
           {
            "name": "2 others",
            "count": 2
           }
          ]
         }
        },
        {
         "name": "Exhaust/Return System",
         "dtype": "object",
         "stats": {
          "unique_count": 2,
          "nan_count": 0,
          "categories": [
           {
            "name": "EF-4",
            "count": 3
           },
           {
            "name": "EF-11",
            "count": 2
           }
          ]
         }
        },
        {
         "name": "Unnamed: 13",
         "dtype": "float64",
         "stats": {
          "unique_count": 0,
          "nan_count": 5,
          "min": null,
          "max": null,
          "histogram": [
           {
            "bin_start": 0,
            "bin_end": 0.1,
            "count": 0
           },
           {
            "bin_start": 0.1,
            "bin_end": 0.2,
            "count": 0
           },
           {
            "bin_start": 0.2,
            "bin_end": 0.30000000000000004,
            "count": 0
           },
           {
            "bin_start": 0.30000000000000004,
            "bin_end": 0.4,
            "count": 0
           },
           {
            "bin_start": 0.4,
            "bin_end": 0.5,
            "count": 0
           },
           {
            "bin_start": 0.5,
            "bin_end": 0.6000000000000001,
            "count": 0
           },
           {
            "bin_start": 0.6000000000000001,
            "bin_end": 0.7000000000000001,
            "count": 0
           },
           {
            "bin_start": 0.7000000000000001,
            "bin_end": 0.8,
            "count": 0
           },
           {
            "bin_start": 0.8,
            "bin_end": 0.9,
            "count": 0
           },
           {
            "bin_start": 0.9,
            "bin_end": 1,
            "count": 0
           }
          ]
         }
        },
        {
         "name": "_deepnote_index_column",
         "dtype": "int64"
        }
       ],
       "rows_top": [
        {
         "LabTitle": "TB15",
         "Building": "T",
         "Room #": "B-15",
         "Floor": "B-1",
         "Qty of Hoods": 1,
         "Windows (North)": "nan",
         "Windows (West)": "nan",
         "Windows (South)": "nan",
         "Windows (East)": 2,
         "Augmented Controls": "A/C-43",
         "Sensors Description": "JCI  TE-6314P-1 Temperature",
         "HVAC Systems Supplying Room": "AHU-8",
         "Exhaust/Return System": "EF-4",
         "Unnamed: 13": "nan",
         "_deepnote_index_column": 0
        },
        {
         "LabTitle": "T302",
         "Building": "T",
         "Room #": "302",
         "Floor": "3",
         "Qty of Hoods": 1,
         "Windows (North)": "nan",
         "Windows (West)": 2,
         "Windows (South)": "nan",
         "Windows (East)": "nan",
         "Augmented Controls": "A/C-23",
         "Sensors Description": "JCI  TE-6314P-1",
         "HVAC Systems Supplying Room": "AHU-6",
         "Exhaust/Return System": "EF-4",
         "Unnamed: 13": "nan",
         "_deepnote_index_column": 1
        },
        {
         "LabTitle": "T303",
         "Building": "T",
         "Room #": "303",
         "Floor": "3",
         "Qty of Hoods": 1,
         "Windows (North)": "nan",
         "Windows (West)": "nan",
         "Windows (South)": "nan",
         "Windows (East)": 2,
         "Augmented Controls": "A/C-23A",
         "Sensors Description": "JCI  TE-6314P-1",
         "HVAC Systems Supplying Room": "AHU-8",
         "Exhaust/Return System": "EF-4",
         "Unnamed: 13": "nan",
         "_deepnote_index_column": 2
        },
        {
         "LabTitle": "T446",
         "Building": "T",
         "Room #": "446",
         "Floor": "4",
         "Qty of Hoods": 1,
         "Windows (North)": "nan",
         "Windows (West)": 2,
         "Windows (South)": "nan",
         "Windows (East)": "nan",
         "Augmented Controls": "A/C-22",
         "Sensors Description": "JCI  TE-6314P-1",
         "HVAC Systems Supplying Room": "AHU-12",
         "Exhaust/Return System": "EF-11",
         "Unnamed: 13": "nan",
         "_deepnote_index_column": 3
        },
        {
         "LabTitle": "T449",
         "Building": "T",
         "Room #": "449/451",
         "Floor": "4",
         "Qty of Hoods": 1,
         "Windows (North)": "nan",
         "Windows (West)": "nan",
         "Windows (South)": "nan",
         "Windows (East)": 2,
         "Augmented Controls": "A/C-13B",
         "Sensors Description": "JCI  TE-6314P-1",
         "HVAC Systems Supplying Room": "AHU-15",
         "Exhaust/Return System": "EF-11",
         "Unnamed: 13": "nan",
         "_deepnote_index_column": 4
        }
       ],
       "rows_bottom": null
      },
      "text/plain": "  LabTitle Building   Room # Floor  Qty of Hoods  Windows (North)  \\\n0     TB15        T     B-15   B-1           1.0              NaN   \n1     T302        T      302     3           1.0              NaN   \n2     T303        T      303     3           1.0              NaN   \n3     T446        T      446     4           1.0              NaN   \n4     T449        T  449/451     4           1.0              NaN   \n\n   Windows (West)  Windows (South)  Windows (East) Augmented Controls  \\\n0             NaN              NaN             2.0             A/C-43   \n1             2.0              NaN             NaN             A/C-23   \n2             NaN              NaN             2.0            A/C-23A   \n3             2.0              NaN             NaN             A/C-22   \n4             NaN              NaN             2.0            A/C-13B   \n\n           Sensors Description HVAC Systems Supplying Room  \\\n0  JCI  TE-6314P-1 Temperature                       AHU-8   \n1              JCI  TE-6314P-1                       AHU-6   \n2              JCI  TE-6314P-1                       AHU-8   \n3              JCI  TE-6314P-1                      AHU-12   \n4              JCI  TE-6314P-1                      AHU-15   \n\n  Exhaust/Return System  Unnamed: 13  \n0                  EF-4          NaN  \n1                  EF-4          NaN  \n2                  EF-4          NaN  \n3                 EF-11          NaN  \n4                 EF-11          NaN  ",
      "text/html": "<div>\n<style scoped>\n    .dataframe tbody tr th:only-of-type {\n        vertical-align: middle;\n    }\n\n    .dataframe tbody tr th {\n        vertical-align: top;\n    }\n\n    .dataframe thead th {\n        text-align: right;\n    }\n</style>\n<table border=\"1\" class=\"dataframe\">\n  <thead>\n    <tr style=\"text-align: right;\">\n      <th></th>\n      <th>LabTitle</th>\n      <th>Building</th>\n      <th>Room #</th>\n      <th>Floor</th>\n      <th>Qty of Hoods</th>\n      <th>Windows (North)</th>\n      <th>Windows (West)</th>\n      <th>Windows (South)</th>\n      <th>Windows (East)</th>\n      <th>Augmented Controls</th>\n      <th>Sensors Description</th>\n      <th>HVAC Systems Supplying Room</th>\n      <th>Exhaust/Return System</th>\n      <th>Unnamed: 13</th>\n    </tr>\n  </thead>\n  <tbody>\n    <tr>\n      <th>0</th>\n      <td>TB15</td>\n      <td>T</td>\n      <td>B-15</td>\n      <td>B-1</td>\n      <td>1.0</td>\n      <td>NaN</td>\n      <td>NaN</td>\n      <td>NaN</td>\n      <td>2.0</td>\n      <td>A/C-43</td>\n      <td>JCI  TE-6314P-1 Temperature</td>\n      <td>AHU-8</td>\n      <td>EF-4</td>\n      <td>NaN</td>\n    </tr>\n    <tr>\n      <th>1</th>\n      <td>T302</td>\n      <td>T</td>\n      <td>302</td>\n      <td>3</td>\n      <td>1.0</td>\n      <td>NaN</td>\n      <td>2.0</td>\n      <td>NaN</td>\n      <td>NaN</td>\n      <td>A/C-23</td>\n      <td>JCI  TE-6314P-1</td>\n      <td>AHU-6</td>\n      <td>EF-4</td>\n      <td>NaN</td>\n    </tr>\n    <tr>\n      <th>2</th>\n      <td>T303</td>\n      <td>T</td>\n      <td>303</td>\n      <td>3</td>\n      <td>1.0</td>\n      <td>NaN</td>\n      <td>NaN</td>\n      <td>NaN</td>\n      <td>2.0</td>\n      <td>A/C-23A</td>\n      <td>JCI  TE-6314P-1</td>\n      <td>AHU-8</td>\n      <td>EF-4</td>\n      <td>NaN</td>\n    </tr>\n    <tr>\n      <th>3</th>\n      <td>T446</td>\n      <td>T</td>\n      <td>446</td>\n      <td>4</td>\n      <td>1.0</td>\n      <td>NaN</td>\n      <td>2.0</td>\n      <td>NaN</td>\n      <td>NaN</td>\n      <td>A/C-22</td>\n      <td>JCI  TE-6314P-1</td>\n      <td>AHU-12</td>\n      <td>EF-11</td>\n      <td>NaN</td>\n    </tr>\n    <tr>\n      <th>4</th>\n      <td>T449</td>\n      <td>T</td>\n      <td>449/451</td>\n      <td>4</td>\n      <td>1.0</td>\n      <td>NaN</td>\n      <td>NaN</td>\n      <td>NaN</td>\n      <td>2.0</td>\n      <td>A/C-13B</td>\n      <td>JCI  TE-6314P-1</td>\n      <td>AHU-15</td>\n      <td>EF-11</td>\n      <td>NaN</td>\n    </tr>\n  </tbody>\n</table>\n</div>"
     },
     "metadata": {}
    }
   ],
   "execution_count": 65
  },
  {
   "cell_type": "code",
   "metadata": {
    "tags": [],
    "cell_id": "00008-909511cc-a853-4acd-98a1-b0d1d255b033",
    "deepnote_to_be_reexecuted": false,
    "source_hash": "d2aece92",
    "execution_start": 1633450462620,
    "execution_millis": 137,
    "deepnote_cell_type": "code"
   },
   "source": "# find dict object that matches each row + add columns\nfor index, row in df_s.iterrows():\n    lab_title = row[0]\n    for i in range(1, len(row) - 1):\n        if lab_title in labs:\n            labs[lab_title][df_s.columns[i]] = row[i]\n\nlabs['T449'].head(20)\n",
   "outputs": [
    {
     "output_type": "execute_result",
     "execution_count": 66,
     "data": {
      "application/vnd.deepnote.dataframe.v2+json": {
       "row_count": 20,
       "column_count": 14,
       "columns": [
        {
         "name": "Time",
         "dtype": "object",
         "stats": {
          "unique_count": 20,
          "nan_count": 0,
          "categories": [
           {
            "name": "4/27/21 1:00:00 PM EDT",
            "count": 1
           },
           {
            "name": "4/27/21 2:00:00 PM EDT",
            "count": 1
           },
           {
            "name": "18 others",
            "count": 18
           }
          ]
         }
        },
        {
         "name": "Trend (deg F)",
         "dtype": "object",
         "stats": {
          "unique_count": 14,
          "nan_count": 0,
          "categories": [
           {
            "name": "72.71118",
            "count": 3
           },
           {
            "name": "72.86691",
            "count": 2
           },
           {
            "name": "12 others",
            "count": 15
           }
          ]
         }
        },
        {
         "name": "Building",
         "dtype": "object",
         "stats": {
          "unique_count": 1,
          "nan_count": 0,
          "categories": [
           {
            "name": "T",
            "count": 20
           }
          ]
         }
        },
        {
         "name": "Room #",
         "dtype": "object",
         "stats": {
          "unique_count": 1,
          "nan_count": 0,
          "categories": [
           {
            "name": "449/451",
            "count": 20
           }
          ]
         }
        },
        {
         "name": "Floor",
         "dtype": "object",
         "stats": {
          "unique_count": 1,
          "nan_count": 0,
          "categories": [
           {
            "name": "4",
            "count": 20
           }
          ]
         }
        },
        {
         "name": "Qty of Hoods",
         "dtype": "float64",
         "stats": {
          "unique_count": 1,
          "nan_count": 0,
          "min": "1.0",
          "max": "1.0",
          "histogram": [
           {
            "bin_start": 0.5,
            "bin_end": 0.6,
            "count": 0
           },
           {
            "bin_start": 0.6,
            "bin_end": 0.7,
            "count": 0
           },
           {
            "bin_start": 0.7,
            "bin_end": 0.8,
            "count": 0
           },
           {
            "bin_start": 0.8,
            "bin_end": 0.9,
            "count": 0
           },
           {
            "bin_start": 0.9,
            "bin_end": 1,
            "count": 0
           },
           {
            "bin_start": 1,
            "bin_end": 1.1,
            "count": 20
           },
           {
            "bin_start": 1.1,
            "bin_end": 1.2000000000000002,
            "count": 0
           },
           {
            "bin_start": 1.2000000000000002,
            "bin_end": 1.3,
            "count": 0
           },
           {
            "bin_start": 1.3,
            "bin_end": 1.4,
            "count": 0
           },
           {
            "bin_start": 1.4,
            "bin_end": 1.5,
            "count": 0
           }
          ]
         }
        },
        {
         "name": "Windows (North)",
         "dtype": "float64",
         "stats": {
          "unique_count": 0,
          "nan_count": 20,
          "min": null,
          "max": null,
          "histogram": [
           {
            "bin_start": 0,
            "bin_end": 0.1,
            "count": 0
           },
           {
            "bin_start": 0.1,
            "bin_end": 0.2,
            "count": 0
           },
           {
            "bin_start": 0.2,
            "bin_end": 0.30000000000000004,
            "count": 0
           },
           {
            "bin_start": 0.30000000000000004,
            "bin_end": 0.4,
            "count": 0
           },
           {
            "bin_start": 0.4,
            "bin_end": 0.5,
            "count": 0
           },
           {
            "bin_start": 0.5,
            "bin_end": 0.6000000000000001,
            "count": 0
           },
           {
            "bin_start": 0.6000000000000001,
            "bin_end": 0.7000000000000001,
            "count": 0
           },
           {
            "bin_start": 0.7000000000000001,
            "bin_end": 0.8,
            "count": 0
           },
           {
            "bin_start": 0.8,
            "bin_end": 0.9,
            "count": 0
           },
           {
            "bin_start": 0.9,
            "bin_end": 1,
            "count": 0
           }
          ]
         }
        },
        {
         "name": "Windows (West)",
         "dtype": "float64",
         "stats": {
          "unique_count": 0,
          "nan_count": 20,
          "min": null,
          "max": null,
          "histogram": [
           {
            "bin_start": 0,
            "bin_end": 0.1,
            "count": 0
           },
           {
            "bin_start": 0.1,
            "bin_end": 0.2,
            "count": 0
           },
           {
            "bin_start": 0.2,
            "bin_end": 0.30000000000000004,
            "count": 0
           },
           {
            "bin_start": 0.30000000000000004,
            "bin_end": 0.4,
            "count": 0
           },
           {
            "bin_start": 0.4,
            "bin_end": 0.5,
            "count": 0
           },
           {
            "bin_start": 0.5,
            "bin_end": 0.6000000000000001,
            "count": 0
           },
           {
            "bin_start": 0.6000000000000001,
            "bin_end": 0.7000000000000001,
            "count": 0
           },
           {
            "bin_start": 0.7000000000000001,
            "bin_end": 0.8,
            "count": 0
           },
           {
            "bin_start": 0.8,
            "bin_end": 0.9,
            "count": 0
           },
           {
            "bin_start": 0.9,
            "bin_end": 1,
            "count": 0
           }
          ]
         }
        },
        {
         "name": "Windows (South)",
         "dtype": "float64",
         "stats": {
          "unique_count": 0,
          "nan_count": 20,
          "min": null,
          "max": null,
          "histogram": [
           {
            "bin_start": 0,
            "bin_end": 0.1,
            "count": 0
           },
           {
            "bin_start": 0.1,
            "bin_end": 0.2,
            "count": 0
           },
           {
            "bin_start": 0.2,
            "bin_end": 0.30000000000000004,
            "count": 0
           },
           {
            "bin_start": 0.30000000000000004,
            "bin_end": 0.4,
            "count": 0
           },
           {
            "bin_start": 0.4,
            "bin_end": 0.5,
            "count": 0
           },
           {
            "bin_start": 0.5,
            "bin_end": 0.6000000000000001,
            "count": 0
           },
           {
            "bin_start": 0.6000000000000001,
            "bin_end": 0.7000000000000001,
            "count": 0
           },
           {
            "bin_start": 0.7000000000000001,
            "bin_end": 0.8,
            "count": 0
           },
           {
            "bin_start": 0.8,
            "bin_end": 0.9,
            "count": 0
           },
           {
            "bin_start": 0.9,
            "bin_end": 1,
            "count": 0
           }
          ]
         }
        },
        {
         "name": "Windows (East)",
         "dtype": "float64",
         "stats": {
          "unique_count": 1,
          "nan_count": 0,
          "min": "2.0",
          "max": "2.0",
          "histogram": [
           {
            "bin_start": 1.5,
            "bin_end": 1.6,
            "count": 0
           },
           {
            "bin_start": 1.6,
            "bin_end": 1.7,
            "count": 0
           },
           {
            "bin_start": 1.7,
            "bin_end": 1.8,
            "count": 0
           },
           {
            "bin_start": 1.8,
            "bin_end": 1.9,
            "count": 0
           },
           {
            "bin_start": 1.9,
            "bin_end": 2,
            "count": 0
           },
           {
            "bin_start": 2,
            "bin_end": 2.1,
            "count": 20
           },
           {
            "bin_start": 2.1,
            "bin_end": 2.2,
            "count": 0
           },
           {
            "bin_start": 2.2,
            "bin_end": 2.3,
            "count": 0
           },
           {
            "bin_start": 2.3,
            "bin_end": 2.4,
            "count": 0
           },
           {
            "bin_start": 2.4,
            "bin_end": 2.5,
            "count": 0
           }
          ]
         }
        },
        {
         "name": "Augmented Controls",
         "dtype": "object",
         "stats": {
          "unique_count": 1,
          "nan_count": 0,
          "categories": [
           {
            "name": "A/C-13B",
            "count": 20
           }
          ]
         }
        },
        {
         "name": "Sensors Description",
         "dtype": "object",
         "stats": {
          "unique_count": 1,
          "nan_count": 0,
          "categories": [
           {
            "name": "JCI  TE-6314P-1",
            "count": 20
           }
          ]
         }
        },
        {
         "name": "HVAC Systems Supplying Room",
         "dtype": "object",
         "stats": {
          "unique_count": 1,
          "nan_count": 0,
          "categories": [
           {
            "name": "AHU-15",
            "count": 20
           }
          ]
         }
        },
        {
         "name": "Exhaust/Return System",
         "dtype": "object",
         "stats": {
          "unique_count": 1,
          "nan_count": 0,
          "categories": [
           {
            "name": "EF-11",
            "count": 20
           }
          ]
         }
        },
        {
         "name": "_deepnote_index_column",
         "dtype": "int64"
        }
       ],
       "rows_top": [
        {
         "Time": "4/27/21 1:00:00 PM EDT",
         "Trend (deg F)": "72.86691",
         "Building": "T",
         "Room #": "449/451",
         "Floor": "4",
         "Qty of Hoods": 1,
         "Windows (North)": "nan",
         "Windows (West)": "nan",
         "Windows (South)": "nan",
         "Windows (East)": 2,
         "Augmented Controls": "A/C-13B",
         "Sensors Description": "JCI  TE-6314P-1",
         "HVAC Systems Supplying Room": "AHU-15",
         "Exhaust/Return System": "EF-11",
         "_deepnote_index_column": 1
        },
        {
         "Time": "4/27/21 2:00:00 PM EDT",
         "Trend (deg F)": "72.45172",
         "Building": "T",
         "Room #": "449/451",
         "Floor": "4",
         "Qty of Hoods": 1,
         "Windows (North)": "nan",
         "Windows (West)": "nan",
         "Windows (South)": "nan",
         "Windows (East)": 2,
         "Augmented Controls": "A/C-13B",
         "Sensors Description": "JCI  TE-6314P-1",
         "HVAC Systems Supplying Room": "AHU-15",
         "Exhaust/Return System": "EF-11",
         "_deepnote_index_column": 2
        },
        {
         "Time": "4/27/21 3:00:00 PM EDT",
         "Trend (deg F)": "72.55551",
         "Building": "T",
         "Room #": "449/451",
         "Floor": "4",
         "Qty of Hoods": 1,
         "Windows (North)": "nan",
         "Windows (West)": "nan",
         "Windows (South)": "nan",
         "Windows (East)": 2,
         "Augmented Controls": "A/C-13B",
         "Sensors Description": "JCI  TE-6314P-1",
         "HVAC Systems Supplying Room": "AHU-15",
         "Exhaust/Return System": "EF-11",
         "_deepnote_index_column": 3
        },
        {
         "Time": "4/27/21 4:00:00 PM EDT",
         "Trend (deg F)": "72.71118",
         "Building": "T",
         "Room #": "449/451",
         "Floor": "4",
         "Qty of Hoods": 1,
         "Windows (North)": "nan",
         "Windows (West)": "nan",
         "Windows (South)": "nan",
         "Windows (East)": 2,
         "Augmented Controls": "A/C-13B",
         "Sensors Description": "JCI  TE-6314P-1",
         "HVAC Systems Supplying Room": "AHU-15",
         "Exhaust/Return System": "EF-11",
         "_deepnote_index_column": 4
        },
        {
         "Time": "4/27/21 5:00:00 PM EDT",
         "Trend (deg F)": "72.86691",
         "Building": "T",
         "Room #": "449/451",
         "Floor": "4",
         "Qty of Hoods": 1,
         "Windows (North)": "nan",
         "Windows (West)": "nan",
         "Windows (South)": "nan",
         "Windows (East)": 2,
         "Augmented Controls": "A/C-13B",
         "Sensors Description": "JCI  TE-6314P-1",
         "HVAC Systems Supplying Room": "AHU-15",
         "Exhaust/Return System": "EF-11",
         "_deepnote_index_column": 5
        },
        {
         "Time": "4/27/21 6:00:00 PM EDT",
         "Trend (deg F)": "73.12637",
         "Building": "T",
         "Room #": "449/451",
         "Floor": "4",
         "Qty of Hoods": 1,
         "Windows (North)": "nan",
         "Windows (West)": "nan",
         "Windows (South)": "nan",
         "Windows (East)": 2,
         "Augmented Controls": "A/C-13B",
         "Sensors Description": "JCI  TE-6314P-1",
         "HVAC Systems Supplying Room": "AHU-15",
         "Exhaust/Return System": "EF-11",
         "_deepnote_index_column": 6
        },
        {
         "Time": "4/27/21 7:00:00 PM EDT",
         "Trend (deg F)": "72.815",
         "Building": "T",
         "Room #": "449/451",
         "Floor": "4",
         "Qty of Hoods": 1,
         "Windows (North)": "nan",
         "Windows (West)": "nan",
         "Windows (South)": "nan",
         "Windows (East)": 2,
         "Augmented Controls": "A/C-13B",
         "Sensors Description": "JCI  TE-6314P-1",
         "HVAC Systems Supplying Room": "AHU-15",
         "Exhaust/Return System": "EF-11",
         "_deepnote_index_column": 7
        },
        {
         "Time": "4/27/21 8:00:00 PM EDT",
         "Trend (deg F)": "72.24414",
         "Building": "T",
         "Room #": "449/451",
         "Floor": "4",
         "Qty of Hoods": 1,
         "Windows (North)": "nan",
         "Windows (West)": "nan",
         "Windows (South)": "nan",
         "Windows (East)": 2,
         "Augmented Controls": "A/C-13B",
         "Sensors Description": "JCI  TE-6314P-1",
         "HVAC Systems Supplying Room": "AHU-15",
         "Exhaust/Return System": "EF-11",
         "_deepnote_index_column": 8
        },
        {
         "Time": "4/27/21 9:00:00 PM EDT",
         "Trend (deg F)": "73.12637",
         "Building": "T",
         "Room #": "449/451",
         "Floor": "4",
         "Qty of Hoods": 1,
         "Windows (North)": "nan",
         "Windows (West)": "nan",
         "Windows (South)": "nan",
         "Windows (East)": 2,
         "Augmented Controls": "A/C-13B",
         "Sensors Description": "JCI  TE-6314P-1",
         "HVAC Systems Supplying Room": "AHU-15",
         "Exhaust/Return System": "EF-11",
         "_deepnote_index_column": 9
        },
        {
         "Time": "4/27/21 10:00:00 PM EDT",
         "Trend (deg F)": "72.815",
         "Building": "T",
         "Room #": "449/451",
         "Floor": "4",
         "Qty of Hoods": 1,
         "Windows (North)": "nan",
         "Windows (West)": "nan",
         "Windows (South)": "nan",
         "Windows (East)": 2,
         "Augmented Controls": "A/C-13B",
         "Sensors Description": "JCI  TE-6314P-1",
         "HVAC Systems Supplying Room": "AHU-15",
         "Exhaust/Return System": "EF-11",
         "_deepnote_index_column": 10
        },
        {
         "Time": "4/27/21 11:00:00 PM EDT",
         "Trend (deg F)": "72.14032",
         "Building": "T",
         "Room #": "449/451",
         "Floor": "4",
         "Qty of Hoods": 1,
         "Windows (North)": "nan",
         "Windows (West)": "nan",
         "Windows (South)": "nan",
         "Windows (East)": 2,
         "Augmented Controls": "A/C-13B",
         "Sensors Description": "JCI  TE-6314P-1",
         "HVAC Systems Supplying Room": "AHU-15",
         "Exhaust/Return System": "EF-11",
         "_deepnote_index_column": 11
        },
        {
         "Time": "4/28/21 12:00:00 AM EDT",
         "Trend (deg F)": "73.308014",
         "Building": "T",
         "Room #": "449/451",
         "Floor": "4",
         "Qty of Hoods": 1,
         "Windows (North)": "nan",
         "Windows (West)": "nan",
         "Windows (South)": "nan",
         "Windows (East)": 2,
         "Augmented Controls": "A/C-13B",
         "Sensors Description": "JCI  TE-6314P-1",
         "HVAC Systems Supplying Room": "AHU-15",
         "Exhaust/Return System": "EF-11",
         "_deepnote_index_column": 12
        },
        {
         "Time": "4/28/21 1:00:00 AM EDT",
         "Trend (deg F)": "72.19223",
         "Building": "T",
         "Room #": "449/451",
         "Floor": "4",
         "Qty of Hoods": 1,
         "Windows (North)": "nan",
         "Windows (West)": "nan",
         "Windows (South)": "nan",
         "Windows (East)": 2,
         "Augmented Controls": "A/C-13B",
         "Sensors Description": "JCI  TE-6314P-1",
         "HVAC Systems Supplying Room": "AHU-15",
         "Exhaust/Return System": "EF-11",
         "_deepnote_index_column": 13
        },
        {
         "Time": "4/28/21 2:00:00 AM EDT",
         "Trend (deg F)": "73.17828",
         "Building": "T",
         "Room #": "449/451",
         "Floor": "4",
         "Qty of Hoods": 1,
         "Windows (North)": "nan",
         "Windows (West)": "nan",
         "Windows (South)": "nan",
         "Windows (East)": 2,
         "Augmented Controls": "A/C-13B",
         "Sensors Description": "JCI  TE-6314P-1",
         "HVAC Systems Supplying Room": "AHU-15",
         "Exhaust/Return System": "EF-11",
         "_deepnote_index_column": 14
        },
        {
         "Time": "4/28/21 3:00:00 AM EDT",
         "Trend (deg F)": "72.91879",
         "Building": "T",
         "Room #": "449/451",
         "Floor": "4",
         "Qty of Hoods": 1,
         "Windows (North)": "nan",
         "Windows (West)": "nan",
         "Windows (South)": "nan",
         "Windows (East)": 2,
         "Augmented Controls": "A/C-13B",
         "Sensors Description": "JCI  TE-6314P-1",
         "HVAC Systems Supplying Room": "AHU-15",
         "Exhaust/Return System": "EF-11",
         "_deepnote_index_column": 15
        },
        {
         "Time": "4/28/21 4:00:00 AM EDT",
         "Trend (deg F)": "72.01059",
         "Building": "T",
         "Room #": "449/451",
         "Floor": "4",
         "Qty of Hoods": 1,
         "Windows (North)": "nan",
         "Windows (West)": "nan",
         "Windows (South)": "nan",
         "Windows (East)": 2,
         "Augmented Controls": "A/C-13B",
         "Sensors Description": "JCI  TE-6314P-1",
         "HVAC Systems Supplying Room": "AHU-15",
         "Exhaust/Return System": "EF-11",
         "_deepnote_index_column": 16
        },
        {
         "Time": "4/28/21 5:00:00 AM EDT",
         "Trend (deg F)": "73.17828",
         "Building": "T",
         "Room #": "449/451",
         "Floor": "4",
         "Qty of Hoods": 1,
         "Windows (North)": "nan",
         "Windows (West)": "nan",
         "Windows (South)": "nan",
         "Windows (East)": 2,
         "Augmented Controls": "A/C-13B",
         "Sensors Description": "JCI  TE-6314P-1",
         "HVAC Systems Supplying Room": "AHU-15",
         "Exhaust/Return System": "EF-11",
         "_deepnote_index_column": 17
        },
        {
         "Time": "4/28/21 6:00:00 AM EDT",
         "Trend (deg F)": "72.71118",
         "Building": "T",
         "Room #": "449/451",
         "Floor": "4",
         "Qty of Hoods": 1,
         "Windows (North)": "nan",
         "Windows (West)": "nan",
         "Windows (South)": "nan",
         "Windows (East)": 2,
         "Augmented Controls": "A/C-13B",
         "Sensors Description": "JCI  TE-6314P-1",
         "HVAC Systems Supplying Room": "AHU-15",
         "Exhaust/Return System": "EF-11",
         "_deepnote_index_column": 18
        },
        {
         "Time": "4/28/21 7:00:00 AM EDT",
         "Trend (deg F)": "73.567505",
         "Building": "T",
         "Room #": "449/451",
         "Floor": "4",
         "Qty of Hoods": 1,
         "Windows (North)": "nan",
         "Windows (West)": "nan",
         "Windows (South)": "nan",
         "Windows (East)": 2,
         "Augmented Controls": "A/C-13B",
         "Sensors Description": "JCI  TE-6314P-1",
         "HVAC Systems Supplying Room": "AHU-15",
         "Exhaust/Return System": "EF-11",
         "_deepnote_index_column": 19
        },
        {
         "Time": "4/28/21 8:00:00 AM EDT",
         "Trend (deg F)": "72.71118",
         "Building": "T",
         "Room #": "449/451",
         "Floor": "4",
         "Qty of Hoods": 1,
         "Windows (North)": "nan",
         "Windows (West)": "nan",
         "Windows (South)": "nan",
         "Windows (East)": 2,
         "Augmented Controls": "A/C-13B",
         "Sensors Description": "JCI  TE-6314P-1",
         "HVAC Systems Supplying Room": "AHU-15",
         "Exhaust/Return System": "EF-11",
         "_deepnote_index_column": 20
        }
       ],
       "rows_bottom": null
      },
      "text/plain": "                       Time Trend (deg F) Building   Room # Floor  \\\n1    4/27/21 1:00:00 PM EDT      72.86691        T  449/451     4   \n2    4/27/21 2:00:00 PM EDT      72.45172        T  449/451     4   \n3    4/27/21 3:00:00 PM EDT      72.55551        T  449/451     4   \n4    4/27/21 4:00:00 PM EDT      72.71118        T  449/451     4   \n5    4/27/21 5:00:00 PM EDT      72.86691        T  449/451     4   \n6    4/27/21 6:00:00 PM EDT      73.12637        T  449/451     4   \n7    4/27/21 7:00:00 PM EDT        72.815        T  449/451     4   \n8    4/27/21 8:00:00 PM EDT      72.24414        T  449/451     4   \n9    4/27/21 9:00:00 PM EDT      73.12637        T  449/451     4   \n10  4/27/21 10:00:00 PM EDT        72.815        T  449/451     4   \n11  4/27/21 11:00:00 PM EDT      72.14032        T  449/451     4   \n12  4/28/21 12:00:00 AM EDT     73.308014        T  449/451     4   \n13   4/28/21 1:00:00 AM EDT      72.19223        T  449/451     4   \n14   4/28/21 2:00:00 AM EDT      73.17828        T  449/451     4   \n15   4/28/21 3:00:00 AM EDT      72.91879        T  449/451     4   \n16   4/28/21 4:00:00 AM EDT      72.01059        T  449/451     4   \n17   4/28/21 5:00:00 AM EDT      73.17828        T  449/451     4   \n18   4/28/21 6:00:00 AM EDT      72.71118        T  449/451     4   \n19   4/28/21 7:00:00 AM EDT     73.567505        T  449/451     4   \n20   4/28/21 8:00:00 AM EDT      72.71118        T  449/451     4   \n\n    Qty of Hoods  Windows (North)  Windows (West)  Windows (South)  \\\n1            1.0              NaN             NaN              NaN   \n2            1.0              NaN             NaN              NaN   \n3            1.0              NaN             NaN              NaN   \n4            1.0              NaN             NaN              NaN   \n5            1.0              NaN             NaN              NaN   \n6            1.0              NaN             NaN              NaN   \n7            1.0              NaN             NaN              NaN   \n8            1.0              NaN             NaN              NaN   \n9            1.0              NaN             NaN              NaN   \n10           1.0              NaN             NaN              NaN   \n11           1.0              NaN             NaN              NaN   \n12           1.0              NaN             NaN              NaN   \n13           1.0              NaN             NaN              NaN   \n14           1.0              NaN             NaN              NaN   \n15           1.0              NaN             NaN              NaN   \n16           1.0              NaN             NaN              NaN   \n17           1.0              NaN             NaN              NaN   \n18           1.0              NaN             NaN              NaN   \n19           1.0              NaN             NaN              NaN   \n20           1.0              NaN             NaN              NaN   \n\n    Windows (East) Augmented Controls Sensors Description  \\\n1              2.0            A/C-13B     JCI  TE-6314P-1   \n2              2.0            A/C-13B     JCI  TE-6314P-1   \n3              2.0            A/C-13B     JCI  TE-6314P-1   \n4              2.0            A/C-13B     JCI  TE-6314P-1   \n5              2.0            A/C-13B     JCI  TE-6314P-1   \n6              2.0            A/C-13B     JCI  TE-6314P-1   \n7              2.0            A/C-13B     JCI  TE-6314P-1   \n8              2.0            A/C-13B     JCI  TE-6314P-1   \n9              2.0            A/C-13B     JCI  TE-6314P-1   \n10             2.0            A/C-13B     JCI  TE-6314P-1   \n11             2.0            A/C-13B     JCI  TE-6314P-1   \n12             2.0            A/C-13B     JCI  TE-6314P-1   \n13             2.0            A/C-13B     JCI  TE-6314P-1   \n14             2.0            A/C-13B     JCI  TE-6314P-1   \n15             2.0            A/C-13B     JCI  TE-6314P-1   \n16             2.0            A/C-13B     JCI  TE-6314P-1   \n17             2.0            A/C-13B     JCI  TE-6314P-1   \n18             2.0            A/C-13B     JCI  TE-6314P-1   \n19             2.0            A/C-13B     JCI  TE-6314P-1   \n20             2.0            A/C-13B     JCI  TE-6314P-1   \n\n   HVAC Systems Supplying Room Exhaust/Return System  \n1                       AHU-15                 EF-11  \n2                       AHU-15                 EF-11  \n3                       AHU-15                 EF-11  \n4                       AHU-15                 EF-11  \n5                       AHU-15                 EF-11  \n6                       AHU-15                 EF-11  \n7                       AHU-15                 EF-11  \n8                       AHU-15                 EF-11  \n9                       AHU-15                 EF-11  \n10                      AHU-15                 EF-11  \n11                      AHU-15                 EF-11  \n12                      AHU-15                 EF-11  \n13                      AHU-15                 EF-11  \n14                      AHU-15                 EF-11  \n15                      AHU-15                 EF-11  \n16                      AHU-15                 EF-11  \n17                      AHU-15                 EF-11  \n18                      AHU-15                 EF-11  \n19                      AHU-15                 EF-11  \n20                      AHU-15                 EF-11  ",
      "text/html": "<div>\n<style scoped>\n    .dataframe tbody tr th:only-of-type {\n        vertical-align: middle;\n    }\n\n    .dataframe tbody tr th {\n        vertical-align: top;\n    }\n\n    .dataframe thead th {\n        text-align: right;\n    }\n</style>\n<table border=\"1\" class=\"dataframe\">\n  <thead>\n    <tr style=\"text-align: right;\">\n      <th></th>\n      <th>Time</th>\n      <th>Trend (deg F)</th>\n      <th>Building</th>\n      <th>Room #</th>\n      <th>Floor</th>\n      <th>Qty of Hoods</th>\n      <th>Windows (North)</th>\n      <th>Windows (West)</th>\n      <th>Windows (South)</th>\n      <th>Windows (East)</th>\n      <th>Augmented Controls</th>\n      <th>Sensors Description</th>\n      <th>HVAC Systems Supplying Room</th>\n      <th>Exhaust/Return System</th>\n    </tr>\n  </thead>\n  <tbody>\n    <tr>\n      <th>1</th>\n      <td>4/27/21 1:00:00 PM EDT</td>\n      <td>72.86691</td>\n      <td>T</td>\n      <td>449/451</td>\n      <td>4</td>\n      <td>1.0</td>\n      <td>NaN</td>\n      <td>NaN</td>\n      <td>NaN</td>\n      <td>2.0</td>\n      <td>A/C-13B</td>\n      <td>JCI  TE-6314P-1</td>\n      <td>AHU-15</td>\n      <td>EF-11</td>\n    </tr>\n    <tr>\n      <th>2</th>\n      <td>4/27/21 2:00:00 PM EDT</td>\n      <td>72.45172</td>\n      <td>T</td>\n      <td>449/451</td>\n      <td>4</td>\n      <td>1.0</td>\n      <td>NaN</td>\n      <td>NaN</td>\n      <td>NaN</td>\n      <td>2.0</td>\n      <td>A/C-13B</td>\n      <td>JCI  TE-6314P-1</td>\n      <td>AHU-15</td>\n      <td>EF-11</td>\n    </tr>\n    <tr>\n      <th>3</th>\n      <td>4/27/21 3:00:00 PM EDT</td>\n      <td>72.55551</td>\n      <td>T</td>\n      <td>449/451</td>\n      <td>4</td>\n      <td>1.0</td>\n      <td>NaN</td>\n      <td>NaN</td>\n      <td>NaN</td>\n      <td>2.0</td>\n      <td>A/C-13B</td>\n      <td>JCI  TE-6314P-1</td>\n      <td>AHU-15</td>\n      <td>EF-11</td>\n    </tr>\n    <tr>\n      <th>4</th>\n      <td>4/27/21 4:00:00 PM EDT</td>\n      <td>72.71118</td>\n      <td>T</td>\n      <td>449/451</td>\n      <td>4</td>\n      <td>1.0</td>\n      <td>NaN</td>\n      <td>NaN</td>\n      <td>NaN</td>\n      <td>2.0</td>\n      <td>A/C-13B</td>\n      <td>JCI  TE-6314P-1</td>\n      <td>AHU-15</td>\n      <td>EF-11</td>\n    </tr>\n    <tr>\n      <th>5</th>\n      <td>4/27/21 5:00:00 PM EDT</td>\n      <td>72.86691</td>\n      <td>T</td>\n      <td>449/451</td>\n      <td>4</td>\n      <td>1.0</td>\n      <td>NaN</td>\n      <td>NaN</td>\n      <td>NaN</td>\n      <td>2.0</td>\n      <td>A/C-13B</td>\n      <td>JCI  TE-6314P-1</td>\n      <td>AHU-15</td>\n      <td>EF-11</td>\n    </tr>\n    <tr>\n      <th>6</th>\n      <td>4/27/21 6:00:00 PM EDT</td>\n      <td>73.12637</td>\n      <td>T</td>\n      <td>449/451</td>\n      <td>4</td>\n      <td>1.0</td>\n      <td>NaN</td>\n      <td>NaN</td>\n      <td>NaN</td>\n      <td>2.0</td>\n      <td>A/C-13B</td>\n      <td>JCI  TE-6314P-1</td>\n      <td>AHU-15</td>\n      <td>EF-11</td>\n    </tr>\n    <tr>\n      <th>7</th>\n      <td>4/27/21 7:00:00 PM EDT</td>\n      <td>72.815</td>\n      <td>T</td>\n      <td>449/451</td>\n      <td>4</td>\n      <td>1.0</td>\n      <td>NaN</td>\n      <td>NaN</td>\n      <td>NaN</td>\n      <td>2.0</td>\n      <td>A/C-13B</td>\n      <td>JCI  TE-6314P-1</td>\n      <td>AHU-15</td>\n      <td>EF-11</td>\n    </tr>\n    <tr>\n      <th>8</th>\n      <td>4/27/21 8:00:00 PM EDT</td>\n      <td>72.24414</td>\n      <td>T</td>\n      <td>449/451</td>\n      <td>4</td>\n      <td>1.0</td>\n      <td>NaN</td>\n      <td>NaN</td>\n      <td>NaN</td>\n      <td>2.0</td>\n      <td>A/C-13B</td>\n      <td>JCI  TE-6314P-1</td>\n      <td>AHU-15</td>\n      <td>EF-11</td>\n    </tr>\n    <tr>\n      <th>9</th>\n      <td>4/27/21 9:00:00 PM EDT</td>\n      <td>73.12637</td>\n      <td>T</td>\n      <td>449/451</td>\n      <td>4</td>\n      <td>1.0</td>\n      <td>NaN</td>\n      <td>NaN</td>\n      <td>NaN</td>\n      <td>2.0</td>\n      <td>A/C-13B</td>\n      <td>JCI  TE-6314P-1</td>\n      <td>AHU-15</td>\n      <td>EF-11</td>\n    </tr>\n    <tr>\n      <th>10</th>\n      <td>4/27/21 10:00:00 PM EDT</td>\n      <td>72.815</td>\n      <td>T</td>\n      <td>449/451</td>\n      <td>4</td>\n      <td>1.0</td>\n      <td>NaN</td>\n      <td>NaN</td>\n      <td>NaN</td>\n      <td>2.0</td>\n      <td>A/C-13B</td>\n      <td>JCI  TE-6314P-1</td>\n      <td>AHU-15</td>\n      <td>EF-11</td>\n    </tr>\n    <tr>\n      <th>11</th>\n      <td>4/27/21 11:00:00 PM EDT</td>\n      <td>72.14032</td>\n      <td>T</td>\n      <td>449/451</td>\n      <td>4</td>\n      <td>1.0</td>\n      <td>NaN</td>\n      <td>NaN</td>\n      <td>NaN</td>\n      <td>2.0</td>\n      <td>A/C-13B</td>\n      <td>JCI  TE-6314P-1</td>\n      <td>AHU-15</td>\n      <td>EF-11</td>\n    </tr>\n    <tr>\n      <th>12</th>\n      <td>4/28/21 12:00:00 AM EDT</td>\n      <td>73.308014</td>\n      <td>T</td>\n      <td>449/451</td>\n      <td>4</td>\n      <td>1.0</td>\n      <td>NaN</td>\n      <td>NaN</td>\n      <td>NaN</td>\n      <td>2.0</td>\n      <td>A/C-13B</td>\n      <td>JCI  TE-6314P-1</td>\n      <td>AHU-15</td>\n      <td>EF-11</td>\n    </tr>\n    <tr>\n      <th>13</th>\n      <td>4/28/21 1:00:00 AM EDT</td>\n      <td>72.19223</td>\n      <td>T</td>\n      <td>449/451</td>\n      <td>4</td>\n      <td>1.0</td>\n      <td>NaN</td>\n      <td>NaN</td>\n      <td>NaN</td>\n      <td>2.0</td>\n      <td>A/C-13B</td>\n      <td>JCI  TE-6314P-1</td>\n      <td>AHU-15</td>\n      <td>EF-11</td>\n    </tr>\n    <tr>\n      <th>14</th>\n      <td>4/28/21 2:00:00 AM EDT</td>\n      <td>73.17828</td>\n      <td>T</td>\n      <td>449/451</td>\n      <td>4</td>\n      <td>1.0</td>\n      <td>NaN</td>\n      <td>NaN</td>\n      <td>NaN</td>\n      <td>2.0</td>\n      <td>A/C-13B</td>\n      <td>JCI  TE-6314P-1</td>\n      <td>AHU-15</td>\n      <td>EF-11</td>\n    </tr>\n    <tr>\n      <th>15</th>\n      <td>4/28/21 3:00:00 AM EDT</td>\n      <td>72.91879</td>\n      <td>T</td>\n      <td>449/451</td>\n      <td>4</td>\n      <td>1.0</td>\n      <td>NaN</td>\n      <td>NaN</td>\n      <td>NaN</td>\n      <td>2.0</td>\n      <td>A/C-13B</td>\n      <td>JCI  TE-6314P-1</td>\n      <td>AHU-15</td>\n      <td>EF-11</td>\n    </tr>\n    <tr>\n      <th>16</th>\n      <td>4/28/21 4:00:00 AM EDT</td>\n      <td>72.01059</td>\n      <td>T</td>\n      <td>449/451</td>\n      <td>4</td>\n      <td>1.0</td>\n      <td>NaN</td>\n      <td>NaN</td>\n      <td>NaN</td>\n      <td>2.0</td>\n      <td>A/C-13B</td>\n      <td>JCI  TE-6314P-1</td>\n      <td>AHU-15</td>\n      <td>EF-11</td>\n    </tr>\n    <tr>\n      <th>17</th>\n      <td>4/28/21 5:00:00 AM EDT</td>\n      <td>73.17828</td>\n      <td>T</td>\n      <td>449/451</td>\n      <td>4</td>\n      <td>1.0</td>\n      <td>NaN</td>\n      <td>NaN</td>\n      <td>NaN</td>\n      <td>2.0</td>\n      <td>A/C-13B</td>\n      <td>JCI  TE-6314P-1</td>\n      <td>AHU-15</td>\n      <td>EF-11</td>\n    </tr>\n    <tr>\n      <th>18</th>\n      <td>4/28/21 6:00:00 AM EDT</td>\n      <td>72.71118</td>\n      <td>T</td>\n      <td>449/451</td>\n      <td>4</td>\n      <td>1.0</td>\n      <td>NaN</td>\n      <td>NaN</td>\n      <td>NaN</td>\n      <td>2.0</td>\n      <td>A/C-13B</td>\n      <td>JCI  TE-6314P-1</td>\n      <td>AHU-15</td>\n      <td>EF-11</td>\n    </tr>\n    <tr>\n      <th>19</th>\n      <td>4/28/21 7:00:00 AM EDT</td>\n      <td>73.567505</td>\n      <td>T</td>\n      <td>449/451</td>\n      <td>4</td>\n      <td>1.0</td>\n      <td>NaN</td>\n      <td>NaN</td>\n      <td>NaN</td>\n      <td>2.0</td>\n      <td>A/C-13B</td>\n      <td>JCI  TE-6314P-1</td>\n      <td>AHU-15</td>\n      <td>EF-11</td>\n    </tr>\n    <tr>\n      <th>20</th>\n      <td>4/28/21 8:00:00 AM EDT</td>\n      <td>72.71118</td>\n      <td>T</td>\n      <td>449/451</td>\n      <td>4</td>\n      <td>1.0</td>\n      <td>NaN</td>\n      <td>NaN</td>\n      <td>NaN</td>\n      <td>2.0</td>\n      <td>A/C-13B</td>\n      <td>JCI  TE-6314P-1</td>\n      <td>AHU-15</td>\n      <td>EF-11</td>\n    </tr>\n  </tbody>\n</table>\n</div>"
     },
     "metadata": {}
    }
   ],
   "execution_count": 66
  },
  {
   "cell_type": "code",
   "metadata": {
    "tags": [],
    "cell_id": "00009-f6e41116-260f-499a-869a-43e898aa2c75",
    "deepnote_to_be_reexecuted": false,
    "source_hash": "b623e53d",
    "execution_start": 1633450344730,
    "execution_millis": 0,
    "deepnote_cell_type": "code"
   },
   "source": "",
   "outputs": [],
   "execution_count": 51
  },
  {
   "cell_type": "code",
   "metadata": {
    "tags": [],
    "cell_id": "00009-ca0bd351-7b59-4fad-a8c9-d48bfab2dcf7",
    "deepnote_to_be_reexecuted": false,
    "source_hash": "217d271a",
    "execution_start": 1633451030950,
    "execution_millis": 47,
    "deepnote_cell_type": "code"
   },
   "source": "print(labs)",
   "outputs": [
    {
     "name": "stdout",
     "text": "{'TB15':                         Time Trend (deg F) Building Room # Floor  \\\n1     4/27/21 1:00:00 PM EDT      74.99469        T   B-15   B-1   \n2     4/27/21 2:00:00 PM EDT      74.29407        T   B-15   B-1   \n3     4/27/21 3:00:00 PM EDT      74.78711        T   B-15   B-1   \n4     4/27/21 4:00:00 PM EDT      74.47571        T   B-15   B-1   \n5     4/27/21 5:00:00 PM EDT      74.47571        T   B-15   B-1   \n...                      ...           ...      ...    ...   ...   \n3231             9/9/21 3:00          73.5        T   B-15   B-1   \n3232             9/9/21 4:00          73.5        T   B-15   B-1   \n3233             9/9/21 5:00          73.5        T   B-15   B-1   \n3234             9/9/21 6:00          72.7        T   B-15   B-1   \n3235             9/9/21 7:00          72.7        T   B-15   B-1   \n\n      Qty of Hoods  Windows (North)  Windows (West)  Windows (South)  \\\n1              1.0              NaN             NaN              NaN   \n2              1.0              NaN             NaN              NaN   \n3              1.0              NaN             NaN              NaN   \n4              1.0              NaN             NaN              NaN   \n5              1.0              NaN             NaN              NaN   \n...            ...              ...             ...              ...   \n3231           1.0              NaN             NaN              NaN   \n3232           1.0              NaN             NaN              NaN   \n3233           1.0              NaN             NaN              NaN   \n3234           1.0              NaN             NaN              NaN   \n3235           1.0              NaN             NaN              NaN   \n\n      Windows (East) Augmented Controls          Sensors Description  \\\n1                2.0             A/C-43  JCI  TE-6314P-1 Temperature   \n2                2.0             A/C-43  JCI  TE-6314P-1 Temperature   \n3                2.0             A/C-43  JCI  TE-6314P-1 Temperature   \n4                2.0             A/C-43  JCI  TE-6314P-1 Temperature   \n5                2.0             A/C-43  JCI  TE-6314P-1 Temperature   \n...              ...                ...                          ...   \n3231             2.0             A/C-43  JCI  TE-6314P-1 Temperature   \n3232             2.0             A/C-43  JCI  TE-6314P-1 Temperature   \n3233             2.0             A/C-43  JCI  TE-6314P-1 Temperature   \n3234             2.0             A/C-43  JCI  TE-6314P-1 Temperature   \n3235             2.0             A/C-43  JCI  TE-6314P-1 Temperature   \n\n     HVAC Systems Supplying Room Exhaust/Return System  \n1                          AHU-8                  EF-4  \n2                          AHU-8                  EF-4  \n3                          AHU-8                  EF-4  \n4                          AHU-8                  EF-4  \n5                          AHU-8                  EF-4  \n...                          ...                   ...  \n3231                       AHU-8                  EF-4  \n3232                       AHU-8                  EF-4  \n3233                       AHU-8                  EF-4  \n3234                       AHU-8                  EF-4  \n3235                       AHU-8                  EF-4  \n\n[3235 rows x 14 columns], 'T302':              Time Trend (deg F) Building Room # Floor  Qty of Hoods  \\\n1             NaN           NaN        T    302     3           1.0   \n2             NaN           NaN        T    302     3           1.0   \n3             NaN           NaN        T    302     3           1.0   \n4             NaN           NaN        T    302     3           1.0   \n5             NaN           NaN        T    302     3           1.0   \n...           ...           ...      ...    ...   ...           ...   \n3231  9/9/21 3:00          72.3        T    302     3           1.0   \n3232  9/9/21 4:00          72.3        T    302     3           1.0   \n3233  9/9/21 5:00          72.3        T    302     3           1.0   \n3234  9/9/21 6:00          72.2        T    302     3           1.0   \n3235  9/9/21 7:00          72.2        T    302     3           1.0   \n\n      Windows (North)  Windows (West)  Windows (South)  Windows (East)  \\\n1                 NaN             2.0              NaN             NaN   \n2                 NaN             2.0              NaN             NaN   \n3                 NaN             2.0              NaN             NaN   \n4                 NaN             2.0              NaN             NaN   \n5                 NaN             2.0              NaN             NaN   \n...               ...             ...              ...             ...   \n3231              NaN             2.0              NaN             NaN   \n3232              NaN             2.0              NaN             NaN   \n3233              NaN             2.0              NaN             NaN   \n3234              NaN             2.0              NaN             NaN   \n3235              NaN             2.0              NaN             NaN   \n\n     Augmented Controls Sensors Description HVAC Systems Supplying Room  \\\n1                A/C-23     JCI  TE-6314P-1                       AHU-6   \n2                A/C-23     JCI  TE-6314P-1                       AHU-6   \n3                A/C-23     JCI  TE-6314P-1                       AHU-6   \n4                A/C-23     JCI  TE-6314P-1                       AHU-6   \n5                A/C-23     JCI  TE-6314P-1                       AHU-6   \n...                 ...                 ...                         ...   \n3231             A/C-23     JCI  TE-6314P-1                       AHU-6   \n3232             A/C-23     JCI  TE-6314P-1                       AHU-6   \n3233             A/C-23     JCI  TE-6314P-1                       AHU-6   \n3234             A/C-23     JCI  TE-6314P-1                       AHU-6   \n3235             A/C-23     JCI  TE-6314P-1                       AHU-6   \n\n     Exhaust/Return System  \n1                     EF-4  \n2                     EF-4  \n3                     EF-4  \n4                     EF-4  \n5                     EF-4  \n...                    ...  \n3231                  EF-4  \n3232                  EF-4  \n3233                  EF-4  \n3234                  EF-4  \n3235                  EF-4  \n\n[3235 rows x 14 columns], 'T303':                          Time Trend (deg F) Building Room # Floor  \\\n1     4/27/21 12:00:00 PM EDT      71.69919        T    303     3   \n2      4/27/21 1:00:00 PM EDT       71.7511        T    303     3   \n3      4/27/21 2:00:00 PM EDT      71.64728        T    303     3   \n4      4/27/21 3:00:00 PM EDT      70.06445        T    303     3   \n5      4/27/21 4:00:00 PM EDT     70.583405        T    303     3   \n...                       ...           ...      ...    ...   ...   \n3231              9/9/21 3:00          69.4        T    303     3   \n3232              9/9/21 4:00          69.6        T    303     3   \n3233              9/9/21 5:00          70.2        T    303     3   \n3234              9/9/21 6:00          70.2        T    303     3   \n3235              9/9/21 7:00          70.4        T    303     3   \n\n      Qty of Hoods  Windows (North)  Windows (West)  Windows (South)  \\\n1              1.0              NaN             NaN              NaN   \n2              1.0              NaN             NaN              NaN   \n3              1.0              NaN             NaN              NaN   \n4              1.0              NaN             NaN              NaN   \n5              1.0              NaN             NaN              NaN   \n...            ...              ...             ...              ...   \n3231           1.0              NaN             NaN              NaN   \n3232           1.0              NaN             NaN              NaN   \n3233           1.0              NaN             NaN              NaN   \n3234           1.0              NaN             NaN              NaN   \n3235           1.0              NaN             NaN              NaN   \n\n      Windows (East) Augmented Controls Sensors Description  \\\n1                2.0            A/C-23A     JCI  TE-6314P-1   \n2                2.0            A/C-23A     JCI  TE-6314P-1   \n3                2.0            A/C-23A     JCI  TE-6314P-1   \n4                2.0            A/C-23A     JCI  TE-6314P-1   \n5                2.0            A/C-23A     JCI  TE-6314P-1   \n...              ...                ...                 ...   \n3231             2.0            A/C-23A     JCI  TE-6314P-1   \n3232             2.0            A/C-23A     JCI  TE-6314P-1   \n3233             2.0            A/C-23A     JCI  TE-6314P-1   \n3234             2.0            A/C-23A     JCI  TE-6314P-1   \n3235             2.0            A/C-23A     JCI  TE-6314P-1   \n\n     HVAC Systems Supplying Room Exhaust/Return System  \n1                          AHU-8                  EF-4  \n2                          AHU-8                  EF-4  \n3                          AHU-8                  EF-4  \n4                          AHU-8                  EF-4  \n5                          AHU-8                  EF-4  \n...                          ...                   ...  \n3231                       AHU-8                  EF-4  \n3232                       AHU-8                  EF-4  \n3233                       AHU-8                  EF-4  \n3234                       AHU-8                  EF-4  \n3235                       AHU-8                  EF-4  \n\n[3235 rows x 14 columns], 'T446':                         Time Trend (deg F) Building Room # Floor  \\\n1     4/27/21 1:00:00 PM EDT       72.0625        T    446     4   \n2     4/27/21 2:00:00 PM EDT      72.91879        T    446     4   \n3     4/27/21 3:00:00 PM EDT       72.0625        T    446     4   \n4     4/27/21 4:00:00 PM EDT      72.01059        T    446     4   \n5     4/27/21 5:00:00 PM EDT      72.01059        T    446     4   \n...                      ...           ...      ...    ...   ...   \n3231             9/9/21 3:00          69.2        T    446     4   \n3232             9/9/21 4:00          69.1        T    446     4   \n3233             9/9/21 5:00          68.9        T    446     4   \n3234             9/9/21 6:00          68.8        T    446     4   \n3235             9/9/21 7:00          68.9        T    446     4   \n\n      Qty of Hoods  Windows (North)  Windows (West)  Windows (South)  \\\n1              1.0              NaN             2.0              NaN   \n2              1.0              NaN             2.0              NaN   \n3              1.0              NaN             2.0              NaN   \n4              1.0              NaN             2.0              NaN   \n5              1.0              NaN             2.0              NaN   \n...            ...              ...             ...              ...   \n3231           1.0              NaN             2.0              NaN   \n3232           1.0              NaN             2.0              NaN   \n3233           1.0              NaN             2.0              NaN   \n3234           1.0              NaN             2.0              NaN   \n3235           1.0              NaN             2.0              NaN   \n\n      Windows (East) Augmented Controls Sensors Description  \\\n1                NaN             A/C-22     JCI  TE-6314P-1   \n2                NaN             A/C-22     JCI  TE-6314P-1   \n3                NaN             A/C-22     JCI  TE-6314P-1   \n4                NaN             A/C-22     JCI  TE-6314P-1   \n5                NaN             A/C-22     JCI  TE-6314P-1   \n...              ...                ...                 ...   \n3231             NaN             A/C-22     JCI  TE-6314P-1   \n3232             NaN             A/C-22     JCI  TE-6314P-1   \n3233             NaN             A/C-22     JCI  TE-6314P-1   \n3234             NaN             A/C-22     JCI  TE-6314P-1   \n3235             NaN             A/C-22     JCI  TE-6314P-1   \n\n     HVAC Systems Supplying Room Exhaust/Return System  \n1                         AHU-12                 EF-11  \n2                         AHU-12                 EF-11  \n3                         AHU-12                 EF-11  \n4                         AHU-12                 EF-11  \n5                         AHU-12                 EF-11  \n...                          ...                   ...  \n3231                      AHU-12                 EF-11  \n3232                      AHU-12                 EF-11  \n3233                      AHU-12                 EF-11  \n3234                      AHU-12                 EF-11  \n3235                      AHU-12                 EF-11  \n\n[3235 rows x 14 columns], 'T449':                         Time Trend (deg F) Building   Room # Floor  \\\n1     4/27/21 1:00:00 PM EDT      72.86691        T  449/451     4   \n2     4/27/21 2:00:00 PM EDT      72.45172        T  449/451     4   \n3     4/27/21 3:00:00 PM EDT      72.55551        T  449/451     4   \n4     4/27/21 4:00:00 PM EDT      72.71118        T  449/451     4   \n5     4/27/21 5:00:00 PM EDT      72.86691        T  449/451     4   \n...                      ...           ...      ...      ...   ...   \n3231             9/9/21 3:00            72        T  449/451     4   \n3232             9/9/21 4:00          71.9        T  449/451     4   \n3233             9/9/21 5:00          71.9        T  449/451     4   \n3234             9/9/21 6:00          71.9        T  449/451     4   \n3235             9/9/21 7:00          71.8        T  449/451     4   \n\n      Qty of Hoods  Windows (North)  Windows (West)  Windows (South)  \\\n1              1.0              NaN             NaN              NaN   \n2              1.0              NaN             NaN              NaN   \n3              1.0              NaN             NaN              NaN   \n4              1.0              NaN             NaN              NaN   \n5              1.0              NaN             NaN              NaN   \n...            ...              ...             ...              ...   \n3231           1.0              NaN             NaN              NaN   \n3232           1.0              NaN             NaN              NaN   \n3233           1.0              NaN             NaN              NaN   \n3234           1.0              NaN             NaN              NaN   \n3235           1.0              NaN             NaN              NaN   \n\n      Windows (East) Augmented Controls Sensors Description  \\\n1                2.0            A/C-13B     JCI  TE-6314P-1   \n2                2.0            A/C-13B     JCI  TE-6314P-1   \n3                2.0            A/C-13B     JCI  TE-6314P-1   \n4                2.0            A/C-13B     JCI  TE-6314P-1   \n5                2.0            A/C-13B     JCI  TE-6314P-1   \n...              ...                ...                 ...   \n3231             2.0            A/C-13B     JCI  TE-6314P-1   \n3232             2.0            A/C-13B     JCI  TE-6314P-1   \n3233             2.0            A/C-13B     JCI  TE-6314P-1   \n3234             2.0            A/C-13B     JCI  TE-6314P-1   \n3235             2.0            A/C-13B     JCI  TE-6314P-1   \n\n     HVAC Systems Supplying Room Exhaust/Return System  \n1                         AHU-15                 EF-11  \n2                         AHU-15                 EF-11  \n3                         AHU-15                 EF-11  \n4                         AHU-15                 EF-11  \n5                         AHU-15                 EF-11  \n...                          ...                   ...  \n3231                      AHU-15                 EF-11  \n3232                      AHU-15                 EF-11  \n3233                      AHU-15                 EF-11  \n3234                      AHU-15                 EF-11  \n3235                      AHU-15                 EF-11  \n\n[3235 rows x 14 columns], 'T454':                         Time Trend (deg F) HUMIDITY %. Trend (%RH) Building  \\\n1     4/27/21 1:00:00 PM EDT       71.9068                     NaN        T   \n2     4/27/21 2:00:00 PM EDT      72.45172                     NaN        T   \n3     4/27/21 3:00:00 PM EDT       72.0625                     NaN        T   \n4     4/27/21 4:00:00 PM EDT      72.01059                     NaN        T   \n5     4/27/21 5:00:00 PM EDT      72.14032                     NaN        T   \n...                      ...           ...                     ...      ...   \n3231             9/9/21 3:00          73.8                    60.9        T   \n3232             9/9/21 4:00          73.7                    60.6        T   \n3233             9/9/21 5:00            74                      60        T   \n3234             9/9/21 6:00          74.1                    58.6        T   \n3235             9/9/21 7:00            74                    55.4        T   \n\n     Room # Floor  Qty of Hoods  Windows (North)  Windows (West)  \\\n1       454     4           1.0              NaN             2.0   \n2       454     4           1.0              NaN             2.0   \n3       454     4           1.0              NaN             2.0   \n4       454     4           1.0              NaN             2.0   \n5       454     4           1.0              NaN             2.0   \n...     ...   ...           ...              ...             ...   \n3231    454     4           1.0              NaN             2.0   \n3232    454     4           1.0              NaN             2.0   \n3233    454     4           1.0              NaN             2.0   \n3234    454     4           1.0              NaN             2.0   \n3235    454     4           1.0              NaN             2.0   \n\n      Windows (South)  Windows (East) Augmented Controls  \\\n1                 NaN             NaN            A/C-22A   \n2                 NaN             NaN            A/C-22A   \n3                 NaN             NaN            A/C-22A   \n4                 NaN             NaN            A/C-22A   \n5                 NaN             NaN            A/C-22A   \n...               ...             ...                ...   \n3231              NaN             NaN            A/C-22A   \n3232              NaN             NaN            A/C-22A   \n3233              NaN             NaN            A/C-22A   \n3234              NaN             NaN            A/C-22A   \n3235              NaN             NaN            A/C-22A   \n\n                   Sensors Description HVAC Systems Supplying Room  \\\n1     JCI #HE-68N3-0N00WS (Temp & %RH)                      AHU-12   \n2     JCI #HE-68N3-0N00WS (Temp & %RH)                      AHU-12   \n3     JCI #HE-68N3-0N00WS (Temp & %RH)                      AHU-12   \n4     JCI #HE-68N3-0N00WS (Temp & %RH)                      AHU-12   \n5     JCI #HE-68N3-0N00WS (Temp & %RH)                      AHU-12   \n...                                ...                         ...   \n3231  JCI #HE-68N3-0N00WS (Temp & %RH)                      AHU-12   \n3232  JCI #HE-68N3-0N00WS (Temp & %RH)                      AHU-12   \n3233  JCI #HE-68N3-0N00WS (Temp & %RH)                      AHU-12   \n3234  JCI #HE-68N3-0N00WS (Temp & %RH)                      AHU-12   \n3235  JCI #HE-68N3-0N00WS (Temp & %RH)                      AHU-12   \n\n     Exhaust/Return System  \n1                    EF-11  \n2                    EF-11  \n3                    EF-11  \n4                    EF-11  \n5                    EF-11  \n...                    ...  \n3231                 EF-11  \n3232                 EF-11  \n3233                 EF-11  \n3234                 EF-11  \n3235                 EF-11  \n\n[3235 rows x 15 columns], 'TB01':              Time HUMIDITY %. Trend (%RH) Trend (deg F) Building Room # Floor  \\\n1             NaN                     NaN           NaN        T   B-01   B-1   \n2             NaN                     NaN           NaN        T   B-01   B-1   \n3             NaN                     NaN           NaN        T   B-01   B-1   \n4             NaN                     NaN           NaN        T   B-01   B-1   \n5             NaN                     NaN           NaN        T   B-01   B-1   \n...           ...                     ...           ...      ...    ...   ...   \n3231  9/9/21 3:00                    57.7          72.7        T   B-01   B-1   \n3232  9/9/21 4:00                    57.8          72.6        T   B-01   B-1   \n3233  9/9/21 5:00                    56.7          72.6        T   B-01   B-1   \n3234  9/9/21 6:00                    56.2          72.6        T   B-01   B-1   \n3235  9/9/21 7:00                    55.5          72.6        T   B-01   B-1   \n\n      Qty of Hoods  Windows (North)  Windows (West)  Windows (South)  \\\n1              2.0              NaN             NaN              NaN   \n2              2.0              NaN             NaN              NaN   \n3              2.0              NaN             NaN              NaN   \n4              2.0              NaN             NaN              NaN   \n5              2.0              NaN             NaN              NaN   \n...            ...              ...             ...              ...   \n3231           2.0              NaN             NaN              NaN   \n3232           2.0              NaN             NaN              NaN   \n3233           2.0              NaN             NaN              NaN   \n3234           2.0              NaN             NaN              NaN   \n3235           2.0              NaN             NaN              NaN   \n\n      Windows (East) Augmented Controls  \\\n1                1.0             A/C-43   \n2                1.0             A/C-43   \n3                1.0             A/C-43   \n4                1.0             A/C-43   \n5                1.0             A/C-43   \n...              ...                ...   \n3231             1.0             A/C-43   \n3232             1.0             A/C-43   \n3233             1.0             A/C-43   \n3234             1.0             A/C-43   \n3235             1.0             A/C-43   \n\n                                    Sensors Description  \\\n1     JCI  TE-6314P-1 (Temp); JCI #HE-68N3-0N00WS (%RH)   \n2     JCI  TE-6314P-1 (Temp); JCI #HE-68N3-0N00WS (%RH)   \n3     JCI  TE-6314P-1 (Temp); JCI #HE-68N3-0N00WS (%RH)   \n4     JCI  TE-6314P-1 (Temp); JCI #HE-68N3-0N00WS (%RH)   \n5     JCI  TE-6314P-1 (Temp); JCI #HE-68N3-0N00WS (%RH)   \n...                                                 ...   \n3231  JCI  TE-6314P-1 (Temp); JCI #HE-68N3-0N00WS (%RH)   \n3232  JCI  TE-6314P-1 (Temp); JCI #HE-68N3-0N00WS (%RH)   \n3233  JCI  TE-6314P-1 (Temp); JCI #HE-68N3-0N00WS (%RH)   \n3234  JCI  TE-6314P-1 (Temp); JCI #HE-68N3-0N00WS (%RH)   \n3235  JCI  TE-6314P-1 (Temp); JCI #HE-68N3-0N00WS (%RH)   \n\n     HVAC Systems Supplying Room Exhaust/Return System  \n1                          AHU-8                  EF-4  \n2                          AHU-8                  EF-4  \n3                          AHU-8                  EF-4  \n4                          AHU-8                  EF-4  \n5                          AHU-8                  EF-4  \n...                          ...                   ...  \n3231                       AHU-8                  EF-4  \n3232                       AHU-8                  EF-4  \n3233                       AHU-8                  EF-4  \n3234                       AHU-8                  EF-4  \n3235                       AHU-8                  EF-4  \n\n[3235 rows x 15 columns], 'H309':              Time Trend (deg F) HUMIDITY %. Trend (%RH) Building Room # Floor  \\\n1             NaN           NaN                     NaN        H    309     1   \n2             NaN           NaN                     NaN        H    309     1   \n3             NaN           NaN                     NaN        H    309     1   \n4             NaN           NaN                     NaN        H    309     1   \n5             NaN           NaN                     NaN        H    309     1   \n...           ...           ...                     ...      ...    ...   ...   \n3231  9/9/21 3:00            70                      48        H    309     1   \n3232  9/9/21 4:00            70                      47        H    309     1   \n3233  9/9/21 5:00            70                      48        H    309     1   \n3234  9/9/21 6:00          70.1                      49        H    309     1   \n3235  9/9/21 7:00          69.5                      51        H    309     1   \n\n      Qty of Hoods  Windows (North)  Windows (West)  Windows (South)  \\\n1              NaN              NaN             NaN              NaN   \n2              NaN              NaN             NaN              NaN   \n3              NaN              NaN             NaN              NaN   \n4              NaN              NaN             NaN              NaN   \n5              NaN              NaN             NaN              NaN   \n...            ...              ...             ...              ...   \n3231           NaN              NaN             NaN              NaN   \n3232           NaN              NaN             NaN              NaN   \n3233           NaN              NaN             NaN              NaN   \n3234           NaN              NaN             NaN              NaN   \n3235           NaN              NaN             NaN              NaN   \n\n      Windows (East)  Augmented Controls        Sensors Description  \\\n1                NaN                 NaN  JCI #HE-68N3-0N00WS (%RH)   \n2                NaN                 NaN  JCI #HE-68N3-0N00WS (%RH)   \n3                NaN                 NaN  JCI #HE-68N3-0N00WS (%RH)   \n4                NaN                 NaN  JCI #HE-68N3-0N00WS (%RH)   \n5                NaN                 NaN  JCI #HE-68N3-0N00WS (%RH)   \n...              ...                 ...                        ...   \n3231             NaN                 NaN  JCI #HE-68N3-0N00WS (%RH)   \n3232             NaN                 NaN  JCI #HE-68N3-0N00WS (%RH)   \n3233             NaN                 NaN  JCI #HE-68N3-0N00WS (%RH)   \n3234             NaN                 NaN  JCI #HE-68N3-0N00WS (%RH)   \n3235             NaN                 NaN  JCI #HE-68N3-0N00WS (%RH)   \n\n     HVAC Systems Supplying Room Exhaust/Return System  \n1                  RTU-52 & SF-8                 EF-21  \n2                  RTU-52 & SF-8                 EF-21  \n3                  RTU-52 & SF-8                 EF-21  \n4                  RTU-52 & SF-8                 EF-21  \n5                  RTU-52 & SF-8                 EF-21  \n...                          ...                   ...  \n3231               RTU-52 & SF-8                 EF-21  \n3232               RTU-52 & SF-8                 EF-21  \n3233               RTU-52 & SF-8                 EF-21  \n3234               RTU-52 & SF-8                 EF-21  \n3235               RTU-52 & SF-8                 EF-21  \n\n[3235 rows x 15 columns], 'H351':              Time Trend (deg F) Building Room # Floor  Qty of Hoods  \\\n1             NaN           NaN        H    351     1           1.0   \n2             NaN           NaN        H    351     1           1.0   \n3             NaN           NaN        H    351     1           1.0   \n4             NaN           NaN        H    351     1           1.0   \n5             NaN           NaN        H    351     1           1.0   \n...           ...           ...      ...    ...   ...           ...   \n3231  9/9/21 3:00          69.9        H    351     1           1.0   \n3232  9/9/21 4:00          69.9        H    351     1           1.0   \n3233  9/9/21 5:00          69.9        H    351     1           1.0   \n3234  9/9/21 6:00          69.8        H    351     1           1.0   \n3235  9/9/21 7:00          69.9        H    351     1           1.0   \n\n      Windows (North)  Windows (West)  Windows (South)  Windows (East)  \\\n1                 0.0             0.0              0.0             0.0   \n2                 0.0             0.0              0.0             0.0   \n3                 0.0             0.0              0.0             0.0   \n4                 0.0             0.0              0.0             0.0   \n5                 0.0             0.0              0.0             0.0   \n...               ...             ...              ...             ...   \n3231              0.0             0.0              0.0             0.0   \n3232              0.0             0.0              0.0             0.0   \n3233              0.0             0.0              0.0             0.0   \n3234              0.0             0.0              0.0             0.0   \n3235              0.0             0.0              0.0             0.0   \n\n                Augmented Controls                        Sensors Description  \\\n1     PUY-A24NHA7(HP-64) Aux. Unit  Johnson Controls TE-67NT-1B00 (+-2degree)   \n2     PUY-A24NHA7(HP-64) Aux. Unit  Johnson Controls TE-67NT-1B00 (+-2degree)   \n3     PUY-A24NHA7(HP-64) Aux. Unit  Johnson Controls TE-67NT-1B00 (+-2degree)   \n4     PUY-A24NHA7(HP-64) Aux. Unit  Johnson Controls TE-67NT-1B00 (+-2degree)   \n5     PUY-A24NHA7(HP-64) Aux. Unit  Johnson Controls TE-67NT-1B00 (+-2degree)   \n...                            ...                                        ...   \n3231  PUY-A24NHA7(HP-64) Aux. Unit  Johnson Controls TE-67NT-1B00 (+-2degree)   \n3232  PUY-A24NHA7(HP-64) Aux. Unit  Johnson Controls TE-67NT-1B00 (+-2degree)   \n3233  PUY-A24NHA7(HP-64) Aux. Unit  Johnson Controls TE-67NT-1B00 (+-2degree)   \n3234  PUY-A24NHA7(HP-64) Aux. Unit  Johnson Controls TE-67NT-1B00 (+-2degree)   \n3235  PUY-A24NHA7(HP-64) Aux. Unit  Johnson Controls TE-67NT-1B00 (+-2degree)   \n\n     HVAC Systems Supplying Room Exhaust/Return System  \n1                  RTU-54 & SF-7                 EF-20  \n2                  RTU-54 & SF-7                 EF-20  \n3                  RTU-54 & SF-7                 EF-20  \n4                  RTU-54 & SF-7                 EF-20  \n5                  RTU-54 & SF-7                 EF-20  \n...                          ...                   ...  \n3231               RTU-54 & SF-7                 EF-20  \n3232               RTU-54 & SF-7                 EF-20  \n3233               RTU-54 & SF-7                 EF-20  \n3234               RTU-54 & SF-7                 EF-20  \n3235               RTU-54 & SF-7                 EF-20  \n\n[3235 rows x 14 columns], 'H355':              Time Trend (deg F) Building Room # Floor  Qty of Hoods  \\\n1             NaN           NaN        H    355     1           3.0   \n2             NaN           NaN        H    355     1           3.0   \n3             NaN           NaN        H    355     1           3.0   \n4             NaN           NaN        H    355     1           3.0   \n5             NaN           NaN        H    355     1           3.0   \n...           ...           ...      ...    ...   ...           ...   \n3231  9/9/21 3:00          68.7        H    355     1           3.0   \n3232  9/9/21 4:00          68.7        H    355     1           3.0   \n3233  9/9/21 5:00          68.7        H    355     1           3.0   \n3234  9/9/21 6:00          68.6        H    355     1           3.0   \n3235  9/9/21 7:00          68.6        H    355     1           3.0   \n\n      Windows (North)  Windows (West)  Windows (South)  Windows (East)  \\\n1                 0.0             0.0              0.0             0.0   \n2                 0.0             0.0              0.0             0.0   \n3                 0.0             0.0              0.0             0.0   \n4                 0.0             0.0              0.0             0.0   \n5                 0.0             0.0              0.0             0.0   \n...               ...             ...              ...             ...   \n3231              0.0             0.0              0.0             0.0   \n3232              0.0             0.0              0.0             0.0   \n3233              0.0             0.0              0.0             0.0   \n3234              0.0             0.0              0.0             0.0   \n3235              0.0             0.0              0.0             0.0   \n\n     Augmented Controls                        Sensors Description  \\\n1                     0  Johnson Controls TE-67NT-1B00 (+-2degree)   \n2                     0  Johnson Controls TE-67NT-1B00 (+-2degree)   \n3                     0  Johnson Controls TE-67NT-1B00 (+-2degree)   \n4                     0  Johnson Controls TE-67NT-1B00 (+-2degree)   \n5                     0  Johnson Controls TE-67NT-1B00 (+-2degree)   \n...                 ...                                        ...   \n3231                  0  Johnson Controls TE-67NT-1B00 (+-2degree)   \n3232                  0  Johnson Controls TE-67NT-1B00 (+-2degree)   \n3233                  0  Johnson Controls TE-67NT-1B00 (+-2degree)   \n3234                  0  Johnson Controls TE-67NT-1B00 (+-2degree)   \n3235                  0  Johnson Controls TE-67NT-1B00 (+-2degree)   \n\n     HVAC Systems Supplying Room Exhaust/Return System  \n1                  RTU-54 & SF-7                 EF-20  \n2                  RTU-54 & SF-7                 EF-20  \n3                  RTU-54 & SF-7                 EF-20  \n4                  RTU-54 & SF-7                 EF-20  \n5                  RTU-54 & SF-7                 EF-20  \n...                          ...                   ...  \n3231               RTU-54 & SF-7                 EF-20  \n3232               RTU-54 & SF-7                 EF-20  \n3233               RTU-54 & SF-7                 EF-20  \n3234               RTU-54 & SF-7                 EF-20  \n3235               RTU-54 & SF-7                 EF-20  \n\n[3235 rows x 14 columns], 'H424':              Time Trend (deg F) Building Room # Floor  Qty of Hoods  \\\n1             NaN           NaN        H    424     1           1.0   \n2             NaN           NaN        H    424     1           1.0   \n3             NaN           NaN        H    424     1           1.0   \n4             NaN           NaN        H    424     1           1.0   \n5             NaN           NaN        H    424     1           1.0   \n...           ...           ...      ...    ...   ...           ...   \n3231  9/9/21 3:00          70.6        H    424     1           1.0   \n3232  9/9/21 4:00          70.6        H    424     1           1.0   \n3233  9/9/21 5:00          70.6        H    424     1           1.0   \n3234  9/9/21 6:00          70.6        H    424     1           1.0   \n3235  9/9/21 7:00          70.4        H    424     1           1.0   \n\n      Windows (North)  Windows (West)  Windows (South)  Windows (East)  \\\n1                 0.0             0.0              0.0             0.0   \n2                 0.0             0.0              0.0             0.0   \n3                 0.0             0.0              0.0             0.0   \n4                 0.0             0.0              0.0             0.0   \n5                 0.0             0.0              0.0             0.0   \n...               ...             ...              ...             ...   \n3231              0.0             0.0              0.0             0.0   \n3232              0.0             0.0              0.0             0.0   \n3233              0.0             0.0              0.0             0.0   \n3234              0.0             0.0              0.0             0.0   \n3235              0.0             0.0              0.0             0.0   \n\n     Augmented Controls                        Sensors Description  \\\n1                     0  Johnson Controls TE-67NT-1B00 (+-2degree)   \n2                     0  Johnson Controls TE-67NT-1B00 (+-2degree)   \n3                     0  Johnson Controls TE-67NT-1B00 (+-2degree)   \n4                     0  Johnson Controls TE-67NT-1B00 (+-2degree)   \n5                     0  Johnson Controls TE-67NT-1B00 (+-2degree)   \n...                 ...                                        ...   \n3231                  0  Johnson Controls TE-67NT-1B00 (+-2degree)   \n3232                  0  Johnson Controls TE-67NT-1B00 (+-2degree)   \n3233                  0  Johnson Controls TE-67NT-1B00 (+-2degree)   \n3234                  0  Johnson Controls TE-67NT-1B00 (+-2degree)   \n3235                  0  Johnson Controls TE-67NT-1B00 (+-2degree)   \n\n     HVAC Systems Supplying Room Exhaust/Return System  \n1                  RTU-52 & SF-8                 EF-21  \n2                  RTU-52 & SF-8                 EF-21  \n3                  RTU-52 & SF-8                 EF-21  \n4                  RTU-52 & SF-8                 EF-21  \n5                  RTU-52 & SF-8                 EF-21  \n...                          ...                   ...  \n3231               RTU-52 & SF-8                 EF-21  \n3232               RTU-52 & SF-8                 EF-21  \n3233               RTU-52 & SF-8                 EF-21  \n3234               RTU-52 & SF-8                 EF-21  \n3235               RTU-52 & SF-8                 EF-21  \n\n[3235 rows x 14 columns], 'H460':              Time Trend (deg F) Building Room # Floor  Qty of Hoods  \\\n1             NaN           NaN        H    460     1           2.0   \n2             NaN           NaN        H    460     1           2.0   \n3             NaN           NaN        H    460     1           2.0   \n4             NaN           NaN        H    460     1           2.0   \n5             NaN           NaN        H    460     1           2.0   \n...           ...           ...      ...    ...   ...           ...   \n3231  9/9/21 3:00          71.3        H    460     1           2.0   \n3232  9/9/21 4:00          71.1        H    460     1           2.0   \n3233  9/9/21 5:00          70.9        H    460     1           2.0   \n3234  9/9/21 6:00          70.6        H    460     1           2.0   \n3235  9/9/21 7:00          69.8        H    460     1           2.0   \n\n      Windows (North)  Windows (West)  Windows (South)  Windows (East)  \\\n1                 0.0             0.0              0.0             0.0   \n2                 0.0             0.0              0.0             0.0   \n3                 0.0             0.0              0.0             0.0   \n4                 0.0             0.0              0.0             0.0   \n5                 0.0             0.0              0.0             0.0   \n...               ...             ...              ...             ...   \n3231              0.0             0.0              0.0             0.0   \n3232              0.0             0.0              0.0             0.0   \n3233              0.0             0.0              0.0             0.0   \n3234              0.0             0.0              0.0             0.0   \n3235              0.0             0.0              0.0             0.0   \n\n               Augmented Controls                        Sensors Description  \\\n1     PKA-A18HA7 (HP-35)Aux. Unit  Johnson Controls TE-67NT-1B00 (+-2degree)   \n2     PKA-A18HA7 (HP-35)Aux. Unit  Johnson Controls TE-67NT-1B00 (+-2degree)   \n3     PKA-A18HA7 (HP-35)Aux. Unit  Johnson Controls TE-67NT-1B00 (+-2degree)   \n4     PKA-A18HA7 (HP-35)Aux. Unit  Johnson Controls TE-67NT-1B00 (+-2degree)   \n5     PKA-A18HA7 (HP-35)Aux. Unit  Johnson Controls TE-67NT-1B00 (+-2degree)   \n...                           ...                                        ...   \n3231  PKA-A18HA7 (HP-35)Aux. Unit  Johnson Controls TE-67NT-1B00 (+-2degree)   \n3232  PKA-A18HA7 (HP-35)Aux. Unit  Johnson Controls TE-67NT-1B00 (+-2degree)   \n3233  PKA-A18HA7 (HP-35)Aux. Unit  Johnson Controls TE-67NT-1B00 (+-2degree)   \n3234  PKA-A18HA7 (HP-35)Aux. Unit  Johnson Controls TE-67NT-1B00 (+-2degree)   \n3235  PKA-A18HA7 (HP-35)Aux. Unit  Johnson Controls TE-67NT-1B00 (+-2degree)   \n\n     HVAC Systems Supplying Room Exhaust/Return System  \n1                  RTU-54 & SF-7                 EF-20  \n2                  RTU-54 & SF-7                 EF-20  \n3                  RTU-54 & SF-7                 EF-20  \n4                  RTU-54 & SF-7                 EF-20  \n5                  RTU-54 & SF-7                 EF-20  \n...                          ...                   ...  \n3231               RTU-54 & SF-7                 EF-20  \n3232               RTU-54 & SF-7                 EF-20  \n3233               RTU-54 & SF-7                 EF-20  \n3234               RTU-54 & SF-7                 EF-20  \n3235               RTU-54 & SF-7                 EF-20  \n\n[3235 rows x 14 columns], 'H353':              Time HUMIDITY %. Trend (%RH) Trend (deg F) Building Room # Floor  \\\n1             NaN                     NaN           NaN        H    353     1   \n2             NaN                     NaN           NaN        H    353     1   \n3             NaN                     NaN           NaN        H    353     1   \n4             NaN                     NaN           NaN        H    353     1   \n5             NaN                     NaN           NaN        H    353     1   \n...           ...                     ...           ...      ...    ...   ...   \n3231  9/9/21 3:00                      60          70.6        H    353     1   \n3232  9/9/21 4:00                      59          70.6        H    353     1   \n3233  9/9/21 5:00                      59          70.5        H    353     1   \n3234  9/9/21 6:00                      60          70.5        H    353     1   \n3235  9/9/21 7:00                      58          70.4        H    353     1   \n\n      Qty of Hoods  Windows (North)  Windows (West)  Windows (South)  \\\n1              2.0              0.0             0.0              0.0   \n2              2.0              0.0             0.0              0.0   \n3              2.0              0.0             0.0              0.0   \n4              2.0              0.0             0.0              0.0   \n5              2.0              0.0             0.0              0.0   \n...            ...              ...             ...              ...   \n3231           2.0              0.0             0.0              0.0   \n3232           2.0              0.0             0.0              0.0   \n3233           2.0              0.0             0.0              0.0   \n3234           2.0              0.0             0.0              0.0   \n3235           2.0              0.0             0.0              0.0   \n\n      Windows (East) Augmented Controls  \\\n1                0.0                  0   \n2                0.0                  0   \n3                0.0                  0   \n4                0.0                  0   \n5                0.0                  0   \n...              ...                ...   \n3231             0.0                  0   \n3232             0.0                  0   \n3233             0.0                  0   \n3234             0.0                  0   \n3235             0.0                  0   \n\n                                    Sensors Description  \\\n1     Johnson Controls TE-67NT-1B00 (+-2degree) (Tem...   \n2     Johnson Controls TE-67NT-1B00 (+-2degree) (Tem...   \n3     Johnson Controls TE-67NT-1B00 (+-2degree) (Tem...   \n4     Johnson Controls TE-67NT-1B00 (+-2degree) (Tem...   \n5     Johnson Controls TE-67NT-1B00 (+-2degree) (Tem...   \n...                                                 ...   \n3231  Johnson Controls TE-67NT-1B00 (+-2degree) (Tem...   \n3232  Johnson Controls TE-67NT-1B00 (+-2degree) (Tem...   \n3233  Johnson Controls TE-67NT-1B00 (+-2degree) (Tem...   \n3234  Johnson Controls TE-67NT-1B00 (+-2degree) (Tem...   \n3235  Johnson Controls TE-67NT-1B00 (+-2degree) (Tem...   \n\n     HVAC Systems Supplying Room Exhaust/Return System  \n1                  RTU-54 & SF-7                 EF-20  \n2                  RTU-54 & SF-7                 EF-20  \n3                  RTU-54 & SF-7                 EF-20  \n4                  RTU-54 & SF-7                 EF-20  \n5                  RTU-54 & SF-7                 EF-20  \n...                          ...                   ...  \n3231               RTU-54 & SF-7                 EF-20  \n3232               RTU-54 & SF-7                 EF-20  \n3233               RTU-54 & SF-7                 EF-20  \n3234               RTU-54 & SF-7                 EF-20  \n3235               RTU-54 & SF-7                 EF-20  \n\n[3235 rows x 15 columns]}\n",
     "output_type": "stream"
    }
   ],
   "execution_count": 69
  },
  {
   "cell_type": "code",
   "source": "",
   "metadata": {
    "tags": [],
    "cell_id": "00010-65de591e-41fa-4dc2-af22-4888c9db21b9",
    "deepnote_cell_type": "code"
   },
   "outputs": [],
   "execution_count": null
  },
  {
   "cell_type": "markdown",
   "source": "<a style='text-decoration:none;line-height:16px;display:flex;color:#5B5B62;padding:10px;justify-content:end;' href='https://deepnote.com?utm_source=created-in-deepnote-cell&projectId=bf8e464d-6614-4785-bf90-eb5b6d8a76b5' target=\"_blank\">\n<img alt='Created in deepnote.com' style='display:inline;max-height:16px;margin:0px;margin-right:7.5px;' src='data:image/svg+xml;base64,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' > </img>\nCreated in <span style='font-weight:600;margin-left:4px;'>Deepnote</span></a>",
   "metadata": {
    "tags": [],
    "created_in_deepnote_cell": true,
    "deepnote_cell_type": "markdown"
   }
  }
 ],
 "nbformat": 4,
 "nbformat_minor": 2,
 "metadata": {
  "orig_nbformat": 2,
  "deepnote": {
   "is_reactive": false
  },
  "deepnote_notebook_id": "150bf715-e1fc-4fad-b929-7622a7fa9c6a",
  "deepnote_execution_queue": []
 }
}