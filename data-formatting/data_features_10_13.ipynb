{
 "cells": [
  {
   "cell_type": "code",
   "execution_count": null,
   "source": [
    "# Start writing code here..."
   ],
   "outputs": [],
   "metadata": {
    "tags": [],
    "cell_id": "00000-c02bd41f-9ab5-4323-ae08-9aa071c44bd7",
    "deepnote_cell_type": "code"
   }
  },
  {
   "cell_type": "markdown",
   "source": [
    "# HCS T4SG NIOSH Project - Week 3 (10/13) Deliverable"
   ],
   "metadata": {
    "tags": [],
    "is_collapsed": false,
    "cell_id": "00001-5aac4697-28b3-441a-9311-14839cacec21",
    "deepnote_cell_type": "text-cell-h1"
   }
  },
  {
   "cell_type": "markdown",
   "source": [
    "Cleaned Data Final Form: summary dataframe (for each lab), labs time series dataframe (with no nulls), general dataframe (outdoor conditions)"
   ],
   "metadata": {
    "tags": [],
    "is_collapsed": false,
    "cell_id": "00002-c8208a0b-e67e-4914-823f-ad6c2cbe2ce0",
    "deepnote_cell_type": "text-cell-p"
   }
  },
  {
   "cell_type": "code",
   "execution_count": 36,
   "source": [
    "import pandas as pd\n",
    "import numpy as np\n",
    "path = \"./LabTempTrends.csv\"\n",
    "df = pd.read_csv(path)\n",
    "df.head(10)"
   ],
   "outputs": [
    {
     "output_type": "execute_result",
     "data": {
      "application/vnd.deepnote.dataframe.v2+json": {
       "row_count": 10,
       "column_count": 40,
       "columns": [
        {
         "name": "TB15",
         "dtype": "object",
         "stats": {
          "unique_count": 10,
          "nan_count": 0,
          "categories": [
           {
            "name": "Time",
            "count": 1
           },
           {
            "name": "4/27/21 1:00:00 PM EDT",
            "count": 1
           },
           {
            "name": "8 others",
            "count": 8
           }
          ]
         }
        },
        {
         "name": "Unnamed: 1",
         "dtype": "object",
         "stats": {
          "unique_count": 9,
          "nan_count": 0,
          "categories": [
           {
            "name": "74.47571",
            "count": 2
           },
           {
            "name": "Trend (deg F)",
            "count": 1
           },
           {
            "name": "7 others",
            "count": 7
           }
          ]
         }
        },
        {
         "name": "T302",
         "dtype": "object",
         "stats": {
          "unique_count": 1,
          "nan_count": 9,
          "categories": [
           {
            "name": "Time",
            "count": 1
           },
           {
            "name": "Missing",
            "count": 9
           }
          ]
         }
        },
        {
         "name": "Unnamed: 3",
         "dtype": "object",
         "stats": {
          "unique_count": 1,
          "nan_count": 9,
          "categories": [
           {
            "name": "Trend (deg F)",
            "count": 1
           },
           {
            "name": "Missing",
            "count": 9
           }
          ]
         }
        },
        {
         "name": "T303",
         "dtype": "object",
         "stats": {
          "unique_count": 10,
          "nan_count": 0,
          "categories": [
           {
            "name": "Time",
            "count": 1
           },
           {
            "name": "4/27/21 12:00:00 PM EDT",
            "count": 1
           },
           {
            "name": "8 others",
            "count": 8
           }
          ]
         }
        },
        {
         "name": "Unnamed: 5",
         "dtype": "object",
         "stats": {
          "unique_count": 10,
          "nan_count": 0,
          "categories": [
           {
            "name": "Trend (deg F)",
            "count": 1
           },
           {
            "name": "71.69919",
            "count": 1
           },
           {
            "name": "8 others",
            "count": 8
           }
          ]
         }
        },
        {
         "name": "T446",
         "dtype": "object",
         "stats": {
          "unique_count": 10,
          "nan_count": 0,
          "categories": [
           {
            "name": "Time",
            "count": 1
           },
           {
            "name": "4/27/21 1:00:00 PM EDT",
            "count": 1
           },
           {
            "name": "8 others",
            "count": 8
           }
          ]
         }
        },
        {
         "name": "Unnamed: 7",
         "dtype": "object",
         "stats": {
          "unique_count": 8,
          "nan_count": 0,
          "categories": [
           {
            "name": "72.0625",
            "count": 2
           },
           {
            "name": "72.01059",
            "count": 2
           },
           {
            "name": "6 others",
            "count": 6
           }
          ]
         }
        },
        {
         "name": "T449",
         "dtype": "object",
         "stats": {
          "unique_count": 10,
          "nan_count": 0,
          "categories": [
           {
            "name": "Time",
            "count": 1
           },
           {
            "name": "4/27/21 1:00:00 PM EDT",
            "count": 1
           },
           {
            "name": "8 others",
            "count": 8
           }
          ]
         }
        },
        {
         "name": "Unnamed: 9",
         "dtype": "object",
         "stats": {
          "unique_count": 8,
          "nan_count": 0,
          "categories": [
           {
            "name": "72.86691",
            "count": 2
           },
           {
            "name": "73.12637",
            "count": 2
           },
           {
            "name": "6 others",
            "count": 6
           }
          ]
         }
        },
        {
         "name": "T454",
         "dtype": "object",
         "stats": {
          "unique_count": 10,
          "nan_count": 0,
          "categories": [
           {
            "name": "Time",
            "count": 1
           },
           {
            "name": "4/27/21 1:00:00 PM EDT",
            "count": 1
           },
           {
            "name": "8 others",
            "count": 8
           }
          ]
         }
        },
        {
         "name": "Unnamed: 11",
         "dtype": "object",
         "stats": {
          "unique_count": 10,
          "nan_count": 0,
          "categories": [
           {
            "name": "Trend (deg F)",
            "count": 1
           },
           {
            "name": "71.9068",
            "count": 1
           },
           {
            "name": "8 others",
            "count": 8
           }
          ]
         }
        },
        {
         "name": "T Building",
         "dtype": "object",
         "stats": {
          "unique_count": 1,
          "nan_count": 9,
          "categories": [
           {
            "name": "Time",
            "count": 1
           },
           {
            "name": "Missing",
            "count": 9
           }
          ]
         }
        },
        {
         "name": "Unnamed: 13",
         "dtype": "object",
         "stats": {
          "unique_count": 1,
          "nan_count": 9,
          "categories": [
           {
            "name": "OUTSIDE HUMIDTY.Trend (RH%)",
            "count": 1
           },
           {
            "name": "Missing",
            "count": 9
           }
          ]
         }
        },
        {
         "name": "T Building.1",
         "dtype": "object",
         "stats": {
          "unique_count": 1,
          "nan_count": 9,
          "categories": [
           {
            "name": "Time",
            "count": 1
           },
           {
            "name": "Missing",
            "count": 9
           }
          ]
         }
        },
        {
         "name": "Unnamed: 15",
         "dtype": "object",
         "stats": {
          "unique_count": 1,
          "nan_count": 9,
          "categories": [
           {
            "name": "OA-T.Trend (deg F)",
            "count": 1
           },
           {
            "name": "Missing",
            "count": 9
           }
          ]
         }
        },
        {
         "name": "T Building.2",
         "dtype": "object",
         "stats": {
          "unique_count": 1,
          "nan_count": 9,
          "categories": [
           {
            "name": "Time",
            "count": 1
           },
           {
            "name": "Missing",
            "count": 9
           }
          ]
         }
        },
        {
         "name": "Unnamed: 17",
         "dtype": "object",
         "stats": {
          "unique_count": 1,
          "nan_count": 9,
          "categories": [
           {
            "name": "OUTSIDE ENTHALPY.Trend (Btu/lb)",
            "count": 1
           },
           {
            "name": "Missing",
            "count": 9
           }
          ]
         }
        },
        {
         "name": "TB01",
         "dtype": "object",
         "stats": {
          "unique_count": 1,
          "nan_count": 9,
          "categories": [
           {
            "name": "Time",
            "count": 1
           },
           {
            "name": "Missing",
            "count": 9
           }
          ]
         }
        },
        {
         "name": "Unnamed: 19",
         "dtype": "object",
         "stats": {
          "unique_count": 1,
          "nan_count": 9,
          "categories": [
           {
            "name": "HUMIDITY %. Trend (%RH)",
            "count": 1
           },
           {
            "name": "Missing",
            "count": 9
           }
          ]
         }
        },
        {
         "name": "T454.1",
         "dtype": "object",
         "stats": {
          "unique_count": 1,
          "nan_count": 9,
          "categories": [
           {
            "name": "Time",
            "count": 1
           },
           {
            "name": "Missing",
            "count": 9
           }
          ]
         }
        },
        {
         "name": "Unnamed: 21",
         "dtype": "object",
         "stats": {
          "unique_count": 1,
          "nan_count": 9,
          "categories": [
           {
            "name": "HUMIDITY %. Trend (%RH)",
            "count": 1
           },
           {
            "name": "Missing",
            "count": 9
           }
          ]
         }
        },
        {
         "name": "H309",
         "dtype": "object",
         "stats": {
          "unique_count": 1,
          "nan_count": 9,
          "categories": [
           {
            "name": "Time",
            "count": 1
           },
           {
            "name": "Missing",
            "count": 9
           }
          ]
         }
        },
        {
         "name": "Unnamed: 23",
         "dtype": "object",
         "stats": {
          "unique_count": 1,
          "nan_count": 9,
          "categories": [
           {
            "name": "Trend (deg F)",
            "count": 1
           },
           {
            "name": "Missing",
            "count": 9
           }
          ]
         }
        },
        {
         "name": "H351",
         "dtype": "object",
         "stats": {
          "unique_count": 1,
          "nan_count": 9,
          "categories": [
           {
            "name": "Time",
            "count": 1
           },
           {
            "name": "Missing",
            "count": 9
           }
          ]
         }
        },
        {
         "name": "Unnamed: 25",
         "dtype": "object",
         "stats": {
          "unique_count": 1,
          "nan_count": 9,
          "categories": [
           {
            "name": "Trend (deg F)",
            "count": 1
           },
           {
            "name": "Missing",
            "count": 9
           }
          ]
         }
        },
        {
         "name": "H355",
         "dtype": "object",
         "stats": {
          "unique_count": 1,
          "nan_count": 9,
          "categories": [
           {
            "name": "Time",
            "count": 1
           },
           {
            "name": "Missing",
            "count": 9
           }
          ]
         }
        },
        {
         "name": "Unnamed: 27",
         "dtype": "object",
         "stats": {
          "unique_count": 1,
          "nan_count": 9,
          "categories": [
           {
            "name": "Trend (deg F)",
            "count": 1
           },
           {
            "name": "Missing",
            "count": 9
           }
          ]
         }
        },
        {
         "name": "H424",
         "dtype": "object",
         "stats": {
          "unique_count": 1,
          "nan_count": 9,
          "categories": [
           {
            "name": "Time",
            "count": 1
           },
           {
            "name": "Missing",
            "count": 9
           }
          ]
         }
        },
        {
         "name": "Unnamed: 29",
         "dtype": "object",
         "stats": {
          "unique_count": 1,
          "nan_count": 9,
          "categories": [
           {
            "name": "Trend (deg F)",
            "count": 1
           },
           {
            "name": "Missing",
            "count": 9
           }
          ]
         }
        },
        {
         "name": "H460",
         "dtype": "object",
         "stats": {
          "unique_count": 1,
          "nan_count": 9,
          "categories": [
           {
            "name": "Time",
            "count": 1
           },
           {
            "name": "Missing",
            "count": 9
           }
          ]
         }
        },
        {
         "name": "Unnamed: 31",
         "dtype": "object",
         "stats": {
          "unique_count": 1,
          "nan_count": 9,
          "categories": [
           {
            "name": "Trend (deg F)",
            "count": 1
           },
           {
            "name": "Missing",
            "count": 9
           }
          ]
         }
        },
        {
         "name": "H309.1",
         "dtype": "object",
         "stats": {
          "unique_count": 1,
          "nan_count": 9,
          "categories": [
           {
            "name": "Time",
            "count": 1
           },
           {
            "name": "Missing",
            "count": 9
           }
          ]
         }
        },
        {
         "name": "Unnamed: 33",
         "dtype": "object",
         "stats": {
          "unique_count": 1,
          "nan_count": 9,
          "categories": [
           {
            "name": "HUMIDITY %. Trend (%RH)",
            "count": 1
           },
           {
            "name": "Missing",
            "count": 9
           }
          ]
         }
        },
        {
         "name": "H353",
         "dtype": "object",
         "stats": {
          "unique_count": 1,
          "nan_count": 9,
          "categories": [
           {
            "name": "Time",
            "count": 1
           },
           {
            "name": "Missing",
            "count": 9
           }
          ]
         }
        },
        {
         "name": "Unnamed: 35",
         "dtype": "object",
         "stats": {
          "unique_count": 1,
          "nan_count": 9,
          "categories": [
           {
            "name": "HUMIDITY %. Trend (%RH)",
            "count": 1
           },
           {
            "name": "Missing",
            "count": 9
           }
          ]
         }
        },
        {
         "name": "H353.1",
         "dtype": "object",
         "stats": {
          "unique_count": 1,
          "nan_count": 9,
          "categories": [
           {
            "name": "Time",
            "count": 1
           },
           {
            "name": "Missing",
            "count": 9
           }
          ]
         }
        },
        {
         "name": "Unnamed: 37",
         "dtype": "object",
         "stats": {
          "unique_count": 1,
          "nan_count": 9,
          "categories": [
           {
            "name": "Trend (deg F)",
            "count": 1
           },
           {
            "name": "Missing",
            "count": 9
           }
          ]
         }
        },
        {
         "name": "TB01.1",
         "dtype": "object",
         "stats": {
          "unique_count": 1,
          "nan_count": 9,
          "categories": [
           {
            "name": "Time",
            "count": 1
           },
           {
            "name": "Missing",
            "count": 9
           }
          ]
         }
        },
        {
         "name": "Unnamed: 39",
         "dtype": "object",
         "stats": {
          "unique_count": 1,
          "nan_count": 9,
          "categories": [
           {
            "name": "Trend (deg F)",
            "count": 1
           },
           {
            "name": "Missing",
            "count": 9
           }
          ]
         }
        },
        {
         "name": "_deepnote_index_column",
         "dtype": "int64"
        }
       ],
       "rows_top": [
        {
         "TB15": "Time",
         "Unnamed: 1": "Trend (deg F)",
         "T302": "Time",
         "Unnamed: 3": "Trend (deg F)",
         "T303": "Time",
         "Unnamed: 5": "Trend (deg F)",
         "T446": "Time",
         "Unnamed: 7": "Trend (deg F)",
         "T449": "Time",
         "Unnamed: 9": "Trend (deg F)",
         "T454": "Time",
         "Unnamed: 11": "Trend (deg F)",
         "T Building": "Time",
         "Unnamed: 13": "OUTSIDE HUMIDTY.Trend (RH%)",
         "T Building.1": "Time",
         "Unnamed: 15": "OA-T.Trend (deg F)",
         "T Building.2": "Time",
         "Unnamed: 17": "OUTSIDE ENTHALPY.Trend (Btu/lb)",
         "TB01": "Time",
         "Unnamed: 19": "HUMIDITY %. Trend (%RH)",
         "T454.1": "Time",
         "Unnamed: 21": "HUMIDITY %. Trend (%RH)",
         "H309": "Time",
         "Unnamed: 23": "Trend (deg F)",
         "H351": "Time",
         "Unnamed: 25": "Trend (deg F)",
         "H355": "Time",
         "Unnamed: 27": "Trend (deg F)",
         "H424": "Time",
         "Unnamed: 29": "Trend (deg F)",
         "H460": "Time",
         "Unnamed: 31": "Trend (deg F)",
         "H309.1": "Time",
         "Unnamed: 33": "HUMIDITY %. Trend (%RH)",
         "H353": "Time",
         "Unnamed: 35": "HUMIDITY %. Trend (%RH)",
         "H353.1": "Time",
         "Unnamed: 37": "Trend (deg F)",
         "TB01.1": "Time",
         "Unnamed: 39": "Trend (deg F)",
         "_deepnote_index_column": 0
        },
        {
         "TB15": "4/27/21 1:00:00 PM EDT",
         "Unnamed: 1": "74.99469",
         "T302": "nan",
         "Unnamed: 3": "nan",
         "T303": "4/27/21 12:00:00 PM EDT",
         "Unnamed: 5": "71.69919",
         "T446": "4/27/21 1:00:00 PM EDT",
         "Unnamed: 7": "72.0625",
         "T449": "4/27/21 1:00:00 PM EDT",
         "Unnamed: 9": "72.86691",
         "T454": "4/27/21 1:00:00 PM EDT",
         "Unnamed: 11": "71.9068",
         "T Building": "nan",
         "Unnamed: 13": "nan",
         "T Building.1": "nan",
         "Unnamed: 15": "nan",
         "T Building.2": "nan",
         "Unnamed: 17": "nan",
         "TB01": "nan",
         "Unnamed: 19": "nan",
         "T454.1": "nan",
         "Unnamed: 21": "nan",
         "H309": "nan",
         "Unnamed: 23": "nan",
         "H351": "nan",
         "Unnamed: 25": "nan",
         "H355": "nan",
         "Unnamed: 27": "nan",
         "H424": "nan",
         "Unnamed: 29": "nan",
         "H460": "nan",
         "Unnamed: 31": "nan",
         "H309.1": "nan",
         "Unnamed: 33": "nan",
         "H353": "nan",
         "Unnamed: 35": "nan",
         "H353.1": "nan",
         "Unnamed: 37": "nan",
         "TB01.1": "nan",
         "Unnamed: 39": "nan",
         "_deepnote_index_column": 1
        },
        {
         "TB15": "4/27/21 2:00:00 PM EDT",
         "Unnamed: 1": "74.29407",
         "T302": "nan",
         "Unnamed: 3": "nan",
         "T303": "4/27/21 1:00:00 PM EDT",
         "Unnamed: 5": "71.7511",
         "T446": "4/27/21 2:00:00 PM EDT",
         "Unnamed: 7": "72.91879",
         "T449": "4/27/21 2:00:00 PM EDT",
         "Unnamed: 9": "72.45172",
         "T454": "4/27/21 2:00:00 PM EDT",
         "Unnamed: 11": "72.45172",
         "T Building": "nan",
         "Unnamed: 13": "nan",
         "T Building.1": "nan",
         "Unnamed: 15": "nan",
         "T Building.2": "nan",
         "Unnamed: 17": "nan",
         "TB01": "nan",
         "Unnamed: 19": "nan",
         "T454.1": "nan",
         "Unnamed: 21": "nan",
         "H309": "nan",
         "Unnamed: 23": "nan",
         "H351": "nan",
         "Unnamed: 25": "nan",
         "H355": "nan",
         "Unnamed: 27": "nan",
         "H424": "nan",
         "Unnamed: 29": "nan",
         "H460": "nan",
         "Unnamed: 31": "nan",
         "H309.1": "nan",
         "Unnamed: 33": "nan",
         "H353": "nan",
         "Unnamed: 35": "nan",
         "H353.1": "nan",
         "Unnamed: 37": "nan",
         "TB01.1": "nan",
         "Unnamed: 39": "nan",
         "_deepnote_index_column": 2
        },
        {
         "TB15": "4/27/21 3:00:00 PM EDT",
         "Unnamed: 1": "74.78711",
         "T302": "nan",
         "Unnamed: 3": "nan",
         "T303": "4/27/21 2:00:00 PM EDT",
         "Unnamed: 5": "71.64728",
         "T446": "4/27/21 3:00:00 PM EDT",
         "Unnamed: 7": "72.0625",
         "T449": "4/27/21 3:00:00 PM EDT",
         "Unnamed: 9": "72.55551",
         "T454": "4/27/21 3:00:00 PM EDT",
         "Unnamed: 11": "72.0625",
         "T Building": "nan",
         "Unnamed: 13": "nan",
         "T Building.1": "nan",
         "Unnamed: 15": "nan",
         "T Building.2": "nan",
         "Unnamed: 17": "nan",
         "TB01": "nan",
         "Unnamed: 19": "nan",
         "T454.1": "nan",
         "Unnamed: 21": "nan",
         "H309": "nan",
         "Unnamed: 23": "nan",
         "H351": "nan",
         "Unnamed: 25": "nan",
         "H355": "nan",
         "Unnamed: 27": "nan",
         "H424": "nan",
         "Unnamed: 29": "nan",
         "H460": "nan",
         "Unnamed: 31": "nan",
         "H309.1": "nan",
         "Unnamed: 33": "nan",
         "H353": "nan",
         "Unnamed: 35": "nan",
         "H353.1": "nan",
         "Unnamed: 37": "nan",
         "TB01.1": "nan",
         "Unnamed: 39": "nan",
         "_deepnote_index_column": 3
        },
        {
         "TB15": "4/27/21 4:00:00 PM EDT",
         "Unnamed: 1": "74.47571",
         "T302": "nan",
         "Unnamed: 3": "nan",
         "T303": "4/27/21 3:00:00 PM EDT",
         "Unnamed: 5": "70.06445",
         "T446": "4/27/21 4:00:00 PM EDT",
         "Unnamed: 7": "72.01059",
         "T449": "4/27/21 4:00:00 PM EDT",
         "Unnamed: 9": "72.71118",
         "T454": "4/27/21 4:00:00 PM EDT",
         "Unnamed: 11": "72.01059",
         "T Building": "nan",
         "Unnamed: 13": "nan",
         "T Building.1": "nan",
         "Unnamed: 15": "nan",
         "T Building.2": "nan",
         "Unnamed: 17": "nan",
         "TB01": "nan",
         "Unnamed: 19": "nan",
         "T454.1": "nan",
         "Unnamed: 21": "nan",
         "H309": "nan",
         "Unnamed: 23": "nan",
         "H351": "nan",
         "Unnamed: 25": "nan",
         "H355": "nan",
         "Unnamed: 27": "nan",
         "H424": "nan",
         "Unnamed: 29": "nan",
         "H460": "nan",
         "Unnamed: 31": "nan",
         "H309.1": "nan",
         "Unnamed: 33": "nan",
         "H353": "nan",
         "Unnamed: 35": "nan",
         "H353.1": "nan",
         "Unnamed: 37": "nan",
         "TB01.1": "nan",
         "Unnamed: 39": "nan",
         "_deepnote_index_column": 4
        },
        {
         "TB15": "4/27/21 5:00:00 PM EDT",
         "Unnamed: 1": "74.47571",
         "T302": "nan",
         "Unnamed: 3": "nan",
         "T303": "4/27/21 4:00:00 PM EDT",
         "Unnamed: 5": "70.583405",
         "T446": "4/27/21 5:00:00 PM EDT",
         "Unnamed: 7": "72.01059",
         "T449": "4/27/21 5:00:00 PM EDT",
         "Unnamed: 9": "72.86691",
         "T454": "4/27/21 5:00:00 PM EDT",
         "Unnamed: 11": "72.14032",
         "T Building": "nan",
         "Unnamed: 13": "nan",
         "T Building.1": "nan",
         "Unnamed: 15": "nan",
         "T Building.2": "nan",
         "Unnamed: 17": "nan",
         "TB01": "nan",
         "Unnamed: 19": "nan",
         "T454.1": "nan",
         "Unnamed: 21": "nan",
         "H309": "nan",
         "Unnamed: 23": "nan",
         "H351": "nan",
         "Unnamed: 25": "nan",
         "H355": "nan",
         "Unnamed: 27": "nan",
         "H424": "nan",
         "Unnamed: 29": "nan",
         "H460": "nan",
         "Unnamed: 31": "nan",
         "H309.1": "nan",
         "Unnamed: 33": "nan",
         "H353": "nan",
         "Unnamed: 35": "nan",
         "H353.1": "nan",
         "Unnamed: 37": "nan",
         "TB01.1": "nan",
         "Unnamed: 39": "nan",
         "_deepnote_index_column": 5
        },
        {
         "TB15": "4/27/21 6:00:00 PM EDT",
         "Unnamed: 1": "74.8909",
         "T302": "nan",
         "Unnamed: 3": "nan",
         "T303": "4/27/21 5:00:00 PM EDT",
         "Unnamed: 5": "70.920746",
         "T446": "4/27/21 6:00:00 PM EDT",
         "Unnamed: 7": "73.12637",
         "T449": "4/27/21 6:00:00 PM EDT",
         "Unnamed: 9": "73.12637",
         "T454": "4/27/21 6:00:00 PM EDT",
         "Unnamed: 11": "72.815",
         "T Building": "nan",
         "Unnamed: 13": "nan",
         "T Building.1": "nan",
         "Unnamed: 15": "nan",
         "T Building.2": "nan",
         "Unnamed: 17": "nan",
         "TB01": "nan",
         "Unnamed: 19": "nan",
         "T454.1": "nan",
         "Unnamed: 21": "nan",
         "H309": "nan",
         "Unnamed: 23": "nan",
         "H351": "nan",
         "Unnamed: 25": "nan",
         "H355": "nan",
         "Unnamed: 27": "nan",
         "H424": "nan",
         "Unnamed: 29": "nan",
         "H460": "nan",
         "Unnamed: 31": "nan",
         "H309.1": "nan",
         "Unnamed: 33": "nan",
         "H353": "nan",
         "Unnamed: 35": "nan",
         "H353.1": "nan",
         "Unnamed: 37": "nan",
         "TB01.1": "nan",
         "Unnamed: 39": "nan",
         "_deepnote_index_column": 6
        },
        {
         "TB15": "4/27/21 7:00:00 PM EDT",
         "Unnamed: 1": "75.20227",
         "T302": "nan",
         "Unnamed: 3": "nan",
         "T303": "4/27/21 6:00:00 PM EDT",
         "Unnamed: 5": "71.28403",
         "T446": "4/27/21 7:00:00 PM EDT",
         "Unnamed: 7": "73.411804",
         "T449": "4/27/21 7:00:00 PM EDT",
         "Unnamed: 9": "72.815",
         "T454": "4/27/21 7:00:00 PM EDT",
         "Unnamed: 11": "73.256134",
         "T Building": "nan",
         "Unnamed: 13": "nan",
         "T Building.1": "nan",
         "Unnamed: 15": "nan",
         "T Building.2": "nan",
         "Unnamed: 17": "nan",
         "TB01": "nan",
         "Unnamed: 19": "nan",
         "T454.1": "nan",
         "Unnamed: 21": "nan",
         "H309": "nan",
         "Unnamed: 23": "nan",
         "H351": "nan",
         "Unnamed: 25": "nan",
         "H355": "nan",
         "Unnamed: 27": "nan",
         "H424": "nan",
         "Unnamed: 29": "nan",
         "H460": "nan",
         "Unnamed: 31": "nan",
         "H309.1": "nan",
         "Unnamed: 33": "nan",
         "H353": "nan",
         "Unnamed: 35": "nan",
         "H353.1": "nan",
         "Unnamed: 37": "nan",
         "TB01.1": "nan",
         "Unnamed: 39": "nan",
         "_deepnote_index_column": 7
        },
        {
         "TB15": "4/27/21 8:00:00 PM EDT",
         "Unnamed: 1": "75.46176",
         "T302": "nan",
         "Unnamed: 3": "nan",
         "T303": "4/27/21 7:00:00 PM EDT",
         "Unnamed: 5": "71.38782",
         "T446": "4/27/21 8:00:00 PM EDT",
         "Unnamed: 7": "73.515594",
         "T449": "4/27/21 8:00:00 PM EDT",
         "Unnamed: 9": "72.24414",
         "T454": "4/27/21 8:00:00 PM EDT",
         "Unnamed: 11": "73.411804",
         "T Building": "nan",
         "Unnamed: 13": "nan",
         "T Building.1": "nan",
         "Unnamed: 15": "nan",
         "T Building.2": "nan",
         "Unnamed: 17": "nan",
         "TB01": "nan",
         "Unnamed: 19": "nan",
         "T454.1": "nan",
         "Unnamed: 21": "nan",
         "H309": "nan",
         "Unnamed: 23": "nan",
         "H351": "nan",
         "Unnamed: 25": "nan",
         "H355": "nan",
         "Unnamed: 27": "nan",
         "H424": "nan",
         "Unnamed: 29": "nan",
         "H460": "nan",
         "Unnamed: 31": "nan",
         "H309.1": "nan",
         "Unnamed: 33": "nan",
         "H353": "nan",
         "Unnamed: 35": "nan",
         "H353.1": "nan",
         "Unnamed: 37": "nan",
         "TB01.1": "nan",
         "Unnamed: 39": "nan",
         "_deepnote_index_column": 8
        },
        {
         "TB15": "4/27/21 9:00:00 PM EDT",
         "Unnamed: 1": "75.53958",
         "T302": "nan",
         "Unnamed: 3": "nan",
         "T303": "4/27/21 8:00:00 PM EDT",
         "Unnamed: 5": "71.07645",
         "T446": "4/27/21 9:00:00 PM EDT",
         "Unnamed: 7": "73.671295",
         "T449": "4/27/21 9:00:00 PM EDT",
         "Unnamed: 9": "73.12637",
         "T454": "4/27/21 9:00:00 PM EDT",
         "Unnamed: 11": "73.567505",
         "T Building": "nan",
         "Unnamed: 13": "nan",
         "T Building.1": "nan",
         "Unnamed: 15": "nan",
         "T Building.2": "nan",
         "Unnamed: 17": "nan",
         "TB01": "nan",
         "Unnamed: 19": "nan",
         "T454.1": "nan",
         "Unnamed: 21": "nan",
         "H309": "nan",
         "Unnamed: 23": "nan",
         "H351": "nan",
         "Unnamed: 25": "nan",
         "H355": "nan",
         "Unnamed: 27": "nan",
         "H424": "nan",
         "Unnamed: 29": "nan",
         "H460": "nan",
         "Unnamed: 31": "nan",
         "H309.1": "nan",
         "Unnamed: 33": "nan",
         "H353": "nan",
         "Unnamed: 35": "nan",
         "H353.1": "nan",
         "Unnamed: 37": "nan",
         "TB01.1": "nan",
         "Unnamed: 39": "nan",
         "_deepnote_index_column": 9
        }
       ],
       "rows_bottom": null
      },
      "text/html": [
       "<div>\n",
       "<style scoped>\n",
       "    .dataframe tbody tr th:only-of-type {\n",
       "        vertical-align: middle;\n",
       "    }\n",
       "\n",
       "    .dataframe tbody tr th {\n",
       "        vertical-align: top;\n",
       "    }\n",
       "\n",
       "    .dataframe thead th {\n",
       "        text-align: right;\n",
       "    }\n",
       "</style>\n",
       "<table border=\"1\" class=\"dataframe\">\n",
       "  <thead>\n",
       "    <tr style=\"text-align: right;\">\n",
       "      <th></th>\n",
       "      <th>TB15</th>\n",
       "      <th>Unnamed: 1</th>\n",
       "      <th>T302</th>\n",
       "      <th>Unnamed: 3</th>\n",
       "      <th>T303</th>\n",
       "      <th>Unnamed: 5</th>\n",
       "      <th>T446</th>\n",
       "      <th>Unnamed: 7</th>\n",
       "      <th>T449</th>\n",
       "      <th>Unnamed: 9</th>\n",
       "      <th>...</th>\n",
       "      <th>H460</th>\n",
       "      <th>Unnamed: 31</th>\n",
       "      <th>H309.1</th>\n",
       "      <th>Unnamed: 33</th>\n",
       "      <th>H353</th>\n",
       "      <th>Unnamed: 35</th>\n",
       "      <th>H353.1</th>\n",
       "      <th>Unnamed: 37</th>\n",
       "      <th>TB01.1</th>\n",
       "      <th>Unnamed: 39</th>\n",
       "    </tr>\n",
       "  </thead>\n",
       "  <tbody>\n",
       "    <tr>\n",
       "      <th>0</th>\n",
       "      <td>Time</td>\n",
       "      <td>Trend (deg F)</td>\n",
       "      <td>Time</td>\n",
       "      <td>Trend (deg F)</td>\n",
       "      <td>Time</td>\n",
       "      <td>Trend (deg F)</td>\n",
       "      <td>Time</td>\n",
       "      <td>Trend (deg F)</td>\n",
       "      <td>Time</td>\n",
       "      <td>Trend (deg F)</td>\n",
       "      <td>...</td>\n",
       "      <td>Time</td>\n",
       "      <td>Trend (deg F)</td>\n",
       "      <td>Time</td>\n",
       "      <td>HUMIDITY %. Trend (%RH)</td>\n",
       "      <td>Time</td>\n",
       "      <td>HUMIDITY %. Trend (%RH)</td>\n",
       "      <td>Time</td>\n",
       "      <td>Trend (deg F)</td>\n",
       "      <td>Time</td>\n",
       "      <td>Trend (deg F)</td>\n",
       "    </tr>\n",
       "    <tr>\n",
       "      <th>1</th>\n",
       "      <td>4/27/21 1:00:00 PM EDT</td>\n",
       "      <td>74.99469</td>\n",
       "      <td>NaN</td>\n",
       "      <td>NaN</td>\n",
       "      <td>4/27/21 12:00:00 PM EDT</td>\n",
       "      <td>71.69919</td>\n",
       "      <td>4/27/21 1:00:00 PM EDT</td>\n",
       "      <td>72.0625</td>\n",
       "      <td>4/27/21 1:00:00 PM EDT</td>\n",
       "      <td>72.86691</td>\n",
       "      <td>...</td>\n",
       "      <td>NaN</td>\n",
       "      <td>NaN</td>\n",
       "      <td>NaN</td>\n",
       "      <td>NaN</td>\n",
       "      <td>NaN</td>\n",
       "      <td>NaN</td>\n",
       "      <td>NaN</td>\n",
       "      <td>NaN</td>\n",
       "      <td>NaN</td>\n",
       "      <td>NaN</td>\n",
       "    </tr>\n",
       "    <tr>\n",
       "      <th>2</th>\n",
       "      <td>4/27/21 2:00:00 PM EDT</td>\n",
       "      <td>74.29407</td>\n",
       "      <td>NaN</td>\n",
       "      <td>NaN</td>\n",
       "      <td>4/27/21 1:00:00 PM EDT</td>\n",
       "      <td>71.7511</td>\n",
       "      <td>4/27/21 2:00:00 PM EDT</td>\n",
       "      <td>72.91879</td>\n",
       "      <td>4/27/21 2:00:00 PM EDT</td>\n",
       "      <td>72.45172</td>\n",
       "      <td>...</td>\n",
       "      <td>NaN</td>\n",
       "      <td>NaN</td>\n",
       "      <td>NaN</td>\n",
       "      <td>NaN</td>\n",
       "      <td>NaN</td>\n",
       "      <td>NaN</td>\n",
       "      <td>NaN</td>\n",
       "      <td>NaN</td>\n",
       "      <td>NaN</td>\n",
       "      <td>NaN</td>\n",
       "    </tr>\n",
       "    <tr>\n",
       "      <th>3</th>\n",
       "      <td>4/27/21 3:00:00 PM EDT</td>\n",
       "      <td>74.78711</td>\n",
       "      <td>NaN</td>\n",
       "      <td>NaN</td>\n",
       "      <td>4/27/21 2:00:00 PM EDT</td>\n",
       "      <td>71.64728</td>\n",
       "      <td>4/27/21 3:00:00 PM EDT</td>\n",
       "      <td>72.0625</td>\n",
       "      <td>4/27/21 3:00:00 PM EDT</td>\n",
       "      <td>72.55551</td>\n",
       "      <td>...</td>\n",
       "      <td>NaN</td>\n",
       "      <td>NaN</td>\n",
       "      <td>NaN</td>\n",
       "      <td>NaN</td>\n",
       "      <td>NaN</td>\n",
       "      <td>NaN</td>\n",
       "      <td>NaN</td>\n",
       "      <td>NaN</td>\n",
       "      <td>NaN</td>\n",
       "      <td>NaN</td>\n",
       "    </tr>\n",
       "    <tr>\n",
       "      <th>4</th>\n",
       "      <td>4/27/21 4:00:00 PM EDT</td>\n",
       "      <td>74.47571</td>\n",
       "      <td>NaN</td>\n",
       "      <td>NaN</td>\n",
       "      <td>4/27/21 3:00:00 PM EDT</td>\n",
       "      <td>70.06445</td>\n",
       "      <td>4/27/21 4:00:00 PM EDT</td>\n",
       "      <td>72.01059</td>\n",
       "      <td>4/27/21 4:00:00 PM EDT</td>\n",
       "      <td>72.71118</td>\n",
       "      <td>...</td>\n",
       "      <td>NaN</td>\n",
       "      <td>NaN</td>\n",
       "      <td>NaN</td>\n",
       "      <td>NaN</td>\n",
       "      <td>NaN</td>\n",
       "      <td>NaN</td>\n",
       "      <td>NaN</td>\n",
       "      <td>NaN</td>\n",
       "      <td>NaN</td>\n",
       "      <td>NaN</td>\n",
       "    </tr>\n",
       "    <tr>\n",
       "      <th>5</th>\n",
       "      <td>4/27/21 5:00:00 PM EDT</td>\n",
       "      <td>74.47571</td>\n",
       "      <td>NaN</td>\n",
       "      <td>NaN</td>\n",
       "      <td>4/27/21 4:00:00 PM EDT</td>\n",
       "      <td>70.583405</td>\n",
       "      <td>4/27/21 5:00:00 PM EDT</td>\n",
       "      <td>72.01059</td>\n",
       "      <td>4/27/21 5:00:00 PM EDT</td>\n",
       "      <td>72.86691</td>\n",
       "      <td>...</td>\n",
       "      <td>NaN</td>\n",
       "      <td>NaN</td>\n",
       "      <td>NaN</td>\n",
       "      <td>NaN</td>\n",
       "      <td>NaN</td>\n",
       "      <td>NaN</td>\n",
       "      <td>NaN</td>\n",
       "      <td>NaN</td>\n",
       "      <td>NaN</td>\n",
       "      <td>NaN</td>\n",
       "    </tr>\n",
       "    <tr>\n",
       "      <th>6</th>\n",
       "      <td>4/27/21 6:00:00 PM EDT</td>\n",
       "      <td>74.8909</td>\n",
       "      <td>NaN</td>\n",
       "      <td>NaN</td>\n",
       "      <td>4/27/21 5:00:00 PM EDT</td>\n",
       "      <td>70.920746</td>\n",
       "      <td>4/27/21 6:00:00 PM EDT</td>\n",
       "      <td>73.12637</td>\n",
       "      <td>4/27/21 6:00:00 PM EDT</td>\n",
       "      <td>73.12637</td>\n",
       "      <td>...</td>\n",
       "      <td>NaN</td>\n",
       "      <td>NaN</td>\n",
       "      <td>NaN</td>\n",
       "      <td>NaN</td>\n",
       "      <td>NaN</td>\n",
       "      <td>NaN</td>\n",
       "      <td>NaN</td>\n",
       "      <td>NaN</td>\n",
       "      <td>NaN</td>\n",
       "      <td>NaN</td>\n",
       "    </tr>\n",
       "    <tr>\n",
       "      <th>7</th>\n",
       "      <td>4/27/21 7:00:00 PM EDT</td>\n",
       "      <td>75.20227</td>\n",
       "      <td>NaN</td>\n",
       "      <td>NaN</td>\n",
       "      <td>4/27/21 6:00:00 PM EDT</td>\n",
       "      <td>71.28403</td>\n",
       "      <td>4/27/21 7:00:00 PM EDT</td>\n",
       "      <td>73.411804</td>\n",
       "      <td>4/27/21 7:00:00 PM EDT</td>\n",
       "      <td>72.815</td>\n",
       "      <td>...</td>\n",
       "      <td>NaN</td>\n",
       "      <td>NaN</td>\n",
       "      <td>NaN</td>\n",
       "      <td>NaN</td>\n",
       "      <td>NaN</td>\n",
       "      <td>NaN</td>\n",
       "      <td>NaN</td>\n",
       "      <td>NaN</td>\n",
       "      <td>NaN</td>\n",
       "      <td>NaN</td>\n",
       "    </tr>\n",
       "    <tr>\n",
       "      <th>8</th>\n",
       "      <td>4/27/21 8:00:00 PM EDT</td>\n",
       "      <td>75.46176</td>\n",
       "      <td>NaN</td>\n",
       "      <td>NaN</td>\n",
       "      <td>4/27/21 7:00:00 PM EDT</td>\n",
       "      <td>71.38782</td>\n",
       "      <td>4/27/21 8:00:00 PM EDT</td>\n",
       "      <td>73.515594</td>\n",
       "      <td>4/27/21 8:00:00 PM EDT</td>\n",
       "      <td>72.24414</td>\n",
       "      <td>...</td>\n",
       "      <td>NaN</td>\n",
       "      <td>NaN</td>\n",
       "      <td>NaN</td>\n",
       "      <td>NaN</td>\n",
       "      <td>NaN</td>\n",
       "      <td>NaN</td>\n",
       "      <td>NaN</td>\n",
       "      <td>NaN</td>\n",
       "      <td>NaN</td>\n",
       "      <td>NaN</td>\n",
       "    </tr>\n",
       "    <tr>\n",
       "      <th>9</th>\n",
       "      <td>4/27/21 9:00:00 PM EDT</td>\n",
       "      <td>75.53958</td>\n",
       "      <td>NaN</td>\n",
       "      <td>NaN</td>\n",
       "      <td>4/27/21 8:00:00 PM EDT</td>\n",
       "      <td>71.07645</td>\n",
       "      <td>4/27/21 9:00:00 PM EDT</td>\n",
       "      <td>73.671295</td>\n",
       "      <td>4/27/21 9:00:00 PM EDT</td>\n",
       "      <td>73.12637</td>\n",
       "      <td>...</td>\n",
       "      <td>NaN</td>\n",
       "      <td>NaN</td>\n",
       "      <td>NaN</td>\n",
       "      <td>NaN</td>\n",
       "      <td>NaN</td>\n",
       "      <td>NaN</td>\n",
       "      <td>NaN</td>\n",
       "      <td>NaN</td>\n",
       "      <td>NaN</td>\n",
       "      <td>NaN</td>\n",
       "    </tr>\n",
       "  </tbody>\n",
       "</table>\n",
       "<p>10 rows × 40 columns</p>\n",
       "</div>"
      ],
      "text/plain": [
       "                     TB15     Unnamed: 1  T302     Unnamed: 3  \\\n",
       "0                    Time  Trend (deg F)  Time  Trend (deg F)   \n",
       "1  4/27/21 1:00:00 PM EDT       74.99469   NaN            NaN   \n",
       "2  4/27/21 2:00:00 PM EDT       74.29407   NaN            NaN   \n",
       "3  4/27/21 3:00:00 PM EDT       74.78711   NaN            NaN   \n",
       "4  4/27/21 4:00:00 PM EDT       74.47571   NaN            NaN   \n",
       "5  4/27/21 5:00:00 PM EDT       74.47571   NaN            NaN   \n",
       "6  4/27/21 6:00:00 PM EDT        74.8909   NaN            NaN   \n",
       "7  4/27/21 7:00:00 PM EDT       75.20227   NaN            NaN   \n",
       "8  4/27/21 8:00:00 PM EDT       75.46176   NaN            NaN   \n",
       "9  4/27/21 9:00:00 PM EDT       75.53958   NaN            NaN   \n",
       "\n",
       "                      T303     Unnamed: 5                    T446  \\\n",
       "0                     Time  Trend (deg F)                    Time   \n",
       "1  4/27/21 12:00:00 PM EDT       71.69919  4/27/21 1:00:00 PM EDT   \n",
       "2   4/27/21 1:00:00 PM EDT        71.7511  4/27/21 2:00:00 PM EDT   \n",
       "3   4/27/21 2:00:00 PM EDT       71.64728  4/27/21 3:00:00 PM EDT   \n",
       "4   4/27/21 3:00:00 PM EDT       70.06445  4/27/21 4:00:00 PM EDT   \n",
       "5   4/27/21 4:00:00 PM EDT      70.583405  4/27/21 5:00:00 PM EDT   \n",
       "6   4/27/21 5:00:00 PM EDT      70.920746  4/27/21 6:00:00 PM EDT   \n",
       "7   4/27/21 6:00:00 PM EDT       71.28403  4/27/21 7:00:00 PM EDT   \n",
       "8   4/27/21 7:00:00 PM EDT       71.38782  4/27/21 8:00:00 PM EDT   \n",
       "9   4/27/21 8:00:00 PM EDT       71.07645  4/27/21 9:00:00 PM EDT   \n",
       "\n",
       "      Unnamed: 7                    T449     Unnamed: 9  ...  H460  \\\n",
       "0  Trend (deg F)                    Time  Trend (deg F)  ...  Time   \n",
       "1        72.0625  4/27/21 1:00:00 PM EDT       72.86691  ...   NaN   \n",
       "2       72.91879  4/27/21 2:00:00 PM EDT       72.45172  ...   NaN   \n",
       "3        72.0625  4/27/21 3:00:00 PM EDT       72.55551  ...   NaN   \n",
       "4       72.01059  4/27/21 4:00:00 PM EDT       72.71118  ...   NaN   \n",
       "5       72.01059  4/27/21 5:00:00 PM EDT       72.86691  ...   NaN   \n",
       "6       73.12637  4/27/21 6:00:00 PM EDT       73.12637  ...   NaN   \n",
       "7      73.411804  4/27/21 7:00:00 PM EDT         72.815  ...   NaN   \n",
       "8      73.515594  4/27/21 8:00:00 PM EDT       72.24414  ...   NaN   \n",
       "9      73.671295  4/27/21 9:00:00 PM EDT       73.12637  ...   NaN   \n",
       "\n",
       "     Unnamed: 31 H309.1              Unnamed: 33  H353  \\\n",
       "0  Trend (deg F)   Time  HUMIDITY %. Trend (%RH)  Time   \n",
       "1            NaN    NaN                      NaN   NaN   \n",
       "2            NaN    NaN                      NaN   NaN   \n",
       "3            NaN    NaN                      NaN   NaN   \n",
       "4            NaN    NaN                      NaN   NaN   \n",
       "5            NaN    NaN                      NaN   NaN   \n",
       "6            NaN    NaN                      NaN   NaN   \n",
       "7            NaN    NaN                      NaN   NaN   \n",
       "8            NaN    NaN                      NaN   NaN   \n",
       "9            NaN    NaN                      NaN   NaN   \n",
       "\n",
       "               Unnamed: 35 H353.1    Unnamed: 37 TB01.1    Unnamed: 39  \n",
       "0  HUMIDITY %. Trend (%RH)   Time  Trend (deg F)   Time  Trend (deg F)  \n",
       "1                      NaN    NaN            NaN    NaN            NaN  \n",
       "2                      NaN    NaN            NaN    NaN            NaN  \n",
       "3                      NaN    NaN            NaN    NaN            NaN  \n",
       "4                      NaN    NaN            NaN    NaN            NaN  \n",
       "5                      NaN    NaN            NaN    NaN            NaN  \n",
       "6                      NaN    NaN            NaN    NaN            NaN  \n",
       "7                      NaN    NaN            NaN    NaN            NaN  \n",
       "8                      NaN    NaN            NaN    NaN            NaN  \n",
       "9                      NaN    NaN            NaN    NaN            NaN  \n",
       "\n",
       "[10 rows x 40 columns]"
      ]
     },
     "metadata": {},
     "execution_count": 36
    }
   ],
   "metadata": {
    "tags": [],
    "deepnote_to_be_reexecuted": false,
    "source_hash": "f230089a",
    "execution_start": 1633982495613,
    "execution_millis": 381,
    "cell_id": "00003-fd721dc8-e6a3-454d-9f91-7cc981658190",
    "deepnote_cell_type": "code"
   }
  },
  {
   "cell_type": "code",
   "execution_count": 75,
   "source": [
    "labs = {}\n",
    "TlabGeneral = pd.DataFrame(columns=[])\n",
    "\n",
    "for col in df:\n",
    "    \n",
    "    if 'Unnamed' not in col:\n",
    "        temp_col = df.iloc[:,df.columns.get_indexer([col])+1]\n",
    "        for a in temp_col:\n",
    "            next_col = temp_col[a]\n",
    "        col1 = df[col][1:]\n",
    "        col2 = next_col[1:]\n",
    "\n",
    "        if col[:4] in labs:\n",
    "            labs[col[:4]][next_col[0]] = col2\n",
    "        else:\n",
    "\n",
    "            df2 = pd.DataFrame(columns=[df[col][0],next_col[0]])\n",
    "            df2[df[col][0]] = col1\n",
    "            df2[next_col[0]] = col2\n",
    "\n",
    "            if 'Building' in col:\n",
    "                if df[col][0] not in TlabGeneral.columns:\n",
    "                    TlabGeneral[df[col][0]] = col1\n",
    "                TlabGeneral[next_col[0]] = col2\n",
    "\n",
    "            else:\n",
    "                # commented out building and floor additions because adding from summary table later\n",
    "                # df2['Building'] = col[0]\n",
    "                # if col[0] == \"T\":\n",
    "                #     df2['Floor'] = col[1:3]\n",
    "                # if col[0] == \"H\":\n",
    "                #     df2['Floor'] = \"1\"\n",
    "\n",
    "                labs[col[:4]] = df2\n",
    "print(labs)"
   ],
   "outputs": [
    {
     "output_type": "stream",
     "name": "stdout",
     "text": [
      "{'TB15':                         Time Trend (deg F)\n",
      "1     4/27/21 1:00:00 PM EDT      74.99469\n",
      "2     4/27/21 2:00:00 PM EDT      74.29407\n",
      "3     4/27/21 3:00:00 PM EDT      74.78711\n",
      "4     4/27/21 4:00:00 PM EDT      74.47571\n",
      "5     4/27/21 5:00:00 PM EDT      74.47571\n",
      "...                      ...           ...\n",
      "3231             9/9/21 3:00          73.5\n",
      "3232             9/9/21 4:00          73.5\n",
      "3233             9/9/21 5:00          73.5\n",
      "3234             9/9/21 6:00          72.7\n",
      "3235             9/9/21 7:00          72.7\n",
      "\n",
      "[3235 rows x 2 columns], 'T302':              Time Trend (deg F)\n",
      "1             NaN           NaN\n",
      "2             NaN           NaN\n",
      "3             NaN           NaN\n",
      "4             NaN           NaN\n",
      "5             NaN           NaN\n",
      "...           ...           ...\n",
      "3231  9/9/21 3:00          72.3\n",
      "3232  9/9/21 4:00          72.3\n",
      "3233  9/9/21 5:00          72.3\n",
      "3234  9/9/21 6:00          72.2\n",
      "3235  9/9/21 7:00          72.2\n",
      "\n",
      "[3235 rows x 2 columns], 'T303':                          Time Trend (deg F)\n",
      "1     4/27/21 12:00:00 PM EDT      71.69919\n",
      "2      4/27/21 1:00:00 PM EDT       71.7511\n",
      "3      4/27/21 2:00:00 PM EDT      71.64728\n",
      "4      4/27/21 3:00:00 PM EDT      70.06445\n",
      "5      4/27/21 4:00:00 PM EDT     70.583405\n",
      "...                       ...           ...\n",
      "3231              9/9/21 3:00          69.4\n",
      "3232              9/9/21 4:00          69.6\n",
      "3233              9/9/21 5:00          70.2\n",
      "3234              9/9/21 6:00          70.2\n",
      "3235              9/9/21 7:00          70.4\n",
      "\n",
      "[3235 rows x 2 columns], 'T446':                         Time Trend (deg F)\n",
      "1     4/27/21 1:00:00 PM EDT       72.0625\n",
      "2     4/27/21 2:00:00 PM EDT      72.91879\n",
      "3     4/27/21 3:00:00 PM EDT       72.0625\n",
      "4     4/27/21 4:00:00 PM EDT      72.01059\n",
      "5     4/27/21 5:00:00 PM EDT      72.01059\n",
      "...                      ...           ...\n",
      "3231             9/9/21 3:00          69.2\n",
      "3232             9/9/21 4:00          69.1\n",
      "3233             9/9/21 5:00          68.9\n",
      "3234             9/9/21 6:00          68.8\n",
      "3235             9/9/21 7:00          68.9\n",
      "\n",
      "[3235 rows x 2 columns], 'T449':                         Time Trend (deg F)\n",
      "1     4/27/21 1:00:00 PM EDT      72.86691\n",
      "2     4/27/21 2:00:00 PM EDT      72.45172\n",
      "3     4/27/21 3:00:00 PM EDT      72.55551\n",
      "4     4/27/21 4:00:00 PM EDT      72.71118\n",
      "5     4/27/21 5:00:00 PM EDT      72.86691\n",
      "...                      ...           ...\n",
      "3231             9/9/21 3:00            72\n",
      "3232             9/9/21 4:00          71.9\n",
      "3233             9/9/21 5:00          71.9\n",
      "3234             9/9/21 6:00          71.9\n",
      "3235             9/9/21 7:00          71.8\n",
      "\n",
      "[3235 rows x 2 columns], 'T454':                         Time Trend (deg F) HUMIDITY %. Trend (%RH)\n",
      "1     4/27/21 1:00:00 PM EDT       71.9068                     NaN\n",
      "2     4/27/21 2:00:00 PM EDT      72.45172                     NaN\n",
      "3     4/27/21 3:00:00 PM EDT       72.0625                     NaN\n",
      "4     4/27/21 4:00:00 PM EDT      72.01059                     NaN\n",
      "5     4/27/21 5:00:00 PM EDT      72.14032                     NaN\n",
      "...                      ...           ...                     ...\n",
      "3231             9/9/21 3:00          73.8                    60.9\n",
      "3232             9/9/21 4:00          73.7                    60.6\n",
      "3233             9/9/21 5:00            74                      60\n",
      "3234             9/9/21 6:00          74.1                    58.6\n",
      "3235             9/9/21 7:00            74                    55.4\n",
      "\n",
      "[3235 rows x 3 columns], 'TB01':              Time HUMIDITY %. Trend (%RH) Trend (deg F)\n",
      "1             NaN                     NaN           NaN\n",
      "2             NaN                     NaN           NaN\n",
      "3             NaN                     NaN           NaN\n",
      "4             NaN                     NaN           NaN\n",
      "5             NaN                     NaN           NaN\n",
      "...           ...                     ...           ...\n",
      "3231  9/9/21 3:00                    57.7          72.7\n",
      "3232  9/9/21 4:00                    57.8          72.6\n",
      "3233  9/9/21 5:00                    56.7          72.6\n",
      "3234  9/9/21 6:00                    56.2          72.6\n",
      "3235  9/9/21 7:00                    55.5          72.6\n",
      "\n",
      "[3235 rows x 3 columns], 'H309':              Time Trend (deg F) HUMIDITY %. Trend (%RH)\n",
      "1             NaN           NaN                     NaN\n",
      "2             NaN           NaN                     NaN\n",
      "3             NaN           NaN                     NaN\n",
      "4             NaN           NaN                     NaN\n",
      "5             NaN           NaN                     NaN\n",
      "...           ...           ...                     ...\n",
      "3231  9/9/21 3:00            70                      48\n",
      "3232  9/9/21 4:00            70                      47\n",
      "3233  9/9/21 5:00            70                      48\n",
      "3234  9/9/21 6:00          70.1                      49\n",
      "3235  9/9/21 7:00          69.5                      51\n",
      "\n",
      "[3235 rows x 3 columns], 'H351':              Time Trend (deg F)\n",
      "1             NaN           NaN\n",
      "2             NaN           NaN\n",
      "3             NaN           NaN\n",
      "4             NaN           NaN\n",
      "5             NaN           NaN\n",
      "...           ...           ...\n",
      "3231  9/9/21 3:00          69.9\n",
      "3232  9/9/21 4:00          69.9\n",
      "3233  9/9/21 5:00          69.9\n",
      "3234  9/9/21 6:00          69.8\n",
      "3235  9/9/21 7:00          69.9\n",
      "\n",
      "[3235 rows x 2 columns], 'H355':              Time Trend (deg F)\n",
      "1             NaN           NaN\n",
      "2             NaN           NaN\n",
      "3             NaN           NaN\n",
      "4             NaN           NaN\n",
      "5             NaN           NaN\n",
      "...           ...           ...\n",
      "3231  9/9/21 3:00          68.7\n",
      "3232  9/9/21 4:00          68.7\n",
      "3233  9/9/21 5:00          68.7\n",
      "3234  9/9/21 6:00          68.6\n",
      "3235  9/9/21 7:00          68.6\n",
      "\n",
      "[3235 rows x 2 columns], 'H424':              Time Trend (deg F)\n",
      "1             NaN           NaN\n",
      "2             NaN           NaN\n",
      "3             NaN           NaN\n",
      "4             NaN           NaN\n",
      "5             NaN           NaN\n",
      "...           ...           ...\n",
      "3231  9/9/21 3:00          70.6\n",
      "3232  9/9/21 4:00          70.6\n",
      "3233  9/9/21 5:00          70.6\n",
      "3234  9/9/21 6:00          70.6\n",
      "3235  9/9/21 7:00          70.4\n",
      "\n",
      "[3235 rows x 2 columns], 'H460':              Time Trend (deg F)\n",
      "1             NaN           NaN\n",
      "2             NaN           NaN\n",
      "3             NaN           NaN\n",
      "4             NaN           NaN\n",
      "5             NaN           NaN\n",
      "...           ...           ...\n",
      "3231  9/9/21 3:00          71.3\n",
      "3232  9/9/21 4:00          71.1\n",
      "3233  9/9/21 5:00          70.9\n",
      "3234  9/9/21 6:00          70.6\n",
      "3235  9/9/21 7:00          69.8\n",
      "\n",
      "[3235 rows x 2 columns], 'H353':              Time HUMIDITY %. Trend (%RH) Trend (deg F)\n",
      "1             NaN                     NaN           NaN\n",
      "2             NaN                     NaN           NaN\n",
      "3             NaN                     NaN           NaN\n",
      "4             NaN                     NaN           NaN\n",
      "5             NaN                     NaN           NaN\n",
      "...           ...                     ...           ...\n",
      "3231  9/9/21 3:00                      60          70.6\n",
      "3232  9/9/21 4:00                      59          70.6\n",
      "3233  9/9/21 5:00                      59          70.5\n",
      "3234  9/9/21 6:00                      60          70.5\n",
      "3235  9/9/21 7:00                      58          70.4\n",
      "\n",
      "[3235 rows x 3 columns]}\n"
     ]
    }
   ],
   "metadata": {
    "tags": [],
    "deepnote_to_be_reexecuted": false,
    "source_hash": "d285ee11",
    "execution_start": 1633983706336,
    "execution_millis": 91,
    "cell_id": "00004-3e5cb343-d93b-4a46-9f68-5fff1fa7d615",
    "deepnote_cell_type": "code"
   }
  },
  {
   "cell_type": "code",
   "execution_count": 38,
   "source": [
    "# testing out editing columns\n",
    "x = []\n",
    "x.extend(range(1, len(df['Unnamed: 5'])))\n",
    "\n",
    "# labs['TB15']['New Column'] = x\n",
    "\n",
    "print(labs['TB01'])"
   ],
   "outputs": [
    {
     "output_type": "stream",
     "name": "stdout",
     "text": [
      "             Time HUMIDITY %. Trend (%RH) Trend (deg F)\n",
      "1             NaN                     NaN           NaN\n",
      "2             NaN                     NaN           NaN\n",
      "3             NaN                     NaN           NaN\n",
      "4             NaN                     NaN           NaN\n",
      "5             NaN                     NaN           NaN\n",
      "...           ...                     ...           ...\n",
      "3231  9/9/21 3:00                    57.7          72.7\n",
      "3232  9/9/21 4:00                    57.8          72.6\n",
      "3233  9/9/21 5:00                    56.7          72.6\n",
      "3234  9/9/21 6:00                    56.2          72.6\n",
      "3235  9/9/21 7:00                    55.5          72.6\n",
      "\n",
      "[3235 rows x 3 columns]\n"
     ]
    }
   ],
   "metadata": {
    "tags": [],
    "deepnote_to_be_reexecuted": false,
    "source_hash": "386d56f4",
    "execution_start": 1633982498612,
    "execution_millis": 21,
    "cell_id": "00005-83a5c55b-876b-4d5d-a231-0caf5ee6428f",
    "deepnote_cell_type": "code"
   }
  },
  {
   "cell_type": "code",
   "execution_count": 39,
   "source": [
    "path = \"./HVACSummary.csv\"\n",
    "df_s = pd.read_csv(path)\n",
    "df_s.head()"
   ],
   "outputs": [
    {
     "output_type": "execute_result",
     "data": {
      "application/vnd.deepnote.dataframe.v2+json": {
       "row_count": 5,
       "column_count": 14,
       "columns": [
        {
         "name": "LabTitle",
         "dtype": "object",
         "stats": {
          "unique_count": 5,
          "nan_count": 0,
          "categories": [
           {
            "name": "TB15",
            "count": 1
           },
           {
            "name": "T302",
            "count": 1
           },
           {
            "name": "3 others",
            "count": 3
           }
          ]
         }
        },
        {
         "name": "Building",
         "dtype": "object",
         "stats": {
          "unique_count": 1,
          "nan_count": 0,
          "categories": [
           {
            "name": "T",
            "count": 5
           }
          ]
         }
        },
        {
         "name": "Room #",
         "dtype": "object",
         "stats": {
          "unique_count": 5,
          "nan_count": 0,
          "categories": [
           {
            "name": "B-15",
            "count": 1
           },
           {
            "name": "302",
            "count": 1
           },
           {
            "name": "3 others",
            "count": 3
           }
          ]
         }
        },
        {
         "name": "Floor",
         "dtype": "object",
         "stats": {
          "unique_count": 3,
          "nan_count": 0,
          "categories": [
           {
            "name": "3",
            "count": 2
           },
           {
            "name": "4",
            "count": 2
           },
           {
            "name": "B-1",
            "count": 1
           }
          ]
         }
        },
        {
         "name": "Qty of Hoods",
         "dtype": "float64",
         "stats": {
          "unique_count": 1,
          "nan_count": 0,
          "min": "1.0",
          "max": "1.0",
          "histogram": [
           {
            "bin_start": 0.5,
            "bin_end": 0.6,
            "count": 0
           },
           {
            "bin_start": 0.6,
            "bin_end": 0.7,
            "count": 0
           },
           {
            "bin_start": 0.7,
            "bin_end": 0.8,
            "count": 0
           },
           {
            "bin_start": 0.8,
            "bin_end": 0.9,
            "count": 0
           },
           {
            "bin_start": 0.9,
            "bin_end": 1,
            "count": 0
           },
           {
            "bin_start": 1,
            "bin_end": 1.1,
            "count": 5
           },
           {
            "bin_start": 1.1,
            "bin_end": 1.2000000000000002,
            "count": 0
           },
           {
            "bin_start": 1.2000000000000002,
            "bin_end": 1.3,
            "count": 0
           },
           {
            "bin_start": 1.3,
            "bin_end": 1.4,
            "count": 0
           },
           {
            "bin_start": 1.4,
            "bin_end": 1.5,
            "count": 0
           }
          ]
         }
        },
        {
         "name": "Windows (North)",
         "dtype": "float64",
         "stats": {
          "unique_count": 0,
          "nan_count": 5,
          "min": null,
          "max": null,
          "histogram": [
           {
            "bin_start": 0,
            "bin_end": 0.1,
            "count": 0
           },
           {
            "bin_start": 0.1,
            "bin_end": 0.2,
            "count": 0
           },
           {
            "bin_start": 0.2,
            "bin_end": 0.30000000000000004,
            "count": 0
           },
           {
            "bin_start": 0.30000000000000004,
            "bin_end": 0.4,
            "count": 0
           },
           {
            "bin_start": 0.4,
            "bin_end": 0.5,
            "count": 0
           },
           {
            "bin_start": 0.5,
            "bin_end": 0.6000000000000001,
            "count": 0
           },
           {
            "bin_start": 0.6000000000000001,
            "bin_end": 0.7000000000000001,
            "count": 0
           },
           {
            "bin_start": 0.7000000000000001,
            "bin_end": 0.8,
            "count": 0
           },
           {
            "bin_start": 0.8,
            "bin_end": 0.9,
            "count": 0
           },
           {
            "bin_start": 0.9,
            "bin_end": 1,
            "count": 0
           }
          ]
         }
        },
        {
         "name": "Windows (West)",
         "dtype": "float64",
         "stats": {
          "unique_count": 1,
          "nan_count": 3,
          "min": "2.0",
          "max": "2.0",
          "histogram": [
           {
            "bin_start": 1.5,
            "bin_end": 1.6,
            "count": 0
           },
           {
            "bin_start": 1.6,
            "bin_end": 1.7,
            "count": 0
           },
           {
            "bin_start": 1.7,
            "bin_end": 1.8,
            "count": 0
           },
           {
            "bin_start": 1.8,
            "bin_end": 1.9,
            "count": 0
           },
           {
            "bin_start": 1.9,
            "bin_end": 2,
            "count": 0
           },
           {
            "bin_start": 2,
            "bin_end": 2.1,
            "count": 2
           },
           {
            "bin_start": 2.1,
            "bin_end": 2.2,
            "count": 0
           },
           {
            "bin_start": 2.2,
            "bin_end": 2.3,
            "count": 0
           },
           {
            "bin_start": 2.3,
            "bin_end": 2.4,
            "count": 0
           },
           {
            "bin_start": 2.4,
            "bin_end": 2.5,
            "count": 0
           }
          ]
         }
        },
        {
         "name": "Windows (South)",
         "dtype": "float64",
         "stats": {
          "unique_count": 0,
          "nan_count": 5,
          "min": null,
          "max": null,
          "histogram": [
           {
            "bin_start": 0,
            "bin_end": 0.1,
            "count": 0
           },
           {
            "bin_start": 0.1,
            "bin_end": 0.2,
            "count": 0
           },
           {
            "bin_start": 0.2,
            "bin_end": 0.30000000000000004,
            "count": 0
           },
           {
            "bin_start": 0.30000000000000004,
            "bin_end": 0.4,
            "count": 0
           },
           {
            "bin_start": 0.4,
            "bin_end": 0.5,
            "count": 0
           },
           {
            "bin_start": 0.5,
            "bin_end": 0.6000000000000001,
            "count": 0
           },
           {
            "bin_start": 0.6000000000000001,
            "bin_end": 0.7000000000000001,
            "count": 0
           },
           {
            "bin_start": 0.7000000000000001,
            "bin_end": 0.8,
            "count": 0
           },
           {
            "bin_start": 0.8,
            "bin_end": 0.9,
            "count": 0
           },
           {
            "bin_start": 0.9,
            "bin_end": 1,
            "count": 0
           }
          ]
         }
        },
        {
         "name": "Windows (East)",
         "dtype": "float64",
         "stats": {
          "unique_count": 1,
          "nan_count": 2,
          "min": "2.0",
          "max": "2.0",
          "histogram": [
           {
            "bin_start": 1.5,
            "bin_end": 1.6,
            "count": 0
           },
           {
            "bin_start": 1.6,
            "bin_end": 1.7,
            "count": 0
           },
           {
            "bin_start": 1.7,
            "bin_end": 1.8,
            "count": 0
           },
           {
            "bin_start": 1.8,
            "bin_end": 1.9,
            "count": 0
           },
           {
            "bin_start": 1.9,
            "bin_end": 2,
            "count": 0
           },
           {
            "bin_start": 2,
            "bin_end": 2.1,
            "count": 3
           },
           {
            "bin_start": 2.1,
            "bin_end": 2.2,
            "count": 0
           },
           {
            "bin_start": 2.2,
            "bin_end": 2.3,
            "count": 0
           },
           {
            "bin_start": 2.3,
            "bin_end": 2.4,
            "count": 0
           },
           {
            "bin_start": 2.4,
            "bin_end": 2.5,
            "count": 0
           }
          ]
         }
        },
        {
         "name": "Augmented Controls",
         "dtype": "object",
         "stats": {
          "unique_count": 5,
          "nan_count": 0,
          "categories": [
           {
            "name": "A/C-43",
            "count": 1
           },
           {
            "name": "A/C-23",
            "count": 1
           },
           {
            "name": "3 others",
            "count": 3
           }
          ]
         }
        },
        {
         "name": "Sensors Description",
         "dtype": "object",
         "stats": {
          "unique_count": 2,
          "nan_count": 0,
          "categories": [
           {
            "name": "JCI  TE-6314P-1",
            "count": 4
           },
           {
            "name": "JCI  TE-6314P-1 Temperature",
            "count": 1
           }
          ]
         }
        },
        {
         "name": "HVAC Systems Supplying Room",
         "dtype": "object",
         "stats": {
          "unique_count": 4,
          "nan_count": 0,
          "categories": [
           {
            "name": "AHU-8",
            "count": 2
           },
           {
            "name": "AHU-6",
            "count": 1
           },
           {
            "name": "2 others",
            "count": 2
           }
          ]
         }
        },
        {
         "name": "Exhaust/Return System",
         "dtype": "object",
         "stats": {
          "unique_count": 2,
          "nan_count": 0,
          "categories": [
           {
            "name": "EF-4",
            "count": 3
           },
           {
            "name": "EF-11",
            "count": 2
           }
          ]
         }
        },
        {
         "name": "Unnamed: 13",
         "dtype": "float64",
         "stats": {
          "unique_count": 0,
          "nan_count": 5,
          "min": null,
          "max": null,
          "histogram": [
           {
            "bin_start": 0,
            "bin_end": 0.1,
            "count": 0
           },
           {
            "bin_start": 0.1,
            "bin_end": 0.2,
            "count": 0
           },
           {
            "bin_start": 0.2,
            "bin_end": 0.30000000000000004,
            "count": 0
           },
           {
            "bin_start": 0.30000000000000004,
            "bin_end": 0.4,
            "count": 0
           },
           {
            "bin_start": 0.4,
            "bin_end": 0.5,
            "count": 0
           },
           {
            "bin_start": 0.5,
            "bin_end": 0.6000000000000001,
            "count": 0
           },
           {
            "bin_start": 0.6000000000000001,
            "bin_end": 0.7000000000000001,
            "count": 0
           },
           {
            "bin_start": 0.7000000000000001,
            "bin_end": 0.8,
            "count": 0
           },
           {
            "bin_start": 0.8,
            "bin_end": 0.9,
            "count": 0
           },
           {
            "bin_start": 0.9,
            "bin_end": 1,
            "count": 0
           }
          ]
         }
        },
        {
         "name": "_deepnote_index_column",
         "dtype": "int64"
        }
       ],
       "rows_top": [
        {
         "LabTitle": "TB15",
         "Building": "T",
         "Room #": "B-15",
         "Floor": "B-1",
         "Qty of Hoods": 1,
         "Windows (North)": "nan",
         "Windows (West)": "nan",
         "Windows (South)": "nan",
         "Windows (East)": 2,
         "Augmented Controls": "A/C-43",
         "Sensors Description": "JCI  TE-6314P-1 Temperature",
         "HVAC Systems Supplying Room": "AHU-8",
         "Exhaust/Return System": "EF-4",
         "Unnamed: 13": "nan",
         "_deepnote_index_column": 0
        },
        {
         "LabTitle": "T302",
         "Building": "T",
         "Room #": "302",
         "Floor": "3",
         "Qty of Hoods": 1,
         "Windows (North)": "nan",
         "Windows (West)": 2,
         "Windows (South)": "nan",
         "Windows (East)": "nan",
         "Augmented Controls": "A/C-23",
         "Sensors Description": "JCI  TE-6314P-1",
         "HVAC Systems Supplying Room": "AHU-6",
         "Exhaust/Return System": "EF-4",
         "Unnamed: 13": "nan",
         "_deepnote_index_column": 1
        },
        {
         "LabTitle": "T303",
         "Building": "T",
         "Room #": "303",
         "Floor": "3",
         "Qty of Hoods": 1,
         "Windows (North)": "nan",
         "Windows (West)": "nan",
         "Windows (South)": "nan",
         "Windows (East)": 2,
         "Augmented Controls": "A/C-23A",
         "Sensors Description": "JCI  TE-6314P-1",
         "HVAC Systems Supplying Room": "AHU-8",
         "Exhaust/Return System": "EF-4",
         "Unnamed: 13": "nan",
         "_deepnote_index_column": 2
        },
        {
         "LabTitle": "T446",
         "Building": "T",
         "Room #": "446",
         "Floor": "4",
         "Qty of Hoods": 1,
         "Windows (North)": "nan",
         "Windows (West)": 2,
         "Windows (South)": "nan",
         "Windows (East)": "nan",
         "Augmented Controls": "A/C-22",
         "Sensors Description": "JCI  TE-6314P-1",
         "HVAC Systems Supplying Room": "AHU-12",
         "Exhaust/Return System": "EF-11",
         "Unnamed: 13": "nan",
         "_deepnote_index_column": 3
        },
        {
         "LabTitle": "T449",
         "Building": "T",
         "Room #": "449/451",
         "Floor": "4",
         "Qty of Hoods": 1,
         "Windows (North)": "nan",
         "Windows (West)": "nan",
         "Windows (South)": "nan",
         "Windows (East)": 2,
         "Augmented Controls": "A/C-13B",
         "Sensors Description": "JCI  TE-6314P-1",
         "HVAC Systems Supplying Room": "AHU-15",
         "Exhaust/Return System": "EF-11",
         "Unnamed: 13": "nan",
         "_deepnote_index_column": 4
        }
       ],
       "rows_bottom": null
      },
      "text/html": [
       "<div>\n",
       "<style scoped>\n",
       "    .dataframe tbody tr th:only-of-type {\n",
       "        vertical-align: middle;\n",
       "    }\n",
       "\n",
       "    .dataframe tbody tr th {\n",
       "        vertical-align: top;\n",
       "    }\n",
       "\n",
       "    .dataframe thead th {\n",
       "        text-align: right;\n",
       "    }\n",
       "</style>\n",
       "<table border=\"1\" class=\"dataframe\">\n",
       "  <thead>\n",
       "    <tr style=\"text-align: right;\">\n",
       "      <th></th>\n",
       "      <th>LabTitle</th>\n",
       "      <th>Building</th>\n",
       "      <th>Room #</th>\n",
       "      <th>Floor</th>\n",
       "      <th>Qty of Hoods</th>\n",
       "      <th>Windows (North)</th>\n",
       "      <th>Windows (West)</th>\n",
       "      <th>Windows (South)</th>\n",
       "      <th>Windows (East)</th>\n",
       "      <th>Augmented Controls</th>\n",
       "      <th>Sensors Description</th>\n",
       "      <th>HVAC Systems Supplying Room</th>\n",
       "      <th>Exhaust/Return System</th>\n",
       "      <th>Unnamed: 13</th>\n",
       "    </tr>\n",
       "  </thead>\n",
       "  <tbody>\n",
       "    <tr>\n",
       "      <th>0</th>\n",
       "      <td>TB15</td>\n",
       "      <td>T</td>\n",
       "      <td>B-15</td>\n",
       "      <td>B-1</td>\n",
       "      <td>1.0</td>\n",
       "      <td>NaN</td>\n",
       "      <td>NaN</td>\n",
       "      <td>NaN</td>\n",
       "      <td>2.0</td>\n",
       "      <td>A/C-43</td>\n",
       "      <td>JCI  TE-6314P-1 Temperature</td>\n",
       "      <td>AHU-8</td>\n",
       "      <td>EF-4</td>\n",
       "      <td>NaN</td>\n",
       "    </tr>\n",
       "    <tr>\n",
       "      <th>1</th>\n",
       "      <td>T302</td>\n",
       "      <td>T</td>\n",
       "      <td>302</td>\n",
       "      <td>3</td>\n",
       "      <td>1.0</td>\n",
       "      <td>NaN</td>\n",
       "      <td>2.0</td>\n",
       "      <td>NaN</td>\n",
       "      <td>NaN</td>\n",
       "      <td>A/C-23</td>\n",
       "      <td>JCI  TE-6314P-1</td>\n",
       "      <td>AHU-6</td>\n",
       "      <td>EF-4</td>\n",
       "      <td>NaN</td>\n",
       "    </tr>\n",
       "    <tr>\n",
       "      <th>2</th>\n",
       "      <td>T303</td>\n",
       "      <td>T</td>\n",
       "      <td>303</td>\n",
       "      <td>3</td>\n",
       "      <td>1.0</td>\n",
       "      <td>NaN</td>\n",
       "      <td>NaN</td>\n",
       "      <td>NaN</td>\n",
       "      <td>2.0</td>\n",
       "      <td>A/C-23A</td>\n",
       "      <td>JCI  TE-6314P-1</td>\n",
       "      <td>AHU-8</td>\n",
       "      <td>EF-4</td>\n",
       "      <td>NaN</td>\n",
       "    </tr>\n",
       "    <tr>\n",
       "      <th>3</th>\n",
       "      <td>T446</td>\n",
       "      <td>T</td>\n",
       "      <td>446</td>\n",
       "      <td>4</td>\n",
       "      <td>1.0</td>\n",
       "      <td>NaN</td>\n",
       "      <td>2.0</td>\n",
       "      <td>NaN</td>\n",
       "      <td>NaN</td>\n",
       "      <td>A/C-22</td>\n",
       "      <td>JCI  TE-6314P-1</td>\n",
       "      <td>AHU-12</td>\n",
       "      <td>EF-11</td>\n",
       "      <td>NaN</td>\n",
       "    </tr>\n",
       "    <tr>\n",
       "      <th>4</th>\n",
       "      <td>T449</td>\n",
       "      <td>T</td>\n",
       "      <td>449/451</td>\n",
       "      <td>4</td>\n",
       "      <td>1.0</td>\n",
       "      <td>NaN</td>\n",
       "      <td>NaN</td>\n",
       "      <td>NaN</td>\n",
       "      <td>2.0</td>\n",
       "      <td>A/C-13B</td>\n",
       "      <td>JCI  TE-6314P-1</td>\n",
       "      <td>AHU-15</td>\n",
       "      <td>EF-11</td>\n",
       "      <td>NaN</td>\n",
       "    </tr>\n",
       "  </tbody>\n",
       "</table>\n",
       "</div>"
      ],
      "text/plain": [
       "  LabTitle Building   Room # Floor  Qty of Hoods  Windows (North)  \\\n",
       "0     TB15        T     B-15   B-1           1.0              NaN   \n",
       "1     T302        T      302     3           1.0              NaN   \n",
       "2     T303        T      303     3           1.0              NaN   \n",
       "3     T446        T      446     4           1.0              NaN   \n",
       "4     T449        T  449/451     4           1.0              NaN   \n",
       "\n",
       "   Windows (West)  Windows (South)  Windows (East) Augmented Controls  \\\n",
       "0             NaN              NaN             2.0             A/C-43   \n",
       "1             2.0              NaN             NaN             A/C-23   \n",
       "2             NaN              NaN             2.0            A/C-23A   \n",
       "3             2.0              NaN             NaN             A/C-22   \n",
       "4             NaN              NaN             2.0            A/C-13B   \n",
       "\n",
       "           Sensors Description HVAC Systems Supplying Room  \\\n",
       "0  JCI  TE-6314P-1 Temperature                       AHU-8   \n",
       "1              JCI  TE-6314P-1                       AHU-6   \n",
       "2              JCI  TE-6314P-1                       AHU-8   \n",
       "3              JCI  TE-6314P-1                      AHU-12   \n",
       "4              JCI  TE-6314P-1                      AHU-15   \n",
       "\n",
       "  Exhaust/Return System  Unnamed: 13  \n",
       "0                  EF-4          NaN  \n",
       "1                  EF-4          NaN  \n",
       "2                  EF-4          NaN  \n",
       "3                 EF-11          NaN  \n",
       "4                 EF-11          NaN  "
      ]
     },
     "metadata": {},
     "execution_count": 39
    }
   ],
   "metadata": {
    "tags": [],
    "deepnote_to_be_reexecuted": false,
    "source_hash": "377247de",
    "execution_start": 1633982499580,
    "execution_millis": 54,
    "cell_id": "00006-4c1a5a9f-a360-4273-97dc-5004714b8760",
    "deepnote_cell_type": "code"
   }
  },
  {
   "cell_type": "code",
   "execution_count": 46,
   "source": [
    "# find dict object that matches each row + add columns\n",
    "# adds summary info to labs[lab]\n",
    "'''\n",
    "for index, row in df_s.iterrows():\n",
    "    lab_title = row[0]\n",
    "    for i in range(1, len(row) - 1):\n",
    "        if lab_title in labs:\n",
    "            labs[lab_title][df_s.columns[i]] = row[i]\n",
    "\n",
    "'''\n",
    "\n",
    "labs['TB01'].tail(10)\n"
   ],
   "outputs": [
    {
     "output_type": "execute_result",
     "data": {
      "application/vnd.deepnote.dataframe.v2+json": {
       "row_count": 10,
       "column_count": 3,
       "columns": [
        {
         "name": "Time",
         "dtype": "object",
         "stats": {
          "unique_count": 10,
          "nan_count": 0,
          "categories": [
           {
            "name": "9/8/21 22:00",
            "count": 1
           },
           {
            "name": "9/8/21 23:00",
            "count": 1
           },
           {
            "name": "8 others",
            "count": 8
           }
          ]
         }
        },
        {
         "name": "HUMIDITY %. Trend (%RH)",
         "dtype": "object",
         "stats": {
          "unique_count": 10,
          "nan_count": 0,
          "categories": [
           {
            "name": "53.6",
            "count": 1
           },
           {
            "name": "55.1",
            "count": 1
           },
           {
            "name": "8 others",
            "count": 8
           }
          ]
         }
        },
        {
         "name": "Trend (deg F)",
         "dtype": "object",
         "stats": {
          "unique_count": 6,
          "nan_count": 0,
          "categories": [
           {
            "name": "72.6",
            "count": 4
           },
           {
            "name": "73.1",
            "count": 2
           },
           {
            "name": "4 others",
            "count": 4
           }
          ]
         }
        },
        {
         "name": "_deepnote_index_column",
         "dtype": "int64"
        }
       ],
       "rows_top": [
        {
         "Time": "9/8/21 22:00",
         "HUMIDITY %. Trend (%RH)": "53.6",
         "Trend (deg F)": "73.1",
         "_deepnote_index_column": 3226
        },
        {
         "Time": "9/8/21 23:00",
         "HUMIDITY %. Trend (%RH)": "55.1",
         "Trend (deg F)": "73",
         "_deepnote_index_column": 3227
        },
        {
         "Time": "9/9/21 0:00",
         "HUMIDITY %. Trend (%RH)": "56.4",
         "Trend (deg F)": "73.1",
         "_deepnote_index_column": 3228
        },
        {
         "Time": "9/9/21 1:00",
         "HUMIDITY %. Trend (%RH)": "57.3",
         "Trend (deg F)": "72.9",
         "_deepnote_index_column": 3229
        },
        {
         "Time": "9/9/21 2:00",
         "HUMIDITY %. Trend (%RH)": "57.4",
         "Trend (deg F)": "72.8",
         "_deepnote_index_column": 3230
        },
        {
         "Time": "9/9/21 3:00",
         "HUMIDITY %. Trend (%RH)": "57.7",
         "Trend (deg F)": "72.7",
         "_deepnote_index_column": 3231
        },
        {
         "Time": "9/9/21 4:00",
         "HUMIDITY %. Trend (%RH)": "57.8",
         "Trend (deg F)": "72.6",
         "_deepnote_index_column": 3232
        },
        {
         "Time": "9/9/21 5:00",
         "HUMIDITY %. Trend (%RH)": "56.7",
         "Trend (deg F)": "72.6",
         "_deepnote_index_column": 3233
        },
        {
         "Time": "9/9/21 6:00",
         "HUMIDITY %. Trend (%RH)": "56.2",
         "Trend (deg F)": "72.6",
         "_deepnote_index_column": 3234
        },
        {
         "Time": "9/9/21 7:00",
         "HUMIDITY %. Trend (%RH)": "55.5",
         "Trend (deg F)": "72.6",
         "_deepnote_index_column": 3235
        }
       ],
       "rows_bottom": null
      },
      "text/html": [
       "<div>\n",
       "<style scoped>\n",
       "    .dataframe tbody tr th:only-of-type {\n",
       "        vertical-align: middle;\n",
       "    }\n",
       "\n",
       "    .dataframe tbody tr th {\n",
       "        vertical-align: top;\n",
       "    }\n",
       "\n",
       "    .dataframe thead th {\n",
       "        text-align: right;\n",
       "    }\n",
       "</style>\n",
       "<table border=\"1\" class=\"dataframe\">\n",
       "  <thead>\n",
       "    <tr style=\"text-align: right;\">\n",
       "      <th></th>\n",
       "      <th>Time</th>\n",
       "      <th>HUMIDITY %. Trend (%RH)</th>\n",
       "      <th>Trend (deg F)</th>\n",
       "    </tr>\n",
       "  </thead>\n",
       "  <tbody>\n",
       "    <tr>\n",
       "      <th>3226</th>\n",
       "      <td>9/8/21 22:00</td>\n",
       "      <td>53.6</td>\n",
       "      <td>73.1</td>\n",
       "    </tr>\n",
       "    <tr>\n",
       "      <th>3227</th>\n",
       "      <td>9/8/21 23:00</td>\n",
       "      <td>55.1</td>\n",
       "      <td>73</td>\n",
       "    </tr>\n",
       "    <tr>\n",
       "      <th>3228</th>\n",
       "      <td>9/9/21 0:00</td>\n",
       "      <td>56.4</td>\n",
       "      <td>73.1</td>\n",
       "    </tr>\n",
       "    <tr>\n",
       "      <th>3229</th>\n",
       "      <td>9/9/21 1:00</td>\n",
       "      <td>57.3</td>\n",
       "      <td>72.9</td>\n",
       "    </tr>\n",
       "    <tr>\n",
       "      <th>3230</th>\n",
       "      <td>9/9/21 2:00</td>\n",
       "      <td>57.4</td>\n",
       "      <td>72.8</td>\n",
       "    </tr>\n",
       "    <tr>\n",
       "      <th>3231</th>\n",
       "      <td>9/9/21 3:00</td>\n",
       "      <td>57.7</td>\n",
       "      <td>72.7</td>\n",
       "    </tr>\n",
       "    <tr>\n",
       "      <th>3232</th>\n",
       "      <td>9/9/21 4:00</td>\n",
       "      <td>57.8</td>\n",
       "      <td>72.6</td>\n",
       "    </tr>\n",
       "    <tr>\n",
       "      <th>3233</th>\n",
       "      <td>9/9/21 5:00</td>\n",
       "      <td>56.7</td>\n",
       "      <td>72.6</td>\n",
       "    </tr>\n",
       "    <tr>\n",
       "      <th>3234</th>\n",
       "      <td>9/9/21 6:00</td>\n",
       "      <td>56.2</td>\n",
       "      <td>72.6</td>\n",
       "    </tr>\n",
       "    <tr>\n",
       "      <th>3235</th>\n",
       "      <td>9/9/21 7:00</td>\n",
       "      <td>55.5</td>\n",
       "      <td>72.6</td>\n",
       "    </tr>\n",
       "  </tbody>\n",
       "</table>\n",
       "</div>"
      ],
      "text/plain": [
       "              Time HUMIDITY %. Trend (%RH) Trend (deg F)\n",
       "3226  9/8/21 22:00                    53.6          73.1\n",
       "3227  9/8/21 23:00                    55.1            73\n",
       "3228   9/9/21 0:00                    56.4          73.1\n",
       "3229   9/9/21 1:00                    57.3          72.9\n",
       "3230   9/9/21 2:00                    57.4          72.8\n",
       "3231   9/9/21 3:00                    57.7          72.7\n",
       "3232   9/9/21 4:00                    57.8          72.6\n",
       "3233   9/9/21 5:00                    56.7          72.6\n",
       "3234   9/9/21 6:00                    56.2          72.6\n",
       "3235   9/9/21 7:00                    55.5          72.6"
      ]
     },
     "metadata": {},
     "execution_count": 46
    }
   ],
   "metadata": {
    "tags": [],
    "deepnote_to_be_reexecuted": false,
    "source_hash": "419c59a7",
    "execution_start": 1633982668920,
    "execution_millis": 15,
    "cell_id": "00007-51f61197-cb14-473f-9350-c3492ea710ba",
    "deepnote_cell_type": "code"
   }
  },
  {
   "cell_type": "code",
   "execution_count": 35,
   "source": [
    "labSummary = {}\n",
    "\n",
    "for index, row in df_s.iterrows():\n",
    "    lab_title = row[0]\n",
    "\n",
    "    labSummary[lab_title] = pd.DataFrame([row], columns=df_s.columns)\n"
   ],
   "outputs": [
    {
     "output_type": "execute_result",
     "data": {
      "application/vnd.deepnote.dataframe.v2+json": {
       "row_count": 1,
       "column_count": 14,
       "columns": [
        {
         "name": "LabTitle",
         "dtype": "object",
         "stats": {
          "unique_count": 1,
          "nan_count": 0,
          "categories": [
           {
            "name": "TB15",
            "count": 1
           }
          ]
         }
        },
        {
         "name": "Building",
         "dtype": "object",
         "stats": {
          "unique_count": 1,
          "nan_count": 0,
          "categories": [
           {
            "name": "T",
            "count": 1
           }
          ]
         }
        },
        {
         "name": "Room #",
         "dtype": "object",
         "stats": {
          "unique_count": 1,
          "nan_count": 0,
          "categories": [
           {
            "name": "B-15",
            "count": 1
           }
          ]
         }
        },
        {
         "name": "Floor",
         "dtype": "object",
         "stats": {
          "unique_count": 1,
          "nan_count": 0,
          "categories": [
           {
            "name": "B-1",
            "count": 1
           }
          ]
         }
        },
        {
         "name": "Qty of Hoods",
         "dtype": "float64",
         "stats": {
          "unique_count": 1,
          "nan_count": 0,
          "min": "1.0",
          "max": "1.0",
          "histogram": [
           {
            "bin_start": 0.5,
            "bin_end": 0.6,
            "count": 0
           },
           {
            "bin_start": 0.6,
            "bin_end": 0.7,
            "count": 0
           },
           {
            "bin_start": 0.7,
            "bin_end": 0.8,
            "count": 0
           },
           {
            "bin_start": 0.8,
            "bin_end": 0.9,
            "count": 0
           },
           {
            "bin_start": 0.9,
            "bin_end": 1,
            "count": 0
           },
           {
            "bin_start": 1,
            "bin_end": 1.1,
            "count": 1
           },
           {
            "bin_start": 1.1,
            "bin_end": 1.2000000000000002,
            "count": 0
           },
           {
            "bin_start": 1.2000000000000002,
            "bin_end": 1.3,
            "count": 0
           },
           {
            "bin_start": 1.3,
            "bin_end": 1.4,
            "count": 0
           },
           {
            "bin_start": 1.4,
            "bin_end": 1.5,
            "count": 0
           }
          ]
         }
        },
        {
         "name": "Windows (North)",
         "dtype": "float64",
         "stats": {
          "unique_count": 0,
          "nan_count": 1,
          "min": null,
          "max": null,
          "histogram": [
           {
            "bin_start": 0,
            "bin_end": 0.1,
            "count": 0
           },
           {
            "bin_start": 0.1,
            "bin_end": 0.2,
            "count": 0
           },
           {
            "bin_start": 0.2,
            "bin_end": 0.30000000000000004,
            "count": 0
           },
           {
            "bin_start": 0.30000000000000004,
            "bin_end": 0.4,
            "count": 0
           },
           {
            "bin_start": 0.4,
            "bin_end": 0.5,
            "count": 0
           },
           {
            "bin_start": 0.5,
            "bin_end": 0.6000000000000001,
            "count": 0
           },
           {
            "bin_start": 0.6000000000000001,
            "bin_end": 0.7000000000000001,
            "count": 0
           },
           {
            "bin_start": 0.7000000000000001,
            "bin_end": 0.8,
            "count": 0
           },
           {
            "bin_start": 0.8,
            "bin_end": 0.9,
            "count": 0
           },
           {
            "bin_start": 0.9,
            "bin_end": 1,
            "count": 0
           }
          ]
         }
        },
        {
         "name": "Windows (West)",
         "dtype": "float64",
         "stats": {
          "unique_count": 0,
          "nan_count": 1,
          "min": null,
          "max": null,
          "histogram": [
           {
            "bin_start": 0,
            "bin_end": 0.1,
            "count": 0
           },
           {
            "bin_start": 0.1,
            "bin_end": 0.2,
            "count": 0
           },
           {
            "bin_start": 0.2,
            "bin_end": 0.30000000000000004,
            "count": 0
           },
           {
            "bin_start": 0.30000000000000004,
            "bin_end": 0.4,
            "count": 0
           },
           {
            "bin_start": 0.4,
            "bin_end": 0.5,
            "count": 0
           },
           {
            "bin_start": 0.5,
            "bin_end": 0.6000000000000001,
            "count": 0
           },
           {
            "bin_start": 0.6000000000000001,
            "bin_end": 0.7000000000000001,
            "count": 0
           },
           {
            "bin_start": 0.7000000000000001,
            "bin_end": 0.8,
            "count": 0
           },
           {
            "bin_start": 0.8,
            "bin_end": 0.9,
            "count": 0
           },
           {
            "bin_start": 0.9,
            "bin_end": 1,
            "count": 0
           }
          ]
         }
        },
        {
         "name": "Windows (South)",
         "dtype": "float64",
         "stats": {
          "unique_count": 0,
          "nan_count": 1,
          "min": null,
          "max": null,
          "histogram": [
           {
            "bin_start": 0,
            "bin_end": 0.1,
            "count": 0
           },
           {
            "bin_start": 0.1,
            "bin_end": 0.2,
            "count": 0
           },
           {
            "bin_start": 0.2,
            "bin_end": 0.30000000000000004,
            "count": 0
           },
           {
            "bin_start": 0.30000000000000004,
            "bin_end": 0.4,
            "count": 0
           },
           {
            "bin_start": 0.4,
            "bin_end": 0.5,
            "count": 0
           },
           {
            "bin_start": 0.5,
            "bin_end": 0.6000000000000001,
            "count": 0
           },
           {
            "bin_start": 0.6000000000000001,
            "bin_end": 0.7000000000000001,
            "count": 0
           },
           {
            "bin_start": 0.7000000000000001,
            "bin_end": 0.8,
            "count": 0
           },
           {
            "bin_start": 0.8,
            "bin_end": 0.9,
            "count": 0
           },
           {
            "bin_start": 0.9,
            "bin_end": 1,
            "count": 0
           }
          ]
         }
        },
        {
         "name": "Windows (East)",
         "dtype": "float64",
         "stats": {
          "unique_count": 1,
          "nan_count": 0,
          "min": "2.0",
          "max": "2.0",
          "histogram": [
           {
            "bin_start": 1.5,
            "bin_end": 1.6,
            "count": 0
           },
           {
            "bin_start": 1.6,
            "bin_end": 1.7,
            "count": 0
           },
           {
            "bin_start": 1.7,
            "bin_end": 1.8,
            "count": 0
           },
           {
            "bin_start": 1.8,
            "bin_end": 1.9,
            "count": 0
           },
           {
            "bin_start": 1.9,
            "bin_end": 2,
            "count": 0
           },
           {
            "bin_start": 2,
            "bin_end": 2.1,
            "count": 1
           },
           {
            "bin_start": 2.1,
            "bin_end": 2.2,
            "count": 0
           },
           {
            "bin_start": 2.2,
            "bin_end": 2.3,
            "count": 0
           },
           {
            "bin_start": 2.3,
            "bin_end": 2.4,
            "count": 0
           },
           {
            "bin_start": 2.4,
            "bin_end": 2.5,
            "count": 0
           }
          ]
         }
        },
        {
         "name": "Augmented Controls",
         "dtype": "object",
         "stats": {
          "unique_count": 1,
          "nan_count": 0,
          "categories": [
           {
            "name": "A/C-43",
            "count": 1
           }
          ]
         }
        },
        {
         "name": "Sensors Description",
         "dtype": "object",
         "stats": {
          "unique_count": 1,
          "nan_count": 0,
          "categories": [
           {
            "name": "JCI  TE-6314P-1 Temperature",
            "count": 1
           }
          ]
         }
        },
        {
         "name": "HVAC Systems Supplying Room",
         "dtype": "object",
         "stats": {
          "unique_count": 1,
          "nan_count": 0,
          "categories": [
           {
            "name": "AHU-8",
            "count": 1
           }
          ]
         }
        },
        {
         "name": "Exhaust/Return System",
         "dtype": "object",
         "stats": {
          "unique_count": 1,
          "nan_count": 0,
          "categories": [
           {
            "name": "EF-4",
            "count": 1
           }
          ]
         }
        },
        {
         "name": "Unnamed: 13",
         "dtype": "float64",
         "stats": {
          "unique_count": 0,
          "nan_count": 1,
          "min": null,
          "max": null,
          "histogram": [
           {
            "bin_start": 0,
            "bin_end": 0.1,
            "count": 0
           },
           {
            "bin_start": 0.1,
            "bin_end": 0.2,
            "count": 0
           },
           {
            "bin_start": 0.2,
            "bin_end": 0.30000000000000004,
            "count": 0
           },
           {
            "bin_start": 0.30000000000000004,
            "bin_end": 0.4,
            "count": 0
           },
           {
            "bin_start": 0.4,
            "bin_end": 0.5,
            "count": 0
           },
           {
            "bin_start": 0.5,
            "bin_end": 0.6000000000000001,
            "count": 0
           },
           {
            "bin_start": 0.6000000000000001,
            "bin_end": 0.7000000000000001,
            "count": 0
           },
           {
            "bin_start": 0.7000000000000001,
            "bin_end": 0.8,
            "count": 0
           },
           {
            "bin_start": 0.8,
            "bin_end": 0.9,
            "count": 0
           },
           {
            "bin_start": 0.9,
            "bin_end": 1,
            "count": 0
           }
          ]
         }
        },
        {
         "name": "_deepnote_index_column",
         "dtype": "int64"
        }
       ],
       "rows_top": [
        {
         "LabTitle": "TB15",
         "Building": "T",
         "Room #": "B-15",
         "Floor": "B-1",
         "Qty of Hoods": 1,
         "Windows (North)": "nan",
         "Windows (West)": "nan",
         "Windows (South)": "nan",
         "Windows (East)": 2,
         "Augmented Controls": "A/C-43",
         "Sensors Description": "JCI  TE-6314P-1 Temperature",
         "HVAC Systems Supplying Room": "AHU-8",
         "Exhaust/Return System": "EF-4",
         "Unnamed: 13": "nan",
         "_deepnote_index_column": 0
        }
       ],
       "rows_bottom": null
      },
      "text/html": [
       "<div>\n",
       "<style scoped>\n",
       "    .dataframe tbody tr th:only-of-type {\n",
       "        vertical-align: middle;\n",
       "    }\n",
       "\n",
       "    .dataframe tbody tr th {\n",
       "        vertical-align: top;\n",
       "    }\n",
       "\n",
       "    .dataframe thead th {\n",
       "        text-align: right;\n",
       "    }\n",
       "</style>\n",
       "<table border=\"1\" class=\"dataframe\">\n",
       "  <thead>\n",
       "    <tr style=\"text-align: right;\">\n",
       "      <th></th>\n",
       "      <th>LabTitle</th>\n",
       "      <th>Building</th>\n",
       "      <th>Room #</th>\n",
       "      <th>Floor</th>\n",
       "      <th>Qty of Hoods</th>\n",
       "      <th>Windows (North)</th>\n",
       "      <th>Windows (West)</th>\n",
       "      <th>Windows (South)</th>\n",
       "      <th>Windows (East)</th>\n",
       "      <th>Augmented Controls</th>\n",
       "      <th>Sensors Description</th>\n",
       "      <th>HVAC Systems Supplying Room</th>\n",
       "      <th>Exhaust/Return System</th>\n",
       "      <th>Unnamed: 13</th>\n",
       "    </tr>\n",
       "  </thead>\n",
       "  <tbody>\n",
       "    <tr>\n",
       "      <th>0</th>\n",
       "      <td>TB15</td>\n",
       "      <td>T</td>\n",
       "      <td>B-15</td>\n",
       "      <td>B-1</td>\n",
       "      <td>1.0</td>\n",
       "      <td>NaN</td>\n",
       "      <td>NaN</td>\n",
       "      <td>NaN</td>\n",
       "      <td>2.0</td>\n",
       "      <td>A/C-43</td>\n",
       "      <td>JCI  TE-6314P-1 Temperature</td>\n",
       "      <td>AHU-8</td>\n",
       "      <td>EF-4</td>\n",
       "      <td>NaN</td>\n",
       "    </tr>\n",
       "  </tbody>\n",
       "</table>\n",
       "</div>"
      ],
      "text/plain": [
       "  LabTitle Building Room # Floor  Qty of Hoods  Windows (North)  \\\n",
       "0     TB15        T   B-15   B-1           1.0              NaN   \n",
       "\n",
       "   Windows (West)  Windows (South)  Windows (East) Augmented Controls  \\\n",
       "0             NaN              NaN             2.0             A/C-43   \n",
       "\n",
       "           Sensors Description HVAC Systems Supplying Room  \\\n",
       "0  JCI  TE-6314P-1 Temperature                       AHU-8   \n",
       "\n",
       "  Exhaust/Return System  Unnamed: 13  \n",
       "0                  EF-4          NaN  "
      ]
     },
     "metadata": {},
     "execution_count": 35
    }
   ],
   "metadata": {
    "tags": [],
    "deepnote_to_be_reexecuted": false,
    "source_hash": "608c177f",
    "execution_start": 1633982452620,
    "execution_millis": 88,
    "cell_id": "00008-5a063bf8-9cfd-4a4a-bceb-21080f642152",
    "deepnote_cell_type": "code"
   }
  },
  {
   "cell_type": "code",
   "execution_count": 88,
   "source": [
    "for lab in labs.values():\n",
    "    lab.dropna(inplace=True)"
   ],
   "outputs": [],
   "metadata": {
    "tags": [],
    "cell_id": "00010-cdc4f989-b413-484d-9937-90563df3208d",
    "deepnote_to_be_reexecuted": false,
    "source_hash": "cea62986",
    "execution_start": 1633983907918,
    "execution_millis": 33,
    "deepnote_cell_type": "code"
   }
  },
  {
   "cell_type": "code",
   "execution_count": 89,
   "source": [
    "labs['H353'].head(10)"
   ],
   "outputs": [
    {
     "output_type": "execute_result",
     "data": {
      "application/vnd.deepnote.dataframe.v2+json": {
       "row_count": 10,
       "column_count": 3,
       "columns": [
        {
         "name": "Time",
         "dtype": "object",
         "stats": {
          "unique_count": 10,
          "nan_count": 0,
          "categories": [
           {
            "name": "6/21/21 9:00",
            "count": 1
           },
           {
            "name": "6/21/21 10:00",
            "count": 1
           },
           {
            "name": "8 others",
            "count": 8
           }
          ]
         }
        },
        {
         "name": "HUMIDITY %. Trend (%RH)",
         "dtype": "object",
         "stats": {
          "unique_count": 7,
          "nan_count": 0,
          "categories": [
           {
            "name": "76",
            "count": 2
           },
           {
            "name": "71",
            "count": 2
           },
           {
            "name": "5 others",
            "count": 6
           }
          ]
         }
        },
        {
         "name": "Trend (deg F)",
         "dtype": "object",
         "stats": {
          "unique_count": 4,
          "nan_count": 0,
          "categories": [
           {
            "name": "72.6",
            "count": 4
           },
           {
            "name": "72.4",
            "count": 3
           },
           {
            "name": "2 others",
            "count": 3
           }
          ]
         }
        },
        {
         "name": "_deepnote_index_column",
         "dtype": "int64"
        }
       ],
       "rows_top": [
        {
         "Time": "6/21/21 9:00",
         "HUMIDITY %. Trend (%RH)": "76",
         "Trend (deg F)": "72.5",
         "_deepnote_index_column": 1317
        },
        {
         "Time": "6/21/21 10:00",
         "HUMIDITY %. Trend (%RH)": "76",
         "Trend (deg F)": "72.6",
         "_deepnote_index_column": 1318
        },
        {
         "Time": "6/21/21 11:00",
         "HUMIDITY %. Trend (%RH)": "73",
         "Trend (deg F)": "72.6",
         "_deepnote_index_column": 1319
        },
        {
         "Time": "6/21/21 12:00",
         "HUMIDITY %. Trend (%RH)": "71",
         "Trend (deg F)": "72.6",
         "_deepnote_index_column": 1320
        },
        {
         "Time": "6/21/21 13:00",
         "HUMIDITY %. Trend (%RH)": "72",
         "Trend (deg F)": "72.7",
         "_deepnote_index_column": 1321
        },
        {
         "Time": "6/21/21 14:00",
         "HUMIDITY %. Trend (%RH)": "80",
         "Trend (deg F)": "72.4",
         "_deepnote_index_column": 1322
        },
        {
         "Time": "6/21/21 15:00",
         "HUMIDITY %. Trend (%RH)": "80",
         "Trend (deg F)": "72.4",
         "_deepnote_index_column": 1323
        },
        {
         "Time": "6/21/21 16:00",
         "HUMIDITY %. Trend (%RH)": "78",
         "Trend (deg F)": "72.4",
         "_deepnote_index_column": 1324
        },
        {
         "Time": "6/21/21 17:00",
         "HUMIDITY %. Trend (%RH)": "71",
         "Trend (deg F)": "72.6",
         "_deepnote_index_column": 1325
        },
        {
         "Time": "6/21/21 18:00",
         "HUMIDITY %. Trend (%RH)": "70",
         "Trend (deg F)": "72.5",
         "_deepnote_index_column": 1326
        }
       ],
       "rows_bottom": null
      },
      "text/html": [
       "<div>\n",
       "<style scoped>\n",
       "    .dataframe tbody tr th:only-of-type {\n",
       "        vertical-align: middle;\n",
       "    }\n",
       "\n",
       "    .dataframe tbody tr th {\n",
       "        vertical-align: top;\n",
       "    }\n",
       "\n",
       "    .dataframe thead th {\n",
       "        text-align: right;\n",
       "    }\n",
       "</style>\n",
       "<table border=\"1\" class=\"dataframe\">\n",
       "  <thead>\n",
       "    <tr style=\"text-align: right;\">\n",
       "      <th></th>\n",
       "      <th>Time</th>\n",
       "      <th>HUMIDITY %. Trend (%RH)</th>\n",
       "      <th>Trend (deg F)</th>\n",
       "    </tr>\n",
       "  </thead>\n",
       "  <tbody>\n",
       "    <tr>\n",
       "      <th>1317</th>\n",
       "      <td>6/21/21 9:00</td>\n",
       "      <td>76</td>\n",
       "      <td>72.5</td>\n",
       "    </tr>\n",
       "    <tr>\n",
       "      <th>1318</th>\n",
       "      <td>6/21/21 10:00</td>\n",
       "      <td>76</td>\n",
       "      <td>72.6</td>\n",
       "    </tr>\n",
       "    <tr>\n",
       "      <th>1319</th>\n",
       "      <td>6/21/21 11:00</td>\n",
       "      <td>73</td>\n",
       "      <td>72.6</td>\n",
       "    </tr>\n",
       "    <tr>\n",
       "      <th>1320</th>\n",
       "      <td>6/21/21 12:00</td>\n",
       "      <td>71</td>\n",
       "      <td>72.6</td>\n",
       "    </tr>\n",
       "    <tr>\n",
       "      <th>1321</th>\n",
       "      <td>6/21/21 13:00</td>\n",
       "      <td>72</td>\n",
       "      <td>72.7</td>\n",
       "    </tr>\n",
       "    <tr>\n",
       "      <th>1322</th>\n",
       "      <td>6/21/21 14:00</td>\n",
       "      <td>80</td>\n",
       "      <td>72.4</td>\n",
       "    </tr>\n",
       "    <tr>\n",
       "      <th>1323</th>\n",
       "      <td>6/21/21 15:00</td>\n",
       "      <td>80</td>\n",
       "      <td>72.4</td>\n",
       "    </tr>\n",
       "    <tr>\n",
       "      <th>1324</th>\n",
       "      <td>6/21/21 16:00</td>\n",
       "      <td>78</td>\n",
       "      <td>72.4</td>\n",
       "    </tr>\n",
       "    <tr>\n",
       "      <th>1325</th>\n",
       "      <td>6/21/21 17:00</td>\n",
       "      <td>71</td>\n",
       "      <td>72.6</td>\n",
       "    </tr>\n",
       "    <tr>\n",
       "      <th>1326</th>\n",
       "      <td>6/21/21 18:00</td>\n",
       "      <td>70</td>\n",
       "      <td>72.5</td>\n",
       "    </tr>\n",
       "  </tbody>\n",
       "</table>\n",
       "</div>"
      ],
      "text/plain": [
       "               Time HUMIDITY %. Trend (%RH) Trend (deg F)\n",
       "1317   6/21/21 9:00                      76          72.5\n",
       "1318  6/21/21 10:00                      76          72.6\n",
       "1319  6/21/21 11:00                      73          72.6\n",
       "1320  6/21/21 12:00                      71          72.6\n",
       "1321  6/21/21 13:00                      72          72.7\n",
       "1322  6/21/21 14:00                      80          72.4\n",
       "1323  6/21/21 15:00                      80          72.4\n",
       "1324  6/21/21 16:00                      78          72.4\n",
       "1325  6/21/21 17:00                      71          72.6\n",
       "1326  6/21/21 18:00                      70          72.5"
      ]
     },
     "metadata": {},
     "execution_count": 89
    }
   ],
   "metadata": {
    "tags": [],
    "cell_id": "00011-60133d31-5ec3-40e2-8e92-71e5ff45561e",
    "deepnote_to_be_reexecuted": false,
    "source_hash": "f60e4b9b",
    "execution_start": 1633983909391,
    "execution_millis": 29,
    "deepnote_cell_type": "code"
   }
  },
  {
   "cell_type": "code",
   "execution_count": null,
   "source": [],
   "outputs": [],
   "metadata": {
    "tags": [],
    "cell_id": "00011-69a1bb36-b3cf-4adb-97d3-25e4310df4f3",
    "deepnote_cell_type": "code"
   }
  },
  {
   "cell_type": "markdown",
   "source": [
    "<a style='text-decoration:none;line-height:16px;display:flex;color:#5B5B62;padding:10px;justify-content:end;' href='https://deepnote.com?utm_source=created-in-deepnote-cell&projectId=bf8e464d-6614-4785-bf90-eb5b6d8a76b5' target=\"_blank\">\n",
    "<img alt='Created in deepnote.com' style='display:inline;max-height:16px;margin:0px;margin-right:7.5px;' src='data:image/svg+xml;base64,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' > </img>\n",
    "Created in <span style='font-weight:600;margin-left:4px;'>Deepnote</span></a>"
   ],
   "metadata": {
    "tags": [],
    "created_in_deepnote_cell": true,
    "deepnote_cell_type": "markdown"
   }
  }
 ],
 "nbformat": 4,
 "nbformat_minor": 2,
 "metadata": {
  "orig_nbformat": 2,
  "deepnote": {
   "is_reactive": false
  },
  "deepnote_notebook_id": "47575d64-f53c-4ca8-92d7-f59d8ae3c2ac",
  "deepnote_execution_queue": [],
  "language_info": {
   "name": "python"
  }
 }
}